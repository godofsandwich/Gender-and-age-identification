{
 "cells": [
  {
   "cell_type": "code",
   "execution_count": 1,
   "id": "b513267a",
   "metadata": {
    "_cell_guid": "b1076dfc-b9ad-4769-8c92-a6c4dae69d19",
    "_uuid": "8f2839f25d086af736a60e9eeb907d3b93b6e0e5",
    "execution": {
     "iopub.execute_input": "2023-04-22T10:19:35.726433Z",
     "iopub.status.busy": "2023-04-22T10:19:35.725900Z",
     "iopub.status.idle": "2023-04-22T10:19:39.162508Z",
     "shell.execute_reply": "2023-04-22T10:19:39.161485Z"
    },
    "papermill": {
     "duration": 3.447319,
     "end_time": "2023-04-22T10:19:39.165340",
     "exception": false,
     "start_time": "2023-04-22T10:19:35.718021",
     "status": "completed"
    },
    "tags": []
   },
   "outputs": [],
   "source": [
    "#Import PyTorch\n",
    "import torch\n",
    "from torch import nn\n",
    "import torch.nn.functional as F\n",
    "import torchvision.transforms.functional as TF\n",
    "from torch import optim\n",
    "\n",
    "#Import TorchVision\n",
    "import torchvision\n",
    "from torchvision import datasets\n",
    "from torchvision import transforms\n",
    "from torchvision.transforms import ToTensor\n",
    "import torchvision.models as models\n",
    "from torchvision.models import resnet\n",
    "from torchvision.models.resnet import ResNet, BasicBlock\n",
    "from torchvision.datasets import ImageFolder\n",
    "from torch.utils.data import DataLoader\n",
    "from torch.utils.data import Dataset\n",
    "\n",
    "#torchinfo for printing a model summary\n",
    "from torchinfo import summary\n",
    "\n",
    "#import other libraries\n",
    "from sklearn.model_selection import train_test_split\n",
    "from sklearn.metrics import confusion_matrix\n",
    "from matplotlib import pyplot as plt\n",
    "import pandas as pd\n",
    "import numpy as np\n",
    "from PIL import Image\n",
    "import seaborn as sns\n",
    "import os\n",
    "import random \n",
    "import shutil\n",
    "from tqdm.auto import tqdm\n",
    "import zipfile\n",
    "import pickle\n",
    "import joblib"
   ]
  },
  {
   "cell_type": "code",
   "execution_count": 2,
   "id": "fc0406af",
   "metadata": {
    "execution": {
     "iopub.execute_input": "2023-04-22T10:19:39.177334Z",
     "iopub.status.busy": "2023-04-22T10:19:39.176857Z",
     "iopub.status.idle": "2023-04-22T10:19:39.239098Z",
     "shell.execute_reply": "2023-04-22T10:19:39.238076Z"
    },
    "papermill": {
     "duration": 0.070452,
     "end_time": "2023-04-22T10:19:39.241171",
     "exception": false,
     "start_time": "2023-04-22T10:19:39.170719",
     "status": "completed"
    },
    "tags": []
   },
   "outputs": [],
   "source": [
    "# Setup device agnostic code\n",
    "device = \"cuda\" if torch.cuda.is_available() else \"cpu\""
   ]
  },
  {
   "cell_type": "code",
   "execution_count": 3,
   "id": "2bbe0260",
   "metadata": {
    "execution": {
     "iopub.execute_input": "2023-04-22T10:19:39.252823Z",
     "iopub.status.busy": "2023-04-22T10:19:39.251995Z",
     "iopub.status.idle": "2023-04-22T10:19:39.257907Z",
     "shell.execute_reply": "2023-04-22T10:19:39.257032Z"
    },
    "papermill": {
     "duration": 0.01378,
     "end_time": "2023-04-22T10:19:39.259991",
     "exception": false,
     "start_time": "2023-04-22T10:19:39.246211",
     "status": "completed"
    },
    "tags": []
   },
   "outputs": [],
   "source": [
    "# # Path to the folder containing the images\n",
    "# images_path = \"/kaggle/input/utkface-new/UTKFace\"\n",
    "\n",
    "# # Path to the folder where the training and testing sets will be saved\n",
    "# train_path = \"/kaggle/working/utk_train\"\n",
    "# test_path = \"/kaggle/working/utk_test\"\n",
    "\n",
    "# # Load image file names into memory\n",
    "# image_files = []\n",
    "# for filename in os.listdir(images_path):\n",
    "#     if filename.endswith(\".jpg\"):\n",
    "#         filepath = os.path.join(images_path, filename)\n",
    "#         image_files.append(filepath)\n",
    "\n",
    "# # Split image files into training and testing sets\n",
    "# train_files, test_files = train_test_split(image_files, test_size=0.2, random_state=42)\n",
    "\n",
    "# # Move training images to the train folder\n",
    "# for filepath in train_files:\n",
    "#     filename = os.path.basename(filepath)\n",
    "#     dest = os.path.join(train_path, filename)\n",
    "#     shutil.copyfile(filepath, dest)\n",
    "\n",
    "# # Move testing images to the test folder\n",
    "# for filepath in test_files:\n",
    "#     filename = os.path.basename(filepath)\n",
    "#     dest = os.path.join(test_path, filename)\n",
    "#     shutil.copyfile(filepath, dest)\n",
    "\n",
    "# # Print number of images in each set\n",
    "# print(\"Number of training images:\", len(train_files))\n",
    "# print(\"Number of testing images:\", len(test_files))\n"
   ]
  },
  {
   "cell_type": "code",
   "execution_count": 4,
   "id": "f517df60",
   "metadata": {
    "execution": {
     "iopub.execute_input": "2023-04-22T10:19:39.271366Z",
     "iopub.status.busy": "2023-04-22T10:19:39.270600Z",
     "iopub.status.idle": "2023-04-22T10:19:39.275304Z",
     "shell.execute_reply": "2023-04-22T10:19:39.274443Z"
    },
    "papermill": {
     "duration": 0.012244,
     "end_time": "2023-04-22T10:19:39.277170",
     "exception": false,
     "start_time": "2023-04-22T10:19:39.264926",
     "status": "completed"
    },
    "tags": []
   },
   "outputs": [],
   "source": [
    "# # replace 'input_folder' with the name of the folder containing your data in '/kaggle/input/'\n",
    "# input_folder = 'age-periocular/images'\n",
    "\n",
    "# # replace 'working_folder' with the name of the folder where you want to store the copied data in '/kaggle/working/'\n",
    "# working_folder = 'data'\n",
    "\n",
    "# # copy the contents of the input folder to the working folder\n",
    "# shutil.copytree(f'/kaggle/input/{input_folder}', f'/kaggle/working/{working_folder}')\n"
   ]
  },
  {
   "cell_type": "code",
   "execution_count": 5,
   "id": "bb15918d",
   "metadata": {
    "execution": {
     "iopub.execute_input": "2023-04-22T10:19:39.288319Z",
     "iopub.status.busy": "2023-04-22T10:19:39.288040Z",
     "iopub.status.idle": "2023-04-22T10:19:39.628618Z",
     "shell.execute_reply": "2023-04-22T10:19:39.627604Z"
    },
    "papermill": {
     "duration": 0.349191,
     "end_time": "2023-04-22T10:19:39.631149",
     "exception": false,
     "start_time": "2023-04-22T10:19:39.281958",
     "status": "completed"
    },
    "tags": []
   },
   "outputs": [],
   "source": [
    "def class_labels_reassign(age):\n",
    "    if 1 <= age <= 10:\n",
    "        return 0\n",
    "    elif 11 <= age <= 20:\n",
    "        return 1\n",
    "    elif 21 <= age <= 30:\n",
    "        return 2\n",
    "    elif 31 <= age <= 40:\n",
    "        return 3\n",
    "    elif 41 <= age <= 50:\n",
    "        return 4\n",
    "    elif 51 <= age <= 60:\n",
    "        return 5\n",
    "    elif 61 <= age <= 70:\n",
    "        return 6\n",
    "    elif 71 <= age <= 80:\n",
    "        return 7\n",
    "    elif 81 <= age <= 90:\n",
    "        return 8\n",
    "    else:\n",
    "        return 9\n",
    "\n",
    "class CustomDataset1(Dataset):\n",
    "    def __init__(self, data_dir,transform=None):\n",
    "        self.data_dir = data_dir\n",
    "        self.img_paths = sorted(os.listdir(data_dir))\n",
    "        self.transforms = transforms.Compose([\n",
    "            transforms.Resize((224, 224)),\n",
    "            transforms.RandomHorizontalFlip(),\n",
    "            transforms.ToTensor(),\n",
    "            transforms.Normalize([0.5, 0.5, 0.5], [0.5, 0.5, 0.5])\n",
    "        ])    \n",
    "    def __len__(self):\n",
    "        return len(self.img_paths)    \n",
    "    def __getitem__(self, idx):\n",
    "        img_path = os.path.join(self.data_dir, self.img_paths[idx])\n",
    "        img = Image.open(img_path).convert('RGB')\n",
    "        age = int(img_path.split('/')[-1].split('A')[1][:2])\n",
    "        age_label = class_labels_reassign(age) \n",
    "        img = self.transforms(img)\n",
    "        return img, age_label\n",
    "    \n",
    "class CustomDataset2(Dataset):\n",
    "    def __init__(self, data_dir,transform=None):\n",
    "        self.data_dir = data_dir\n",
    "        self.img_paths = sorted(os.listdir(data_dir))\n",
    "        self.transforms = transforms.Compose([\n",
    "            transforms.Resize((224, 224)),\n",
    "            transforms.RandomHorizontalFlip(),\n",
    "            transforms.ToTensor(),\n",
    "            transforms.Normalize([0.5, 0.5, 0.5], [0.5, 0.5, 0.5])\n",
    "        ])    \n",
    "    def __len__(self):\n",
    "        return len(self.img_paths)    \n",
    "    def __getitem__(self, idx):\n",
    "        img_path = os.path.join(self.data_dir, self.img_paths[idx])\n",
    "        img = Image.open(img_path).convert('RGB')\n",
    "        age = int(img_path.split('/')[-1].split('_')[0])\n",
    "        age_label = class_labels_reassign(age) \n",
    "        img = self.transforms(img)\n",
    "        return img, age_label\n",
    "    \n",
    "train_data = CustomDataset2('/kaggle/input/utk-split/utk_train')\n",
    "train_loader = DataLoader(train_data, batch_size=64, shuffle=True, num_workers=2)\n",
    "\n",
    "test_data = CustomDataset2('/kaggle/input/utk-split/utk_test')\n",
    "test_loader = DataLoader(test_data, batch_size=64, shuffle=False, num_workers=2)\n",
    "\n"
   ]
  },
  {
   "cell_type": "code",
   "execution_count": 6,
   "id": "5a42f7cd",
   "metadata": {
    "execution": {
     "iopub.execute_input": "2023-04-22T10:19:39.643104Z",
     "iopub.status.busy": "2023-04-22T10:19:39.642255Z",
     "iopub.status.idle": "2023-04-22T10:19:39.646659Z",
     "shell.execute_reply": "2023-04-22T10:19:39.645629Z"
    },
    "papermill": {
     "duration": 0.012347,
     "end_time": "2023-04-22T10:19:39.648705",
     "exception": false,
     "start_time": "2023-04-22T10:19:39.636358",
     "status": "completed"
    },
    "tags": []
   },
   "outputs": [],
   "source": [
    "# img_path = '/kaggle/input/utk-split/utk_test/115_1_0_20170120134725990.jpg.chip.jpg'\n",
    "# img = Image.open(img_path).convert('RGB')\n",
    "# age_label = int(img_path.split('/')[-1].split('_')[0])\n",
    "# age_interval = class_labels_reassign(age_label)\n",
    "# print(age_interval)\n"
   ]
  },
  {
   "cell_type": "code",
   "execution_count": 7,
   "id": "ffde68e8",
   "metadata": {
    "execution": {
     "iopub.execute_input": "2023-04-22T10:19:39.660160Z",
     "iopub.status.busy": "2023-04-22T10:19:39.659281Z",
     "iopub.status.idle": "2023-04-22T10:19:39.663774Z",
     "shell.execute_reply": "2023-04-22T10:19:39.662879Z"
    },
    "papermill": {
     "duration": 0.012143,
     "end_time": "2023-04-22T10:19:39.665740",
     "exception": false,
     "start_time": "2023-04-22T10:19:39.653597",
     "status": "completed"
    },
    "tags": []
   },
   "outputs": [],
   "source": [
    "# img_path = '/kaggle/input/fgnet/FGNET/images/001A22.JPG'\n",
    "# img = Image.open(img_path).convert('RGB')\n",
    "# age = int(img_path.split('/')[-1].split('A')[1][:2])\n",
    "# age_interval = class_labels_reassign(age)\n",
    "# print(age_interval)\n"
   ]
  },
  {
   "cell_type": "code",
   "execution_count": 8,
   "id": "8c78ecb3",
   "metadata": {
    "execution": {
     "iopub.execute_input": "2023-04-22T10:19:39.676889Z",
     "iopub.status.busy": "2023-04-22T10:19:39.676633Z",
     "iopub.status.idle": "2023-04-22T10:19:41.562804Z",
     "shell.execute_reply": "2023-04-22T10:19:41.561734Z"
    },
    "papermill": {
     "duration": 1.894463,
     "end_time": "2023-04-22T10:19:41.565337",
     "exception": false,
     "start_time": "2023-04-22T10:19:39.670874",
     "status": "completed"
    },
    "tags": []
   },
   "outputs": [],
   "source": [
    "# Define ResNet-18 model\n",
    "model = resnet.resnet50()\n",
    "model.load_state_dict(torch.load('/kaggle/input/resnet-50/resnet50-0676ba61.pth'))\n",
    "num_ftrs = model.fc.in_features\n",
    "model.fc = nn.Linear(num_ftrs, 10)"
   ]
  },
  {
   "cell_type": "code",
   "execution_count": 9,
   "id": "b77de86d",
   "metadata": {
    "execution": {
     "iopub.execute_input": "2023-04-22T10:19:41.577580Z",
     "iopub.status.busy": "2023-04-22T10:19:41.577073Z",
     "iopub.status.idle": "2023-04-22T10:19:41.581986Z",
     "shell.execute_reply": "2023-04-22T10:19:41.580923Z"
    },
    "papermill": {
     "duration": 0.013543,
     "end_time": "2023-04-22T10:19:41.584196",
     "exception": false,
     "start_time": "2023-04-22T10:19:41.570653",
     "status": "completed"
    },
    "tags": []
   },
   "outputs": [],
   "source": [
    "# # Define the folder path\n",
    "# folder_path = \"/kaggle/working/\"\n",
    "\n",
    "# # Define the filenames to be deleted\n",
    "# file_names = [\"utk_train.zip\",\"utk_test.zip\"]\n",
    "\n",
    "# # Loop through the filenames and delete them\n",
    "# for file_name in file_names:\n",
    "#     file_path = os.path.join(folder_path, file_name)\n",
    "#     os.remove(file_path)"
   ]
  },
  {
   "cell_type": "code",
   "execution_count": 10,
   "id": "c49c81e2",
   "metadata": {
    "execution": {
     "iopub.execute_input": "2023-04-22T10:19:41.595260Z",
     "iopub.status.busy": "2023-04-22T10:19:41.594978Z",
     "iopub.status.idle": "2023-04-22T11:53:57.178488Z",
     "shell.execute_reply": "2023-04-22T11:53:57.177208Z"
    },
    "papermill": {
     "duration": 5655.600466,
     "end_time": "2023-04-22T11:53:57.189669",
     "exception": false,
     "start_time": "2023-04-22T10:19:41.589203",
     "status": "completed"
    },
    "tags": []
   },
   "outputs": [
    {
     "data": {
      "application/vnd.jupyter.widget-view+json": {
       "model_id": "8bcb95b31e7b48dc81a1e4e68d81dca4",
       "version_major": 2,
       "version_minor": 0
      },
      "text/plain": [
       "  0%|          | 0/50 [00:00<?, ?it/s]"
      ]
     },
     "metadata": {},
     "output_type": "display_data"
    },
    {
     "name": "stdout",
     "output_type": "stream",
     "text": [
      "Epoch 1: Train Loss: 1.3748, Train Acc: 48.46%, Test Loss: 1.1473, Test Acc: 54.96%\n",
      "Epoch 2: Train Loss: 1.0526, Train Acc: 57.57%, Test Loss: 1.0484, Test Acc: 57.78%\n",
      "Epoch 3: Train Loss: 0.9252, Train Acc: 62.41%, Test Loss: 0.9810, Test Acc: 60.57%\n",
      "Epoch 4: Train Loss: 0.8274, Train Acc: 66.14%, Test Loss: 0.9793, Test Acc: 59.62%\n",
      "Epoch 5: Train Loss: 0.7278, Train Acc: 70.42%, Test Loss: 1.0209, Test Acc: 58.54%\n",
      "Epoch 6: Train Loss: 0.6197, Train Acc: 75.36%, Test Loss: 1.0439, Test Acc: 59.30%\n",
      "Epoch 7: Train Loss: 0.5228, Train Acc: 80.19%, Test Loss: 1.2205, Test Acc: 55.69%\n",
      "Epoch 8: Train Loss: 0.4372, Train Acc: 83.33%, Test Loss: 1.2022, Test Acc: 58.81%\n",
      "Epoch 9: Train Loss: 0.3702, Train Acc: 86.29%, Test Loss: 1.3104, Test Acc: 56.50%\n",
      "Epoch 10: Train Loss: 0.3083, Train Acc: 89.01%, Test Loss: 1.3820, Test Acc: 58.33%\n",
      "Epoch 11: Train Loss: 0.2634, Train Acc: 90.89%, Test Loss: 1.4485, Test Acc: 60.06%\n",
      "Epoch 12: Train Loss: 0.2334, Train Acc: 92.07%, Test Loss: 1.5370, Test Acc: 56.73%\n",
      "Epoch 13: Train Loss: 0.1892, Train Acc: 93.80%, Test Loss: 1.5938, Test Acc: 59.64%\n",
      "Epoch 14: Train Loss: 0.1625, Train Acc: 94.84%, Test Loss: 1.6139, Test Acc: 58.12%\n",
      "Epoch 15: Train Loss: 0.1409, Train Acc: 95.56%, Test Loss: 1.6198, Test Acc: 58.50%\n",
      "Epoch 16: Train Loss: 0.1159, Train Acc: 96.59%, Test Loss: 1.6724, Test Acc: 60.10%\n",
      "Epoch 17: Train Loss: 0.1042, Train Acc: 96.82%, Test Loss: 1.7161, Test Acc: 58.56%\n",
      "Epoch 18: Train Loss: 0.0871, Train Acc: 97.55%, Test Loss: 1.7598, Test Acc: 59.53%\n",
      "Epoch 19: Train Loss: 0.0811, Train Acc: 97.60%, Test Loss: 1.8206, Test Acc: 58.67%\n",
      "Epoch 20: Train Loss: 0.0637, Train Acc: 98.21%, Test Loss: 1.7793, Test Acc: 58.33%\n",
      "Epoch 21: Train Loss: 0.0576, Train Acc: 98.49%, Test Loss: 1.8296, Test Acc: 59.22%\n",
      "Epoch 22: Train Loss: 0.0534, Train Acc: 98.71%, Test Loss: 1.9540, Test Acc: 58.58%\n",
      "Epoch 23: Train Loss: 0.0489, Train Acc: 98.66%, Test Loss: 2.0137, Test Acc: 59.74%\n",
      "Epoch 24: Train Loss: 0.0433, Train Acc: 98.96%, Test Loss: 1.9164, Test Acc: 59.85%\n",
      "Epoch 25: Train Loss: 0.0396, Train Acc: 99.08%, Test Loss: 1.9518, Test Acc: 58.50%\n",
      "Epoch 26: Train Loss: 0.0386, Train Acc: 99.02%, Test Loss: 1.9941, Test Acc: 59.19%\n",
      "Epoch 27: Train Loss: 0.0308, Train Acc: 99.20%, Test Loss: 2.0219, Test Acc: 59.41%\n",
      "Epoch 28: Train Loss: 0.0267, Train Acc: 99.32%, Test Loss: 1.9950, Test Acc: 59.05%\n",
      "Epoch 29: Train Loss: 0.0268, Train Acc: 99.29%, Test Loss: 1.9885, Test Acc: 59.93%\n",
      "Epoch 30: Train Loss: 0.0206, Train Acc: 99.44%, Test Loss: 2.0342, Test Acc: 58.39%\n",
      "Epoch 31: Train Loss: 0.0251, Train Acc: 99.34%, Test Loss: 1.9839, Test Acc: 59.95%\n",
      "Epoch 32: Train Loss: 0.0215, Train Acc: 99.42%, Test Loss: 2.0195, Test Acc: 59.72%\n",
      "Epoch 33: Train Loss: 0.0198, Train Acc: 99.38%, Test Loss: 2.0439, Test Acc: 59.28%\n",
      "Epoch 34: Train Loss: 0.0170, Train Acc: 99.48%, Test Loss: 2.0388, Test Acc: 59.70%\n",
      "Epoch 35: Train Loss: 0.0160, Train Acc: 99.47%, Test Loss: 2.0283, Test Acc: 59.41%\n",
      "Epoch 36: Train Loss: 0.0161, Train Acc: 99.44%, Test Loss: 2.1014, Test Acc: 59.55%\n",
      "Epoch 37: Train Loss: 0.0150, Train Acc: 99.48%, Test Loss: 2.1032, Test Acc: 59.87%\n",
      "Epoch 38: Train Loss: 0.0143, Train Acc: 99.50%, Test Loss: 2.0878, Test Acc: 59.60%\n",
      "Epoch 39: Train Loss: 0.0128, Train Acc: 99.50%, Test Loss: 2.0770, Test Acc: 59.53%\n",
      "Epoch 40: Train Loss: 0.0135, Train Acc: 99.48%, Test Loss: 2.1207, Test Acc: 60.14%\n",
      "Epoch 41: Train Loss: 0.0146, Train Acc: 99.41%, Test Loss: 2.1025, Test Acc: 60.31%\n",
      "Epoch 42: Train Loss: 0.0124, Train Acc: 99.52%, Test Loss: 2.0913, Test Acc: 59.66%\n",
      "Epoch 43: Train Loss: 0.0138, Train Acc: 99.43%, Test Loss: 2.1779, Test Acc: 59.91%\n",
      "Epoch 44: Train Loss: 0.0155, Train Acc: 99.42%, Test Loss: 2.1214, Test Acc: 59.55%\n",
      "Epoch 45: Train Loss: 0.0134, Train Acc: 99.51%, Test Loss: 2.1373, Test Acc: 59.74%\n",
      "Epoch 46: Train Loss: 0.0110, Train Acc: 99.54%, Test Loss: 2.1562, Test Acc: 60.23%\n",
      "Epoch 47: Train Loss: 0.0121, Train Acc: 99.46%, Test Loss: 2.1451, Test Acc: 60.35%\n",
      "Epoch 48: Train Loss: 0.0123, Train Acc: 99.49%, Test Loss: 2.1955, Test Acc: 60.38%\n",
      "Epoch 49: Train Loss: 0.0113, Train Acc: 99.50%, Test Loss: 2.1517, Test Acc: 60.38%\n",
      "Epoch 50: Train Loss: 0.0108, Train Acc: 99.50%, Test Loss: 2.1494, Test Acc: 59.74%\n"
     ]
    }
   ],
   "source": [
    "device = torch.device(\"cuda\" if torch.cuda.is_available() else \"cpu\")\n",
    "\n",
    "model = model\n",
    "# num_ftrs = model.fc.in_features\n",
    "# model.fc = nn.Linear(num_ftrs, 10) # 10 classes in our case\n",
    "model = model.to(device)\n",
    "\n",
    "criterion = nn.CrossEntropyLoss()\n",
    "optimizer = optim.SGD(model.parameters(), lr=0.001, momentum=0.9)\n",
    "\n",
    "def train(model, train_loader, criterion, optimizer, device):\n",
    "    model.train()\n",
    "    running_loss = 0.0\n",
    "    correct = 0\n",
    "    total = 0\n",
    "    for i, (inputs, labels) in enumerate(train_loader):\n",
    "        inputs = inputs.to(device)\n",
    "        labels = labels.to(device)\n",
    "        optimizer.zero_grad()\n",
    "        outputs = model(inputs)\n",
    "        #print(outputs)\n",
    "        loss = criterion(outputs, labels)\n",
    "        loss.backward()\n",
    "        optimizer.step()\n",
    "        running_loss += loss.item() * inputs.size(0)\n",
    "        _, predicted = outputs.max(1)\n",
    "        total += labels.size(0)\n",
    "        correct += predicted.eq(labels).sum().item()\n",
    "    train_loss = running_loss / len(train_loader.dataset)\n",
    "    train_acc = 100. * correct / total\n",
    "    return train_loss, train_acc\n",
    "\n",
    "def test(model, test_loader, criterion, device):\n",
    "    model.eval()\n",
    "    running_loss = 0.0\n",
    "    correct = 0\n",
    "    total = 0\n",
    "    with torch.no_grad():\n",
    "        for i, (inputs, labels) in enumerate(test_loader):\n",
    "            inputs = inputs.to(device)\n",
    "            labels = labels.to(device)\n",
    "            outputs = model(inputs)\n",
    "            #print(labels)\n",
    "            loss = criterion(outputs, labels)\n",
    "            running_loss += loss.item() * inputs.size(0)\n",
    "            _, predicted = outputs.max(1)\n",
    "            total += labels.size(0)\n",
    "            correct += predicted.eq(labels).sum().item()\n",
    "    test_loss = running_loss / len(test_loader.dataset)\n",
    "    test_acc = 100. * correct / total\n",
    "    return test_loss, test_acc\n",
    "\n",
    "n_epochs = 50\n",
    "for epoch in tqdm(range(1, n_epochs + 1)):\n",
    "    train_loss, train_acc = train(model, train_loader, criterion, optimizer, device)\n",
    "    test_loss, test_acc = test(model, test_loader, criterion, device)\n",
    "    print(f'Epoch {epoch}: Train Loss: {train_loss:.4f}, Train Acc: {train_acc:.2f}%, Test Loss: {test_loss:.4f}, Test Acc: {test_acc:.2f}%')\n"
   ]
  },
  {
   "cell_type": "code",
   "execution_count": 11,
   "id": "0638d320",
   "metadata": {
    "execution": {
     "iopub.execute_input": "2023-04-22T11:53:57.208227Z",
     "iopub.status.busy": "2023-04-22T11:53:57.206606Z",
     "iopub.status.idle": "2023-04-22T11:53:57.359733Z",
     "shell.execute_reply": "2023-04-22T11:53:57.358677Z"
    },
    "papermill": {
     "duration": 0.164918,
     "end_time": "2023-04-22T11:53:57.362512",
     "exception": false,
     "start_time": "2023-04-22T11:53:57.197594",
     "status": "completed"
    },
    "tags": []
   },
   "outputs": [],
   "source": [
    "torch.save(model.state_dict(), '/kaggle/working/PeriAge_resnet_v3.pth')"
   ]
  },
  {
   "cell_type": "code",
   "execution_count": 12,
   "id": "1077a053",
   "metadata": {
    "execution": {
     "iopub.execute_input": "2023-04-22T11:53:57.379819Z",
     "iopub.status.busy": "2023-04-22T11:53:57.379504Z",
     "iopub.status.idle": "2023-04-22T11:53:57.385047Z",
     "shell.execute_reply": "2023-04-22T11:53:57.384170Z"
    },
    "papermill": {
     "duration": 0.016648,
     "end_time": "2023-04-22T11:53:57.387102",
     "exception": false,
     "start_time": "2023-04-22T11:53:57.370454",
     "status": "completed"
    },
    "tags": []
   },
   "outputs": [],
   "source": [
    "# true_labels = []\n",
    "# predicted_labels = []\n",
    "\n",
    "# model.eval()\n",
    "# with torch.no_grad():\n",
    "#     for inputs, labels in train_loader:\n",
    "#         inputs = inputs.to(device)\n",
    "#         labels = labels.to(device)\n",
    "#         outputs = model(inputs)\n",
    "#         _, predicted = torch.max(outputs.data, 1)\n",
    "#         true_labels.extend(labels.cpu().numpy())\n",
    "#         predicted_labels.extend(predicted.cpu().numpy())\n",
    "\n",
    "# cm = confusion_matrix(true_labels, predicted_labels)\n",
    "\n",
    "# # Finally, you can print or visualize the confusion matrix\n",
    "# print(cm)\n"
   ]
  },
  {
   "cell_type": "code",
   "execution_count": 13,
   "id": "76dfa5ec",
   "metadata": {
    "execution": {
     "iopub.execute_input": "2023-04-22T11:53:57.403414Z",
     "iopub.status.busy": "2023-04-22T11:53:57.403099Z",
     "iopub.status.idle": "2023-04-22T11:53:57.408098Z",
     "shell.execute_reply": "2023-04-22T11:53:57.407187Z"
    },
    "papermill": {
     "duration": 0.015681,
     "end_time": "2023-04-22T11:53:57.410279",
     "exception": false,
     "start_time": "2023-04-22T11:53:57.394598",
     "status": "completed"
    },
    "tags": []
   },
   "outputs": [],
   "source": [
    "# true_labels = []\n",
    "# predicted_labels = []\n",
    "# model.eval()\n",
    "# with torch.no_grad():\n",
    "#     for inputs, labels in test_loader:\n",
    "#         inputs = inputs.to(device)\n",
    "#         labels = labels.to(device)\n",
    "#         outputs = model(inputs)\n",
    "#         _, predicted = torch.max(outputs.data, 1)\n",
    "#         true_labels.extend(labels.cpu().numpy())\n",
    "#         predicted_labels.extend(predicted.cpu().numpy())\n",
    "\n",
    "# cm = confusion_matrix(true_labels, predicted_labels)\n",
    "# print(cm)"
   ]
  },
  {
   "cell_type": "code",
   "execution_count": 14,
   "id": "629e7a99",
   "metadata": {
    "execution": {
     "iopub.execute_input": "2023-04-22T11:53:57.426538Z",
     "iopub.status.busy": "2023-04-22T11:53:57.426267Z",
     "iopub.status.idle": "2023-04-22T11:53:57.430874Z",
     "shell.execute_reply": "2023-04-22T11:53:57.429831Z"
    },
    "papermill": {
     "duration": 0.015129,
     "end_time": "2023-04-22T11:53:57.432992",
     "exception": false,
     "start_time": "2023-04-22T11:53:57.417863",
     "status": "completed"
    },
    "tags": []
   },
   "outputs": [],
   "source": [
    "# #Create Confusion Matrix for testing data for Random data\n",
    "# confusion_matrix = [[71, 19, 3, 5, 3, 1, 8],\n",
    "#                     [16, 22, 8, 7, 1, 0, 1],\n",
    "#                     [2, 3, 4, 3, 1, 0, 0],\n",
    "#                     [0, 3, 0, 0, 1, 0, 0],\n",
    "#                     [1, 1, 1, 1, 2, 0, 0],\n",
    "#                     [0, 0, 0, 0, 0, 0, 0],\n",
    "#                     [11, 1, 0, 0, 0, 0, 2]]\n",
    "\n",
    "# # Define class labels\n",
    "# class_labels = [\"1-10\", \"11-20\", \"21-30\", \"31-40\", \"41-50\", \"51-60\", \"61-70\"]\n",
    "\n",
    "# # Create heatmap using seaborn\n",
    "# sns.set(font_scale=1.4)\n",
    "# sns.heatmap(confusion_matrix, annot=True, cmap=\"Blues\", fmt=\"g\", xticklabels=class_labels, yticklabels=class_labels)\n",
    "\n",
    "# # Set plot labels\n",
    "# plt.xlabel(\"Predicted Labels\")\n",
    "# plt.ylabel(\"True Labels\")\n",
    "# plt.title(\"Confusion Matrix\")\n",
    "\n",
    "# # Show plot\n",
    "# plt.show()"
   ]
  },
  {
   "cell_type": "code",
   "execution_count": 15,
   "id": "91bd6844",
   "metadata": {
    "execution": {
     "iopub.execute_input": "2023-04-22T11:53:57.449551Z",
     "iopub.status.busy": "2023-04-22T11:53:57.448743Z",
     "iopub.status.idle": "2023-04-22T11:53:57.454043Z",
     "shell.execute_reply": "2023-04-22T11:53:57.453179Z"
    },
    "papermill": {
     "duration": 0.015797,
     "end_time": "2023-04-22T11:53:57.456209",
     "exception": false,
     "start_time": "2023-04-22T11:53:57.440412",
     "status": "completed"
    },
    "tags": []
   },
   "outputs": [],
   "source": [
    "# confusion_matrix = [[256, 0, 0, 0, 0, 0, 0, 0],\n",
    "#                    [0, 264, 0, 0, 0, 0, 0, 0],\n",
    "#                    [0, 0, 130, 0, 0, 0, 0, 0],\n",
    "#                    [0, 0, 0, 65, 0, 0, 0, 0],\n",
    "#                    [0, 0, 0, 0, 33, 0, 0, 0],\n",
    "#                    [0, 0, 0, 0, 0, 14, 0, 0],\n",
    "#                    [0, 0, 0, 0, 4, 0, 2, 1],\n",
    "#                    [0, 0, 0, 0, 0, 0, 0, 29]]\n",
    "\n",
    "# # Define class labels\n",
    "# class_labels = [\"1-10\", \"11-20\", \"21-30\", \"31-40\", \"41-50\", \"51-60\", \"61-70\"]\n",
    "\n",
    "# # Create heatmap using seaborn\n",
    "# sns.set(font_scale=1.4)\n",
    "# sns.heatmap(confusion_matrix, annot=True, cmap=\"Blues\", fmt=\"g\", xticklabels=class_labels, yticklabels=class_labels)\n",
    "\n",
    "# # Set plot labels\n",
    "# plt.xlabel(\"Predicted Labels\")\n",
    "# plt.ylabel(\"True Labels\")\n",
    "# plt.title(\"Confusion Matrix\")\n",
    "\n",
    "# # Show plot\n",
    "# plt.show()"
   ]
  },
  {
   "cell_type": "code",
   "execution_count": 16,
   "id": "4bbedf2e",
   "metadata": {
    "execution": {
     "iopub.execute_input": "2023-04-22T11:53:57.472173Z",
     "iopub.status.busy": "2023-04-22T11:53:57.471893Z",
     "iopub.status.idle": "2023-04-22T11:53:57.476519Z",
     "shell.execute_reply": "2023-04-22T11:53:57.475469Z"
    },
    "papermill": {
     "duration": 0.015352,
     "end_time": "2023-04-22T11:53:57.478949",
     "exception": false,
     "start_time": "2023-04-22T11:53:57.463597",
     "status": "completed"
    },
    "tags": []
   },
   "outputs": [],
   "source": [
    "# train_loss = [3.6078204283347497, 1.0828300301845257, 0.7821456973369305, 0.569744382913296, 0.42909533931658816, 0.35058144995799434, 0.375598736680471, 0.35029213015849775, 0.26209860696242404, 0.24780528705853683, 0.21145989631231016, 0.1919390490421882, 0.1478984814423781, 0.11406992934644222, 0.117084243764671, 0.1305352496699645, 0.1111809926537367, 0.1508219835276787, 0.14137629304940885, 0.08402698873900451]\n",
    "# test_loss = [11.021007776260376, 1.0369595140218735, 0.7897928059101105, 0.9411616325378418, 0.8159842193126678, 1.4034732282161713, 1.765362709760666, 1.1426731050014496, 1.275940015912056, 1.4342282861471176, 2.3172550797462463, 1.3849702179431915, 1.6262561529874802, 1.6498392224311829, 1.3512279391288757, 1.2401925027370453, 1.7677911818027496, 1.6769012659788132, 1.6533903181552887, 1.2347149848937988]\n",
    "# epochs = range(1, len(train_loss) + 1)\n",
    "\n",
    "# sns.set_style('whitegrid')\n",
    "# fig, ax = plt.subplots(figsize=(12, 6))\n",
    "\n",
    "# sns.lineplot(x=epochs, y=train_loss, label='Train Loss')\n",
    "# sns.lineplot(x=epochs, y=test_loss, label='Test Loss')\n",
    "\n",
    "# plt.title('Training and Test Loss')\n",
    "# plt.xlabel('Epochs')\n",
    "# plt.ylabel('Loss')\n",
    "# plt.legend()\n",
    "\n",
    "# plt.show()\n",
    "\n",
    "# #plt.savefig('mygraph.png', dpi=300)\n"
   ]
  },
  {
   "cell_type": "code",
   "execution_count": 17,
   "id": "f591d454",
   "metadata": {
    "execution": {
     "iopub.execute_input": "2023-04-22T11:53:57.495295Z",
     "iopub.status.busy": "2023-04-22T11:53:57.495022Z",
     "iopub.status.idle": "2023-04-22T11:53:57.499656Z",
     "shell.execute_reply": "2023-04-22T11:53:57.498754Z"
    },
    "papermill": {
     "duration": 0.015173,
     "end_time": "2023-04-22T11:53:57.501791",
     "exception": false,
     "start_time": "2023-04-22T11:53:57.486618",
     "status": "completed"
    },
    "tags": []
   },
   "outputs": [],
   "source": [
    "# filename = 'model_v2.sav'\n",
    "# model = joblib.load(filename)"
   ]
  },
  {
   "cell_type": "code",
   "execution_count": 18,
   "id": "7cd47de4",
   "metadata": {
    "execution": {
     "iopub.execute_input": "2023-04-22T11:53:57.518023Z",
     "iopub.status.busy": "2023-04-22T11:53:57.517754Z",
     "iopub.status.idle": "2023-04-22T11:53:57.521593Z",
     "shell.execute_reply": "2023-04-22T11:53:57.520514Z"
    },
    "papermill": {
     "duration": 0.01467,
     "end_time": "2023-04-22T11:53:57.524041",
     "exception": false,
     "start_time": "2023-04-22T11:53:57.509371",
     "status": "completed"
    },
    "tags": []
   },
   "outputs": [],
   "source": [
    "# model = PeriAge()\n",
    "# batch_size = 64\n",
    "# summary(model, input_size=(batch_size, 3, 224, 224))"
   ]
  },
  {
   "cell_type": "code",
   "execution_count": 19,
   "id": "b47c3e8f",
   "metadata": {
    "execution": {
     "iopub.execute_input": "2023-04-22T11:53:57.539979Z",
     "iopub.status.busy": "2023-04-22T11:53:57.539715Z",
     "iopub.status.idle": "2023-04-22T11:53:57.543821Z",
     "shell.execute_reply": "2023-04-22T11:53:57.542765Z"
    },
    "papermill": {
     "duration": 0.014491,
     "end_time": "2023-04-22T11:53:57.545948",
     "exception": false,
     "start_time": "2023-04-22T11:53:57.531457",
     "status": "completed"
    },
    "tags": []
   },
   "outputs": [],
   "source": [
    "# folder_path = \"/kaggle/working/utk_test\"\n",
    "# os.makedirs(folder_path, exist_ok=True)\n"
   ]
  },
  {
   "cell_type": "code",
   "execution_count": 20,
   "id": "35fa868f",
   "metadata": {
    "execution": {
     "iopub.execute_input": "2023-04-22T11:53:57.562796Z",
     "iopub.status.busy": "2023-04-22T11:53:57.561946Z",
     "iopub.status.idle": "2023-04-22T11:53:57.566587Z",
     "shell.execute_reply": "2023-04-22T11:53:57.565713Z"
    },
    "papermill": {
     "duration": 0.015109,
     "end_time": "2023-04-22T11:53:57.568586",
     "exception": false,
     "start_time": "2023-04-22T11:53:57.553477",
     "status": "completed"
    },
    "tags": []
   },
   "outputs": [],
   "source": [
    "# # replace 'input_folder' with the name of the folder containing your data in '/kaggle/input/'\n",
    "# input_folder = 'utkface-new'\n",
    "\n",
    "# # replace 'working_folder' with the name of the folder where you want to store the copied data in '/kaggle/working/'\n",
    "# working_folder = 'utk'\n",
    "\n",
    "# # copy the contents of the input folder to the working folder\n",
    "# shutil.copytree(f'/kaggle/input/{input_folder}', f'/kaggle/working/{working_folder}')\n"
   ]
  },
  {
   "cell_type": "code",
   "execution_count": 21,
   "id": "a5d2e2f7",
   "metadata": {
    "execution": {
     "iopub.execute_input": "2023-04-22T11:53:57.585200Z",
     "iopub.status.busy": "2023-04-22T11:53:57.584418Z",
     "iopub.status.idle": "2023-04-22T11:53:57.589014Z",
     "shell.execute_reply": "2023-04-22T11:53:57.588117Z"
    },
    "papermill": {
     "duration": 0.014987,
     "end_time": "2023-04-22T11:53:57.591075",
     "exception": false,
     "start_time": "2023-04-22T11:53:57.576088",
     "status": "completed"
    },
    "tags": []
   },
   "outputs": [],
   "source": [
    "# # Path to the folder containing the images\n",
    "# image_folder = \"/kaggle/input/utkface-new/UTKFace\"\n",
    "\n",
    "# # Count the number of image files in the folder\n",
    "# num_images = len([filename for filename in os.listdir(image_folder) if filename.endswith(('.jpg', '.jpeg', '.png', '.bmp'))])\n",
    "\n",
    "# # Print the number of image files\n",
    "# print(\"Number of images:\", num_images)\n"
   ]
  },
  {
   "cell_type": "code",
   "execution_count": 22,
   "id": "9fed226f",
   "metadata": {
    "execution": {
     "iopub.execute_input": "2023-04-22T11:53:57.607704Z",
     "iopub.status.busy": "2023-04-22T11:53:57.606856Z",
     "iopub.status.idle": "2023-04-22T11:53:57.611287Z",
     "shell.execute_reply": "2023-04-22T11:53:57.610417Z"
    },
    "papermill": {
     "duration": 0.014747,
     "end_time": "2023-04-22T11:53:57.613289",
     "exception": false,
     "start_time": "2023-04-22T11:53:57.598542",
     "status": "completed"
    },
    "tags": []
   },
   "outputs": [],
   "source": [
    "# shutil.rmtree('/kaggle/working/utk_train')\n"
   ]
  },
  {
   "cell_type": "code",
   "execution_count": 23,
   "id": "503160ed",
   "metadata": {
    "execution": {
     "iopub.execute_input": "2023-04-22T11:53:57.629925Z",
     "iopub.status.busy": "2023-04-22T11:53:57.629051Z",
     "iopub.status.idle": "2023-04-22T11:53:57.634845Z",
     "shell.execute_reply": "2023-04-22T11:53:57.633967Z"
    },
    "papermill": {
     "duration": 0.016158,
     "end_time": "2023-04-22T11:53:57.636894",
     "exception": false,
     "start_time": "2023-04-22T11:53:57.620736",
     "status": "completed"
    },
    "tags": []
   },
   "outputs": [],
   "source": [
    "# device = torch.device(\"cuda\" if torch.cuda.is_available() else \"cpu\")\n",
    "# model.to(device)\n",
    "\n",
    "# def get_age_range(age):\n",
    "#     if age == 0:\n",
    "#         return \"Age is in range 1-10\"\n",
    "#     elif age == 1: \n",
    "#         return \"Age is in range 11-20\"\n",
    "#     elif age == 2:\n",
    "#         return \"Age is in range 21-30\"\n",
    "#     elif age == 3:\n",
    "#         return \"Age is in range 31-40\"\n",
    "#     elif age == 4:\n",
    "#         return \"Age is in range 41-50\"\n",
    "#     elif age == 5:\n",
    "#         return \"Age is in range 51-60\"\n",
    "#     elif age == 6:\n",
    "#         return \"Age is in range 61-70\"\n",
    "#     elif age == 7:\n",
    "#         return \"Age is in range 71-80\"\n",
    "#     elif age == 8:\n",
    "#         return \"Age is in range 81-90\"\n",
    "#     else:\n",
    "#         return \"Age is above 90\"\n",
    "    \n",
    "\n",
    "# def preprocess_image(image_path):\n",
    "#     transform = transforms.Compose([\n",
    "#         transforms.Resize((224, 224)),\n",
    "#         transforms.ToTensor(),\n",
    "#         transforms.Normalize([0.485, 0.456, 0.406], [0.229, 0.224, 0.225])\n",
    "#     ])    \n",
    "#     image = Image.open(image_path).convert('RGB')\n",
    "#     image = transform(image)\n",
    "#     image = image.unsqueeze(0)    \n",
    "#     return image\n",
    "\n",
    "# def predict(model, image_path):\n",
    "#     image = preprocess_image(image_path)   \n",
    "#     image = image.to(device)   \n",
    "#     with torch.no_grad():\n",
    "#         output = model(image)\n",
    "#         #print(output.shape)\n",
    "#         #print(output)\n",
    "#         max_value, max_index = torch.max(output, dim=0)\n",
    "             \n",
    "#     #print(probs)\n",
    "#     #print(predicted.item())\n",
    "#     #print(max_index)\n",
    "#     return max_index.item()\n",
    "\n",
    "\n",
    "# image_path = '/kaggle/input/split-data/cleaned_data/train/002A16.JPG'\n",
    "# predicted_age = predict(model, image_path)\n",
    "# age_range = get_age_range(predicted_age)\n",
    "# print(age_range)\n",
    "\n",
    "# #print(f\"Predicted age: {predicted_age}\")\n"
   ]
  }
 ],
 "metadata": {
  "kernelspec": {
   "display_name": "Python 3",
   "language": "python",
   "name": "python3"
  },
  "language_info": {
   "codemirror_mode": {
    "name": "ipython",
    "version": 3
   },
   "file_extension": ".py",
   "mimetype": "text/x-python",
   "name": "python",
   "nbconvert_exporter": "python",
   "pygments_lexer": "ipython3",
   "version": "3.7.12"
  },
  "papermill": {
   "default_parameters": {},
   "duration": 5672.551337,
   "end_time": "2023-04-22T11:53:59.478768",
   "environment_variables": {},
   "exception": null,
   "input_path": "__notebook__.ipynb",
   "output_path": "__notebook__.ipynb",
   "parameters": {},
   "start_time": "2023-04-22T10:19:26.927431",
   "version": "2.4.0"
  },
  "widgets": {
   "application/vnd.jupyter.widget-state+json": {
    "state": {
     "036b931f85b84da1b6c422cf3ebfd1cb": {
      "model_module": "@jupyter-widgets/controls",
      "model_module_version": "1.5.0",
      "model_name": "HTMLModel",
      "state": {
       "_dom_classes": [],
       "_model_module": "@jupyter-widgets/controls",
       "_model_module_version": "1.5.0",
       "_model_name": "HTMLModel",
       "_view_count": null,
       "_view_module": "@jupyter-widgets/controls",
       "_view_module_version": "1.5.0",
       "_view_name": "HTMLView",
       "description": "",
       "description_tooltip": null,
       "layout": "IPY_MODEL_bb85ff95949f4ed18dd63d53c070b7e0",
       "placeholder": "​",
       "style": "IPY_MODEL_614d9eaa3f48447f80dddfa32ded661b",
       "value": "100%"
      }
     },
     "0abbbbddfc9748f1b9e5c97925774f35": {
      "model_module": "@jupyter-widgets/controls",
      "model_module_version": "1.5.0",
      "model_name": "FloatProgressModel",
      "state": {
       "_dom_classes": [],
       "_model_module": "@jupyter-widgets/controls",
       "_model_module_version": "1.5.0",
       "_model_name": "FloatProgressModel",
       "_view_count": null,
       "_view_module": "@jupyter-widgets/controls",
       "_view_module_version": "1.5.0",
       "_view_name": "ProgressView",
       "bar_style": "success",
       "description": "",
       "description_tooltip": null,
       "layout": "IPY_MODEL_86d9344f3607439b9feeb2c24c41b62a",
       "max": 50.0,
       "min": 0.0,
       "orientation": "horizontal",
       "style": "IPY_MODEL_51ebbe82994848acb281aa1b505520d7",
       "value": 50.0
      }
     },
     "0f28eede202046b786d8b5c3f15c2605": {
      "model_module": "@jupyter-widgets/controls",
      "model_module_version": "1.5.0",
      "model_name": "HTMLModel",
      "state": {
       "_dom_classes": [],
       "_model_module": "@jupyter-widgets/controls",
       "_model_module_version": "1.5.0",
       "_model_name": "HTMLModel",
       "_view_count": null,
       "_view_module": "@jupyter-widgets/controls",
       "_view_module_version": "1.5.0",
       "_view_name": "HTMLView",
       "description": "",
       "description_tooltip": null,
       "layout": "IPY_MODEL_2f4901bed8ec4afc84d173943db72b2a",
       "placeholder": "​",
       "style": "IPY_MODEL_da0f886557fe4107855cb1aa187b5daf",
       "value": " 50/50 [1:34:12&lt;00:00, 111.82s/it]"
      }
     },
     "2f4901bed8ec4afc84d173943db72b2a": {
      "model_module": "@jupyter-widgets/base",
      "model_module_version": "1.2.0",
      "model_name": "LayoutModel",
      "state": {
       "_model_module": "@jupyter-widgets/base",
       "_model_module_version": "1.2.0",
       "_model_name": "LayoutModel",
       "_view_count": null,
       "_view_module": "@jupyter-widgets/base",
       "_view_module_version": "1.2.0",
       "_view_name": "LayoutView",
       "align_content": null,
       "align_items": null,
       "align_self": null,
       "border": null,
       "bottom": null,
       "display": null,
       "flex": null,
       "flex_flow": null,
       "grid_area": null,
       "grid_auto_columns": null,
       "grid_auto_flow": null,
       "grid_auto_rows": null,
       "grid_column": null,
       "grid_gap": null,
       "grid_row": null,
       "grid_template_areas": null,
       "grid_template_columns": null,
       "grid_template_rows": null,
       "height": null,
       "justify_content": null,
       "justify_items": null,
       "left": null,
       "margin": null,
       "max_height": null,
       "max_width": null,
       "min_height": null,
       "min_width": null,
       "object_fit": null,
       "object_position": null,
       "order": null,
       "overflow": null,
       "overflow_x": null,
       "overflow_y": null,
       "padding": null,
       "right": null,
       "top": null,
       "visibility": null,
       "width": null
      }
     },
     "51ebbe82994848acb281aa1b505520d7": {
      "model_module": "@jupyter-widgets/controls",
      "model_module_version": "1.5.0",
      "model_name": "ProgressStyleModel",
      "state": {
       "_model_module": "@jupyter-widgets/controls",
       "_model_module_version": "1.5.0",
       "_model_name": "ProgressStyleModel",
       "_view_count": null,
       "_view_module": "@jupyter-widgets/base",
       "_view_module_version": "1.2.0",
       "_view_name": "StyleView",
       "bar_color": null,
       "description_width": ""
      }
     },
     "614d9eaa3f48447f80dddfa32ded661b": {
      "model_module": "@jupyter-widgets/controls",
      "model_module_version": "1.5.0",
      "model_name": "DescriptionStyleModel",
      "state": {
       "_model_module": "@jupyter-widgets/controls",
       "_model_module_version": "1.5.0",
       "_model_name": "DescriptionStyleModel",
       "_view_count": null,
       "_view_module": "@jupyter-widgets/base",
       "_view_module_version": "1.2.0",
       "_view_name": "StyleView",
       "description_width": ""
      }
     },
     "86d9344f3607439b9feeb2c24c41b62a": {
      "model_module": "@jupyter-widgets/base",
      "model_module_version": "1.2.0",
      "model_name": "LayoutModel",
      "state": {
       "_model_module": "@jupyter-widgets/base",
       "_model_module_version": "1.2.0",
       "_model_name": "LayoutModel",
       "_view_count": null,
       "_view_module": "@jupyter-widgets/base",
       "_view_module_version": "1.2.0",
       "_view_name": "LayoutView",
       "align_content": null,
       "align_items": null,
       "align_self": null,
       "border": null,
       "bottom": null,
       "display": null,
       "flex": null,
       "flex_flow": null,
       "grid_area": null,
       "grid_auto_columns": null,
       "grid_auto_flow": null,
       "grid_auto_rows": null,
       "grid_column": null,
       "grid_gap": null,
       "grid_row": null,
       "grid_template_areas": null,
       "grid_template_columns": null,
       "grid_template_rows": null,
       "height": null,
       "justify_content": null,
       "justify_items": null,
       "left": null,
       "margin": null,
       "max_height": null,
       "max_width": null,
       "min_height": null,
       "min_width": null,
       "object_fit": null,
       "object_position": null,
       "order": null,
       "overflow": null,
       "overflow_x": null,
       "overflow_y": null,
       "padding": null,
       "right": null,
       "top": null,
       "visibility": null,
       "width": null
      }
     },
     "8bcb95b31e7b48dc81a1e4e68d81dca4": {
      "model_module": "@jupyter-widgets/controls",
      "model_module_version": "1.5.0",
      "model_name": "HBoxModel",
      "state": {
       "_dom_classes": [],
       "_model_module": "@jupyter-widgets/controls",
       "_model_module_version": "1.5.0",
       "_model_name": "HBoxModel",
       "_view_count": null,
       "_view_module": "@jupyter-widgets/controls",
       "_view_module_version": "1.5.0",
       "_view_name": "HBoxView",
       "box_style": "",
       "children": [
        "IPY_MODEL_036b931f85b84da1b6c422cf3ebfd1cb",
        "IPY_MODEL_0abbbbddfc9748f1b9e5c97925774f35",
        "IPY_MODEL_0f28eede202046b786d8b5c3f15c2605"
       ],
       "layout": "IPY_MODEL_a670143a61404ec8ac5f64f5b32ce749"
      }
     },
     "a670143a61404ec8ac5f64f5b32ce749": {
      "model_module": "@jupyter-widgets/base",
      "model_module_version": "1.2.0",
      "model_name": "LayoutModel",
      "state": {
       "_model_module": "@jupyter-widgets/base",
       "_model_module_version": "1.2.0",
       "_model_name": "LayoutModel",
       "_view_count": null,
       "_view_module": "@jupyter-widgets/base",
       "_view_module_version": "1.2.0",
       "_view_name": "LayoutView",
       "align_content": null,
       "align_items": null,
       "align_self": null,
       "border": null,
       "bottom": null,
       "display": null,
       "flex": null,
       "flex_flow": null,
       "grid_area": null,
       "grid_auto_columns": null,
       "grid_auto_flow": null,
       "grid_auto_rows": null,
       "grid_column": null,
       "grid_gap": null,
       "grid_row": null,
       "grid_template_areas": null,
       "grid_template_columns": null,
       "grid_template_rows": null,
       "height": null,
       "justify_content": null,
       "justify_items": null,
       "left": null,
       "margin": null,
       "max_height": null,
       "max_width": null,
       "min_height": null,
       "min_width": null,
       "object_fit": null,
       "object_position": null,
       "order": null,
       "overflow": null,
       "overflow_x": null,
       "overflow_y": null,
       "padding": null,
       "right": null,
       "top": null,
       "visibility": null,
       "width": null
      }
     },
     "bb85ff95949f4ed18dd63d53c070b7e0": {
      "model_module": "@jupyter-widgets/base",
      "model_module_version": "1.2.0",
      "model_name": "LayoutModel",
      "state": {
       "_model_module": "@jupyter-widgets/base",
       "_model_module_version": "1.2.0",
       "_model_name": "LayoutModel",
       "_view_count": null,
       "_view_module": "@jupyter-widgets/base",
       "_view_module_version": "1.2.0",
       "_view_name": "LayoutView",
       "align_content": null,
       "align_items": null,
       "align_self": null,
       "border": null,
       "bottom": null,
       "display": null,
       "flex": null,
       "flex_flow": null,
       "grid_area": null,
       "grid_auto_columns": null,
       "grid_auto_flow": null,
       "grid_auto_rows": null,
       "grid_column": null,
       "grid_gap": null,
       "grid_row": null,
       "grid_template_areas": null,
       "grid_template_columns": null,
       "grid_template_rows": null,
       "height": null,
       "justify_content": null,
       "justify_items": null,
       "left": null,
       "margin": null,
       "max_height": null,
       "max_width": null,
       "min_height": null,
       "min_width": null,
       "object_fit": null,
       "object_position": null,
       "order": null,
       "overflow": null,
       "overflow_x": null,
       "overflow_y": null,
       "padding": null,
       "right": null,
       "top": null,
       "visibility": null,
       "width": null
      }
     },
     "da0f886557fe4107855cb1aa187b5daf": {
      "model_module": "@jupyter-widgets/controls",
      "model_module_version": "1.5.0",
      "model_name": "DescriptionStyleModel",
      "state": {
       "_model_module": "@jupyter-widgets/controls",
       "_model_module_version": "1.5.0",
       "_model_name": "DescriptionStyleModel",
       "_view_count": null,
       "_view_module": "@jupyter-widgets/base",
       "_view_module_version": "1.2.0",
       "_view_name": "StyleView",
       "description_width": ""
      }
     }
    },
    "version_major": 2,
    "version_minor": 0
   }
  }
 },
 "nbformat": 4,
 "nbformat_minor": 5
}
