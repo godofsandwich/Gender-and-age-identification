{
  "nbformat": 4,
  "nbformat_minor": 0,
  "metadata": {
    "colab": {
      "provenance": []
    },
    "kernelspec": {
      "name": "python3",
      "display_name": "Python 3"
    },
    "language_info": {
      "name": "python"
    },
    "widgets": {
      "application/vnd.jupyter.widget-state+json": {
        "c69bf33f2daf44ce93078b4a5fd336cf": {
          "model_module": "@jupyter-widgets/controls",
          "model_name": "HBoxModel",
          "model_module_version": "1.5.0",
          "state": {
            "_dom_classes": [],
            "_model_module": "@jupyter-widgets/controls",
            "_model_module_version": "1.5.0",
            "_model_name": "HBoxModel",
            "_view_count": null,
            "_view_module": "@jupyter-widgets/controls",
            "_view_module_version": "1.5.0",
            "_view_name": "HBoxView",
            "box_style": "",
            "children": [
              "IPY_MODEL_7e5f672915204f1c871d602ef5d5a2b1",
              "IPY_MODEL_cc44b2e2f37d4492a08f5f8610378683",
              "IPY_MODEL_28900c0901c3428c87e14be1e988e277"
            ],
            "layout": "IPY_MODEL_56b41ed4866e4a2495c12c8e002cf74c"
          }
        },
        "7e5f672915204f1c871d602ef5d5a2b1": {
          "model_module": "@jupyter-widgets/controls",
          "model_name": "HTMLModel",
          "model_module_version": "1.5.0",
          "state": {
            "_dom_classes": [],
            "_model_module": "@jupyter-widgets/controls",
            "_model_module_version": "1.5.0",
            "_model_name": "HTMLModel",
            "_view_count": null,
            "_view_module": "@jupyter-widgets/controls",
            "_view_module_version": "1.5.0",
            "_view_name": "HTMLView",
            "description": "",
            "description_tooltip": null,
            "layout": "IPY_MODEL_3f3f74813af14c0f862db7997a2dcec6",
            "placeholder": "​",
            "style": "IPY_MODEL_c7846f47d937443e8b1e56d2becb6b9d",
            "value": "100%"
          }
        },
        "cc44b2e2f37d4492a08f5f8610378683": {
          "model_module": "@jupyter-widgets/controls",
          "model_name": "FloatProgressModel",
          "model_module_version": "1.5.0",
          "state": {
            "_dom_classes": [],
            "_model_module": "@jupyter-widgets/controls",
            "_model_module_version": "1.5.0",
            "_model_name": "FloatProgressModel",
            "_view_count": null,
            "_view_module": "@jupyter-widgets/controls",
            "_view_module_version": "1.5.0",
            "_view_name": "ProgressView",
            "bar_style": "success",
            "description": "",
            "description_tooltip": null,
            "layout": "IPY_MODEL_15a4d46c09d54d2b9f2d495b484a5198",
            "max": 10,
            "min": 0,
            "orientation": "horizontal",
            "style": "IPY_MODEL_ee7328d5c7594bad8880be0c0cc30599",
            "value": 10
          }
        },
        "28900c0901c3428c87e14be1e988e277": {
          "model_module": "@jupyter-widgets/controls",
          "model_name": "HTMLModel",
          "model_module_version": "1.5.0",
          "state": {
            "_dom_classes": [],
            "_model_module": "@jupyter-widgets/controls",
            "_model_module_version": "1.5.0",
            "_model_name": "HTMLModel",
            "_view_count": null,
            "_view_module": "@jupyter-widgets/controls",
            "_view_module_version": "1.5.0",
            "_view_name": "HTMLView",
            "description": "",
            "description_tooltip": null,
            "layout": "IPY_MODEL_bdccaab8d07f48a29352b4686e0e472d",
            "placeholder": "​",
            "style": "IPY_MODEL_07f9d8e96ce646efa5dbd0479f324a26",
            "value": " 10/10 [1:03:55&lt;00:00, 383.22s/it]"
          }
        },
        "56b41ed4866e4a2495c12c8e002cf74c": {
          "model_module": "@jupyter-widgets/base",
          "model_name": "LayoutModel",
          "model_module_version": "1.2.0",
          "state": {
            "_model_module": "@jupyter-widgets/base",
            "_model_module_version": "1.2.0",
            "_model_name": "LayoutModel",
            "_view_count": null,
            "_view_module": "@jupyter-widgets/base",
            "_view_module_version": "1.2.0",
            "_view_name": "LayoutView",
            "align_content": null,
            "align_items": null,
            "align_self": null,
            "border": null,
            "bottom": null,
            "display": null,
            "flex": null,
            "flex_flow": null,
            "grid_area": null,
            "grid_auto_columns": null,
            "grid_auto_flow": null,
            "grid_auto_rows": null,
            "grid_column": null,
            "grid_gap": null,
            "grid_row": null,
            "grid_template_areas": null,
            "grid_template_columns": null,
            "grid_template_rows": null,
            "height": null,
            "justify_content": null,
            "justify_items": null,
            "left": null,
            "margin": null,
            "max_height": null,
            "max_width": null,
            "min_height": null,
            "min_width": null,
            "object_fit": null,
            "object_position": null,
            "order": null,
            "overflow": null,
            "overflow_x": null,
            "overflow_y": null,
            "padding": null,
            "right": null,
            "top": null,
            "visibility": null,
            "width": null
          }
        },
        "3f3f74813af14c0f862db7997a2dcec6": {
          "model_module": "@jupyter-widgets/base",
          "model_name": "LayoutModel",
          "model_module_version": "1.2.0",
          "state": {
            "_model_module": "@jupyter-widgets/base",
            "_model_module_version": "1.2.0",
            "_model_name": "LayoutModel",
            "_view_count": null,
            "_view_module": "@jupyter-widgets/base",
            "_view_module_version": "1.2.0",
            "_view_name": "LayoutView",
            "align_content": null,
            "align_items": null,
            "align_self": null,
            "border": null,
            "bottom": null,
            "display": null,
            "flex": null,
            "flex_flow": null,
            "grid_area": null,
            "grid_auto_columns": null,
            "grid_auto_flow": null,
            "grid_auto_rows": null,
            "grid_column": null,
            "grid_gap": null,
            "grid_row": null,
            "grid_template_areas": null,
            "grid_template_columns": null,
            "grid_template_rows": null,
            "height": null,
            "justify_content": null,
            "justify_items": null,
            "left": null,
            "margin": null,
            "max_height": null,
            "max_width": null,
            "min_height": null,
            "min_width": null,
            "object_fit": null,
            "object_position": null,
            "order": null,
            "overflow": null,
            "overflow_x": null,
            "overflow_y": null,
            "padding": null,
            "right": null,
            "top": null,
            "visibility": null,
            "width": null
          }
        },
        "c7846f47d937443e8b1e56d2becb6b9d": {
          "model_module": "@jupyter-widgets/controls",
          "model_name": "DescriptionStyleModel",
          "model_module_version": "1.5.0",
          "state": {
            "_model_module": "@jupyter-widgets/controls",
            "_model_module_version": "1.5.0",
            "_model_name": "DescriptionStyleModel",
            "_view_count": null,
            "_view_module": "@jupyter-widgets/base",
            "_view_module_version": "1.2.0",
            "_view_name": "StyleView",
            "description_width": ""
          }
        },
        "15a4d46c09d54d2b9f2d495b484a5198": {
          "model_module": "@jupyter-widgets/base",
          "model_name": "LayoutModel",
          "model_module_version": "1.2.0",
          "state": {
            "_model_module": "@jupyter-widgets/base",
            "_model_module_version": "1.2.0",
            "_model_name": "LayoutModel",
            "_view_count": null,
            "_view_module": "@jupyter-widgets/base",
            "_view_module_version": "1.2.0",
            "_view_name": "LayoutView",
            "align_content": null,
            "align_items": null,
            "align_self": null,
            "border": null,
            "bottom": null,
            "display": null,
            "flex": null,
            "flex_flow": null,
            "grid_area": null,
            "grid_auto_columns": null,
            "grid_auto_flow": null,
            "grid_auto_rows": null,
            "grid_column": null,
            "grid_gap": null,
            "grid_row": null,
            "grid_template_areas": null,
            "grid_template_columns": null,
            "grid_template_rows": null,
            "height": null,
            "justify_content": null,
            "justify_items": null,
            "left": null,
            "margin": null,
            "max_height": null,
            "max_width": null,
            "min_height": null,
            "min_width": null,
            "object_fit": null,
            "object_position": null,
            "order": null,
            "overflow": null,
            "overflow_x": null,
            "overflow_y": null,
            "padding": null,
            "right": null,
            "top": null,
            "visibility": null,
            "width": null
          }
        },
        "ee7328d5c7594bad8880be0c0cc30599": {
          "model_module": "@jupyter-widgets/controls",
          "model_name": "ProgressStyleModel",
          "model_module_version": "1.5.0",
          "state": {
            "_model_module": "@jupyter-widgets/controls",
            "_model_module_version": "1.5.0",
            "_model_name": "ProgressStyleModel",
            "_view_count": null,
            "_view_module": "@jupyter-widgets/base",
            "_view_module_version": "1.2.0",
            "_view_name": "StyleView",
            "bar_color": null,
            "description_width": ""
          }
        },
        "bdccaab8d07f48a29352b4686e0e472d": {
          "model_module": "@jupyter-widgets/base",
          "model_name": "LayoutModel",
          "model_module_version": "1.2.0",
          "state": {
            "_model_module": "@jupyter-widgets/base",
            "_model_module_version": "1.2.0",
            "_model_name": "LayoutModel",
            "_view_count": null,
            "_view_module": "@jupyter-widgets/base",
            "_view_module_version": "1.2.0",
            "_view_name": "LayoutView",
            "align_content": null,
            "align_items": null,
            "align_self": null,
            "border": null,
            "bottom": null,
            "display": null,
            "flex": null,
            "flex_flow": null,
            "grid_area": null,
            "grid_auto_columns": null,
            "grid_auto_flow": null,
            "grid_auto_rows": null,
            "grid_column": null,
            "grid_gap": null,
            "grid_row": null,
            "grid_template_areas": null,
            "grid_template_columns": null,
            "grid_template_rows": null,
            "height": null,
            "justify_content": null,
            "justify_items": null,
            "left": null,
            "margin": null,
            "max_height": null,
            "max_width": null,
            "min_height": null,
            "min_width": null,
            "object_fit": null,
            "object_position": null,
            "order": null,
            "overflow": null,
            "overflow_x": null,
            "overflow_y": null,
            "padding": null,
            "right": null,
            "top": null,
            "visibility": null,
            "width": null
          }
        },
        "07f9d8e96ce646efa5dbd0479f324a26": {
          "model_module": "@jupyter-widgets/controls",
          "model_name": "DescriptionStyleModel",
          "model_module_version": "1.5.0",
          "state": {
            "_model_module": "@jupyter-widgets/controls",
            "_model_module_version": "1.5.0",
            "_model_name": "DescriptionStyleModel",
            "_view_count": null,
            "_view_module": "@jupyter-widgets/base",
            "_view_module_version": "1.2.0",
            "_view_name": "StyleView",
            "description_width": ""
          }
        }
      }
    },
    "accelerator": "GPU",
    "gpuClass": "standard"
  },
  "cells": [
    {
      "cell_type": "code",
      "execution_count": null,
      "metadata": {
        "id": "jNBJTDaMv7SM"
      },
      "outputs": [],
      "source": [
        "#Import PyTorch\n",
        "import torch\n",
        "from torch import nn\n",
        "import torch.nn.functional as F\n",
        "import torchvision.transforms.functional as TF\n",
        "from torch import optim\n",
        "\n",
        "\n",
        "#Import TorchVision\n",
        "import torchvision\n",
        "from torchvision import datasets\n",
        "from torchvision import transforms\n",
        "from torchvision.transforms import ToTensor\n",
        "import torchvision.models as models\n",
        "\n",
        "\n",
        "#import other libraries\n",
        "from matplotlib import pyplot as plt\n",
        "import pandas as pd\n",
        "import numpy as py\n",
        "from PIL import Image\n",
        "import seaborn as sns\n",
        "import os\n",
        "import chardet\n",
        "import random \n",
        "import shutil\n",
        "from tqdm.auto import tqdm"
      ]
    },
    {
      "cell_type": "code",
      "source": [
        "!unzip \"/content/drive/MyDrive/Project/dataset/ubipr.zip\""
      ],
      "metadata": {
        "id": "DFd1NkgrdVg1"
      },
      "execution_count": null,
      "outputs": []
    },
    {
      "cell_type": "code",
      "source": [
        "# Setup device agnostic code\n",
        "device = \"cuda\" if torch.cuda.is_available() else \"cpu\""
      ],
      "metadata": {
        "id": "Mow8EsUwz8cF"
      },
      "execution_count": null,
      "outputs": []
    },
    {
      "cell_type": "markdown",
      "source": [
        "# Data pre-processing\n",
        "\n",
        "1.   First we make Train and Test folders in the main folder\n",
        "2.   then we extract the labels for gender from the txt files in the folder\n",
        "3.   Then we create class folders for male and female by transferring the files with the corresponding labels and put it in the train and test folders.\n",
        "\n"
      ],
      "metadata": {
        "id": "cbQELQaNrGSP"
      }
    },
    {
      "cell_type": "code",
      "source": [
        "# Set the path to your dataset folder\n",
        "data_folder = '/content/ubipr/UBIPeriocular'\n",
        "\n",
        "# Set the percentage of data to use for training\n",
        "train_percent = 0.9\n",
        "\n",
        "# Get a list of all the image files in the dataset folder\n",
        "files = os.listdir(data_folder)\n",
        "image_files = [f for f in files if f.endswith('.jpg')]\n",
        "\n",
        "# Shuffle the list of image files\n",
        "random.shuffle(image_files)\n",
        "\n",
        "# Calculate the split point\n",
        "split_point = int(len(image_files) * train_percent)\n",
        "\n",
        "# Split the data into training and testing sets\n",
        "train_files = image_files[:split_point]\n",
        "test_files = image_files[split_point:]\n",
        "\n",
        "# Set the paths for the training and testing folders\n",
        "train_folder = os.path.join(data_folder, 'train')\n",
        "test_folder = os.path.join(data_folder, 'test')\n",
        "\n",
        "# Create the training and testing folders if they don't exist\n",
        "if not os.path.exists(train_folder):\n",
        "    os.makedirs(train_folder)\n",
        "if not os.path.exists(test_folder):\n",
        "    os.makedirs(test_folder)\n",
        "\n",
        "# Move the training files to the training folder along with their corresponding text file\n",
        "for file in train_files:\n",
        "    src_path = os.path.join(data_folder, file)\n",
        "    dst_path = os.path.join(train_folder, file)\n",
        "    shutil.move(src_path, dst_path)\n",
        "    \n",
        "    # get the corresponding text file and move it along with the image file\n",
        "    text_file = file.split('.')[0] + '.txt'\n",
        "    src_text_path = os.path.join(data_folder, text_file)\n",
        "    dst_text_path = os.path.join(train_folder, text_file)\n",
        "    shutil.move(src_text_path, dst_text_path)\n",
        "\n",
        "# Move the testing files to the testing folder along with their corresponding text file\n",
        "for file in test_files:\n",
        "    src_path = os.path.join(data_folder, file)\n",
        "    dst_path = os.path.join(test_folder, file)\n",
        "    shutil.move(src_path, dst_path)\n",
        "    \n",
        "    # get the corresponding text file and move it along with the image file\n",
        "    text_file = file.split('.')[0] + '.txt'\n",
        "    src_text_path = os.path.join(data_folder, text_file)\n",
        "    dst_text_path = os.path.join(test_folder, text_file)\n",
        "    shutil.move(src_text_path, dst_text_path)\n",
        "\n"
      ],
      "metadata": {
        "id": "xS-Sh7KCaqbq"
      },
      "execution_count": null,
      "outputs": []
    },
    {
      "cell_type": "code",
      "source": [
        "folder_path = '/content/ubipr/UBIPeriocular/test'  # specify the path to the folder with images and txt files\n",
        "line_num = 7  # The 7th line in the metadata contains the gender label\n",
        "\n",
        "# create the subfolders 'male' and 'female'\n",
        "os.makedirs(os.path.join(folder_path, 'male'), exist_ok=True)\n",
        "os.makedirs(os.path.join(folder_path, 'female'), exist_ok=True)\n",
        "\n",
        "gender = []\n",
        "\n",
        "# iterate over each file in the folder\n",
        "for filename in os.listdir(folder_path):\n",
        "    if filename.endswith('.txt'):\n",
        "        # read the file contents and extract the desired line\n",
        "        with open(os.path.join(folder_path, filename), 'r') as file:\n",
        "            img_filename = filename.replace('.txt', '.jpg')\n",
        "            img_filepath = os.path.join(folder_path, img_filename) \n",
        "            lines = file.readlines()\n",
        "            list_item = lines[line_num - 1].strip().replace(';', '')\n",
        "            gender.append(list_item)\n",
        "\n",
        "            # move the file to the appropriate subfolder\n",
        "            if list_item.lower() == 'male':\n",
        "                shutil.move(os.path.join(folder_path, filename), os.path.join(folder_path, 'male'))\n",
        "                shutil.move(img_filepath, os.path.join(folder_path, 'male', img_filename))\n",
        "\n",
        "            elif list_item.lower() == 'female':\n",
        "                shutil.move(os.path.join(folder_path, filename), os.path.join(folder_path, 'female'))\n",
        "                shutil.move(img_filepath, os.path.join(folder_path, 'female', img_filename))\n",
        "\n",
        "print(gender)\n"
      ],
      "metadata": {
        "id": "-G0YNn1lr_RZ"
      },
      "execution_count": null,
      "outputs": []
    },
    {
      "cell_type": "code",
      "source": [
        "folder_path = '/content/ubipr/UBIPeriocular/train'  # specify the path to the folder with images and txt files\n",
        "line_num = 7  # The 7th line in the metadata contains the gender label\n",
        "\n",
        "# create the subfolders 'male' and 'female'\n",
        "os.makedirs(os.path.join(folder_path, 'male'), exist_ok=True)\n",
        "os.makedirs(os.path.join(folder_path, 'female'), exist_ok=True)\n",
        "\n",
        "gender = []\n",
        "\n",
        "# iterate over each file in the folder\n",
        "for filename in os.listdir(folder_path):\n",
        "    if filename.endswith('.txt'):\n",
        "        # read the file contents and extract the desired line\n",
        "        with open(os.path.join(folder_path, filename), 'r') as file:\n",
        "            img_filename = filename.replace('.txt', '.jpg')\n",
        "            img_filepath = os.path.join(folder_path, img_filename) \n",
        "            lines = file.readlines()\n",
        "            list_item = lines[line_num - 1].strip().replace(';', '')\n",
        "            gender.append(list_item)\n",
        "\n",
        "            # move the file to the appropriate subfolder\n",
        "            if list_item.lower() == 'male':\n",
        "                shutil.move(os.path.join(folder_path, filename), os.path.join(folder_path, 'male'))\n",
        "                shutil.move(img_filepath, os.path.join(folder_path, 'male', img_filename))\n",
        "\n",
        "            elif list_item.lower() == 'female':\n",
        "                shutil.move(os.path.join(folder_path, filename), os.path.join(folder_path, 'female'))\n",
        "                shutil.move(img_filepath, os.path.join(folder_path, 'female', img_filename))\n",
        "\n",
        "print(gender)\n"
      ],
      "metadata": {
        "id": "I-iHw9pW1ik1"
      },
      "execution_count": null,
      "outputs": []
    },
    {
      "cell_type": "code",
      "source": [
        "#count the number of images in a folder\n",
        "folder_path = '/content/ubipr/UBIPeriocular/test/female'\n",
        "\n",
        "num_images = len([name for name in os.listdir(folder_path) if os.path.isfile(os.path.join(folder_path, name))])\n",
        "print(num_images)\n"
      ],
      "metadata": {
        "colab": {
          "base_uri": "https://localhost:8080/"
        },
        "id": "wtvlWcDJ5CFG",
        "outputId": "775bb6fb-ee4a-4e70-be8b-1ddec7c653d7"
      },
      "execution_count": null,
      "outputs": [
        {
          "output_type": "stream",
          "name": "stdout",
          "text": [
            "618\n"
          ]
        }
      ]
    },
    {
      "cell_type": "markdown",
      "source": [
        "# Building a model"
      ],
      "metadata": {
        "id": "Gt-KHhItMkKP"
      }
    },
    {
      "cell_type": "markdown",
      "source": [
        "###Building a model using raw ResNet-18 Params\n",
        "1. First we import ResNet-18 into the notbook\n",
        "2. Then we just pass the data as it is into ResNet-18 "
      ],
      "metadata": {
        "id": "0xyLkCcMMtMz"
      }
    },
    {
      "cell_type": "code",
      "source": [
        "#import ResNet-18\n",
        "model = models.resnet18(pretrained=True)"
      ],
      "metadata": {
        "id": "Y472SB2r6edY"
      },
      "execution_count": null,
      "outputs": []
    },
    {
      "cell_type": "code",
      "source": [
        "# define the path to the data folder\n",
        "data_path = '/content/ubipr/UBIPeriocular'\n",
        "# define the transforms for training and validation data\n",
        "data_transforms = {\n",
        "    'train': transforms.Compose([\n",
        "        transforms.Resize((224, 112)),\n",
        "        transforms.RandomCrop((224, 112)),\n",
        "        transforms.RandomHorizontalFlip(),\n",
        "        transforms.ToTensor(),\n",
        "        transforms.Normalize([0.485, 0.456, 0.406], [0.229, 0.224, 0.225])\n",
        "    ]),\n",
        "    'test': transforms.Compose([\n",
        "        transforms.Resize((224, 112)),\n",
        "        transforms.CenterCrop((224, 112)),\n",
        "        transforms.ToTensor(),\n",
        "        transforms.Normalize([0.485, 0.456, 0.406], [0.229, 0.224, 0.225])\n",
        "    ])\n",
        "}\n",
        "\n",
        "\n",
        "# load the datasets\n",
        "image_datasets = {x: datasets.ImageFolder(os.path.join(data_path, x), data_transforms[x]) for x in ['train', 'test']}\n",
        "dataloaders = {x: torch.utils.data.DataLoader(image_datasets[x], batch_size=4, shuffle=True, num_workers=2) for x in ['train', 'test']}\n",
        "dataset_sizes = {x: len(image_datasets[x]) for x in ['train', 'test']}\n",
        "class_names = image_datasets['train'].classes\n",
        "\n",
        "# set the requires_grad attribute to False so that we don't backprop through the pre-trained layers\n",
        "for param in model.parameters():\n",
        "    param.requires_grad = False\n",
        "\n",
        "# replace the last fully connected layer with our own classifier layer\n",
        "num_ftrs = model.fc.in_features\n",
        "model.fc = nn.Linear(num_ftrs, len(class_names))\n",
        "\n",
        "# define the loss function and optimizer\n",
        "criterion = nn.CrossEntropyLoss()\n",
        "optimizer = optim.SGD(model.fc.parameters(), lr=0.001, momentum=0.9)\n",
        "\n",
        "# train the model\n",
        "num_epochs = 10\n",
        "for epoch in tqdm(range(num_epochs)):\n",
        "    for phase in ['train', 'test']:\n",
        "        running_loss = 0.0\n",
        "        running_corrects = 0\n",
        "\n",
        "        for inputs, labels in dataloaders[phase]:\n",
        "            # zero the parameter gradients\n",
        "            optimizer.zero_grad()\n",
        "\n",
        "            # forward + backward + optimize\n",
        "            with torch.set_grad_enabled(phase == 'train'):\n",
        "                outputs = model(inputs)\n",
        "                _, preds = torch.max(outputs, 1)\n",
        "                loss = criterion(outputs, labels)\n",
        "\n",
        "                if phase == 'train':\n",
        "                    loss.backward()\n",
        "                    optimizer.step()\n",
        "\n",
        "            # statistics\n",
        "            running_loss += loss.item() * inputs.size(0)\n",
        "            running_corrects += torch.sum(preds == labels.data)\n",
        "\n",
        "        epoch_loss = running_loss / dataset_sizes[phase]\n",
        "        epoch_acc = running_corrects.double() / dataset_sizes[phase]\n",
        "\n",
        "        print('{} Loss: {:.4f} Acc: {:.4f}'.format(phase, epoch_loss, epoch_acc))\n"
      ],
      "metadata": {
        "colab": {
          "base_uri": "https://localhost:8080/",
          "height": 396,
          "referenced_widgets": [
            "c69bf33f2daf44ce93078b4a5fd336cf",
            "7e5f672915204f1c871d602ef5d5a2b1",
            "cc44b2e2f37d4492a08f5f8610378683",
            "28900c0901c3428c87e14be1e988e277",
            "56b41ed4866e4a2495c12c8e002cf74c",
            "3f3f74813af14c0f862db7997a2dcec6",
            "c7846f47d937443e8b1e56d2becb6b9d",
            "15a4d46c09d54d2b9f2d495b484a5198",
            "ee7328d5c7594bad8880be0c0cc30599",
            "bdccaab8d07f48a29352b4686e0e472d",
            "07f9d8e96ce646efa5dbd0479f324a26"
          ]
        },
        "id": "GKHStVTS3io5",
        "outputId": "b2a1f490-1018-41ac-cf01-3244b46bcf7d"
      },
      "execution_count": null,
      "outputs": [
        {
          "output_type": "display_data",
          "data": {
            "text/plain": [
              "  0%|          | 0/10 [00:00<?, ?it/s]"
            ],
            "application/vnd.jupyter.widget-view+json": {
              "version_major": 2,
              "version_minor": 0,
              "model_id": "c69bf33f2daf44ce93078b4a5fd336cf"
            }
          },
          "metadata": {}
        },
        {
          "output_type": "stream",
          "name": "stdout",
          "text": [
            "train Loss: 0.5527 Acc: 0.7754\n",
            "test Loss: 0.7690 Acc: 0.7510\n",
            "train Loss: 0.4884 Acc: 0.8035\n",
            "test Loss: 0.6150 Acc: 0.7265\n",
            "train Loss: 0.4830 Acc: 0.8088\n",
            "test Loss: 0.4171 Acc: 0.8225\n",
            "train Loss: 0.4699 Acc: 0.8170\n",
            "test Loss: 0.5565 Acc: 0.7961\n",
            "train Loss: 0.5046 Acc: 0.8036\n",
            "test Loss: 0.4564 Acc: 0.8196\n",
            "train Loss: 0.4634 Acc: 0.8250\n",
            "test Loss: 0.4002 Acc: 0.8275\n",
            "train Loss: 0.4719 Acc: 0.8147\n",
            "test Loss: 0.3984 Acc: 0.8343\n",
            "train Loss: 0.4980 Acc: 0.8083\n",
            "test Loss: 0.6359 Acc: 0.7833\n",
            "train Loss: 0.4988 Acc: 0.8076\n",
            "test Loss: 0.4177 Acc: 0.8255\n",
            "train Loss: 0.4433 Acc: 0.8266\n",
            "test Loss: 0.4347 Acc: 0.8363\n"
          ]
        }
      ]
    },
    {
      "cell_type": "code",
      "source": [
        "#Testing a random image\n",
        "image = Image.open('/content/ubipr/UBIPeriocular/test/female/C228_S1_I14.jpg')\n",
        "img1 = data_transforms['test'](image)\n",
        "model(img1.unsqueeze(0))\n"
      ],
      "metadata": {
        "colab": {
          "base_uri": "https://localhost:8080/"
        },
        "id": "2t4nJ9ZTD16w",
        "outputId": "3e0ac0c6-e6c6-47ed-cab4-b88dff6881b2"
      },
      "execution_count": null,
      "outputs": [
        {
          "output_type": "execute_result",
          "data": {
            "text/plain": [
              "tensor([[-1.0398,  1.3251]], grad_fn=<AddmmBackward0>)"
            ]
          },
          "metadata": {},
          "execution_count": 53
        }
      ]
    },
    {
      "cell_type": "markdown",
      "source": [
        "# Saving the Model\n",
        "The parameters for PyTorch networks are stored in a model's `state_dict`. We can see the state dict contains the weight and bias matrices for each of our layers.The simplest thing to do is simply save the state dict with `torch.save`. For example, we can save it to a file `'checkpoint.pth'`. Then we can load the state dict with `torch.load`.And to load the state dict in to the network, you do `model.load_state_dict(state_dict)`."
      ],
      "metadata": {
        "id": "BzMQoygMH_A3"
      }
    },
    {
      "cell_type": "code",
      "source": [
        "print(\"Our model: \\n\\n\", model, '\\n')\n",
        "print(\"The state dict keys: \\n\\n\", model.state_dict().keys())"
      ],
      "metadata": {
        "id": "eUAJcsTWHNAe"
      },
      "execution_count": null,
      "outputs": []
    },
    {
      "cell_type": "code",
      "source": [
        "#Saving the model\n",
        "torch.save(model.state_dict(), 'checkpoint.pth')\n",
        "state_dict = torch.load('checkpoint.pth')\n",
        " \n",
        "#load the model to begin again\n",
        "model.load_state_dict(state_dict)"
      ],
      "metadata": {
        "id": "9CkLIFqNHciN"
      },
      "execution_count": null,
      "outputs": []
    },
    {
      "cell_type": "markdown",
      "source": [
        "###PeriGender Architecture\n",
        "The model described as it is in the Research paper has been implemented here. The shapes and other values need to be tweaked (WIP)"
      ],
      "metadata": {
        "id": "E-O53Amz_PyK"
      }
    },
    {
      "cell_type": "markdown",
      "source": [
        "![PeriGender.JPG](data:image/jpeg;base64,/9j/4AAQSkZJRgABAQEAeAB4AAD/4REKRXhpZgAATU0AKgAAAAgABAE7AAIAAAAVAAAISodpAAQAAAABAAAIYJydAAEAAAAqAAAQ2OocAAcAAAgMAAAAPgAAAAAc6gAAAAgAAAAAAAAAAAAAAAAAAAAAAAAAAAAAAAAAAAAAAAAAAAAAAAAAAAAAAAAAAAAAAAAAAAAAAAAAAAAAAAAAAAAAAAAAAAAAAAAAAAAAAAAAAAAAAAAAAAAAAAAAAAAAAAAAAAAAAAAAAAAAAAAAAAAAAAAAAAAAAAAAAAAAAAAAAAAAAAAAAAAAAAAAAAAAAAAAAAAAAAAAAAAAAAAAAAAAAAAAAAAAAAAAAAAAAAAAAAAAAAAAAAAAAAAAAAAAAAAAAAAAAAAAAAAAAAAAAAAAAAAAAAAAAAAAAAAAAAAAAAAAAAAAAAAAAAAAAAAAAAAAAAAAAAAAAAAAAAAAAAAAAAAAAAAAAAAAAAAAAAAAAAAAAAAAAAAAAAAAAAAAAAAAAAAAAAAAAAAAAAAAAAAAAAAAAAAAAAAAAAAAAAAAAAAAAAAAAAAAAAAAAAAAAAAAAAAAAAAAAAAAAAAAAAAAAAAAAAAAAAAAAAAAAAAAAAAAAAAAAAAAAAAAAAAAAAAAAAAAAAAAAAAAAAAAAAAAAAAAAAAAAAAAAAAAAAAAAAAAAAAAAAAAAAAAAAAAAAAAAAAAAAAAAAAAAAAAAAAAAAAAAAAAAAAAAAAAAAAAAAAAAAAAAAAAAAAAAAAAAAAAAAAAAAAAAAAAAAAAAAAAAAAAAAAAAAAAAAAAAAAAAAAAAAAAAAAAAAAAAAAAAAAAAAAAAAAAAAAAAAAAAAAAAAAAAAAAAAAAAAAAAAAAAAAAAAAAAAAAAAAAAAAAAAAAAAAAAAAAAAAAAAAAAAAAAAAAAAAAAAAAAAAAAAAAAAAAAAAAAAAAAAAAAAAAAAAAAAAAAAAAAAAAAAAAAAAAAAAAAAAAAAAAAAAAAAAAAAAAAAAAAAAAAAAAAAAAAAAAAAAAAAAAAAAAAAAAAAAAAAAAAAAAAAAAAAAAAAAAAAAAAAAAAAAAAAAAAAAAAAAAAAAAAAAAAAAAAAAAAAAAAAAAAAAAAAAAAAAAAAAAAAAAAAAAAAAAAAAAAAAAAAAAAAAAAAAAAAAAAAAAAAAAAAAAAAAAAAAAAAAAAAAAAAAAAAAAAAAAAAAAAAAAAAAAAAAAAAAAAAAAAAAAAAAAAAAAAAAAAAAAAAAAAAAAAAAAAAAAAAAAAAAAAAAAAAAAAAAAAAAAAAAAAAAAAAAAAAAAAAAAAAAAAAAAAAAAAAAAAAAAAAAAAAAAAAAAAAAAAAAAAAAAAAAAAAAAAAAAAAAAAAAAAAAAAAAAAAAAAAAAAAAAAAAAAAAAAAAAAAAAAAAAAAAAAAAAAAAAAAAAAAAAAAAAAAAAAAAAAAAAAAAAAAAAAAAAAAAAAAAAAAAAAAAAAAAAAAAAAAAAAAAAAAAAAAAAAAAAAAAAAAAAAAAAAAAAAAAAAAAAAAAAAAAAAAAAAAAAAAAAAAAAAAAAAAAAAAAAAAAAAAAAAAAAAAAAAAAAAAAAAAAAAAAAAAAAAAAAAAAAAAAAAAAAAAAAAAAAAAAAAAAAAAAAAAAAAAAAAAAAAAAAAAAAAAAAAAAAAAAAAAAAAAAAAAAAAAAAAAAAAAAAAAAAAAAAAAAAAAAAAAAAAAAAAAAAAAAAAAAAAAAAAAAAAAAAAAAAAAAAAAAAAAAAAAAAAAAAAAAAAAAAAAAAAAAAAAAAAAAAAAAAAAAAAAAAAAAAAAAAAAAAAAAAAAAAAAAAAAAAAAAAAAAAAAAAAAAAAAAAAAAAAAAAAAAAAAAAAAAAAAAAAAAAAAAAAAAAAAAAAAAAAAAAAAAAAAAAAAAAAAAAAAAAAAAAAAAAAAAAAAAAAAAAAAAAAAAAAAAAAAAAAAAAAAAAAAAAAAAAAAAAAAAAAAAAAAAAAAAAAAAAAAAAAAAAAAAAAAAAAAAAAAAAAAAAAAAAAAAAAAAAAAAAAAAAAAAAAAAAAAAAAAAAAAAAAAAAAAAAAAAAAAAAAAAAAAAAAAAAAAAAAAAAAAAAAAAAAAAAAAAAAAAAAAAAAAAAAAAAAAAAAAAAAAAAAAAAAAAAAAAAAAAAAAAAAAAAAAAAAAAAAAAAAAAAAAAAAAAAAAAAAAAAAAAAAAAAAAAAAAAAAAAAAAAAAAAAAAAAAAAAAAAAAAAAAAAAAAAAAAAAAAAAAAAAAAAAAAAAAAAAAAAAAAAAAAAAAAAAAAAAAAAAAAAAAAAAAAAAAAAAAAAAAAAAAAAAAAAAAAAAAAAAAAAAAAAAAAAAAAAAAAAAAAAAAAAAAAAAAAAAAAAAAAAAAAAAAAAAAAAAAAAAAAAAAAAAAAAAAAAAAAAAAAAAAAAAAAAAAAAAAAAAAAAAAAAAAAAAAAAAAAAAAAAAAAAAAAAAAAAAAAAAAAAAAAAAAAAAAAAAAAAAAAAAAAAAAAAAAAAAAAAAAAAAAAAAAAAAAAAAAAAAAAAAAAAAAAAAAAAAAAAAAAAAAAAAAAAAAAAAAAAAAAAAAAAAAAAAAAAAAAAAAAAAAAAAAAAAAAAAAAAAAAAAAAAAAAAAAAAAAAAAAAAAAAAAAAAAAAAAAAAAAAAAAAAAAAAAAAAAAAAAAAAAAAAAAAAAAAAAAAAAAAAAAAAAAAAAAAAAAAAAAAAAAAAAAAAAAAAAAAAAAAAAAAAAAAAAAAAAAAAAAAAAAAAAAAAAAAAAAAAAAAAAAAAAAAAAAAAAAAAAAAAAAAAAAAAAAAAAAAAAAAAAAAAAAAAAAAAAAAAAAAAAAAAAAAAAAAAAAAAAAAAAAAAAAFNhaSBTYWtldGggQ2hlcnVrdXJpAAAABZADAAIAAAAUAAAQrpAEAAIAAAAUAAAQwpKRAAIAAAADMTEAAJKSAAIAAAADMTEAAOocAAcAAAgMAAAIogAAAAAc6gAAAAgAAAAAAAAAAAAAAAAAAAAAAAAAAAAAAAAAAAAAAAAAAAAAAAAAAAAAAAAAAAAAAAAAAAAAAAAAAAAAAAAAAAAAAAAAAAAAAAAAAAAAAAAAAAAAAAAAAAAAAAAAAAAAAAAAAAAAAAAAAAAAAAAAAAAAAAAAAAAAAAAAAAAAAAAAAAAAAAAAAAAAAAAAAAAAAAAAAAAAAAAAAAAAAAAAAAAAAAAAAAAAAAAAAAAAAAAAAAAAAAAAAAAAAAAAAAAAAAAAAAAAAAAAAAAAAAAAAAAAAAAAAAAAAAAAAAAAAAAAAAAAAAAAAAAAAAAAAAAAAAAAAAAAAAAAAAAAAAAAAAAAAAAAAAAAAAAAAAAAAAAAAAAAAAAAAAAAAAAAAAAAAAAAAAAAAAAAAAAAAAAAAAAAAAAAAAAAAAAAAAAAAAAAAAAAAAAAAAAAAAAAAAAAAAAAAAAAAAAAAAAAAAAAAAAAAAAAAAAAAAAAAAAAAAAAAAAAAAAAAAAAAAAAAAAAAAAAAAAAAAAAAAAAAAAAAAAAAAAAAAAAAAAAAAAAAAAAAAAAAAAAAAAAAAAAAAAAAAAAAAAAAAAAAAAAAAAAAAAAAAAAAAAAAAAAAAAAAAAAAAAAAAAAAAAAAAAAAAAAAAAAAAAAAAAAAAAAAAAAAAAAAAAAAAAAAAAAAAAAAAAAAAAAAAAAAAAAAAAAAAAAAAAAAAAAAAAAAAAAAAAAAAAAAAAAAAAAAAAAAAAAAAAAAAAAAAAAAAAAAAAAAAAAAAAAAAAAAAAAAAAAAAAAAAAAAAAAAAAAAAAAAAAAAAAAAAAAAAAAAAAAAAAAAAAAAAAAAAAAAAAAAAAAAAAAAAAAAAAAAAAAAAAAAAAAAAAAAAAAAAAAAAAAAAAAAAAAAAAAAAAAAAAAAAAAAAAAAAAAAAAAAAAAAAAAAAAAAAAAAAAAAAAAAAAAAAAAAAAAAAAAAAAAAAAAAAAAAAAAAAAAAAAAAAAAAAAAAAAAAAAAAAAAAAAAAAAAAAAAAAAAAAAAAAAAAAAAAAAAAAAAAAAAAAAAAAAAAAAAAAAAAAAAAAAAAAAAAAAAAAAAAAAAAAAAAAAAAAAAAAAAAAAAAAAAAAAAAAAAAAAAAAAAAAAAAAAAAAAAAAAAAAAAAAAAAAAAAAAAAAAAAAAAAAAAAAAAAAAAAAAAAAAAAAAAAAAAAAAAAAAAAAAAAAAAAAAAAAAAAAAAAAAAAAAAAAAAAAAAAAAAAAAAAAAAAAAAAAAAAAAAAAAAAAAAAAAAAAAAAAAAAAAAAAAAAAAAAAAAAAAAAAAAAAAAAAAAAAAAAAAAAAAAAAAAAAAAAAAAAAAAAAAAAAAAAAAAAAAAAAAAAAAAAAAAAAAAAAAAAAAAAAAAAAAAAAAAAAAAAAAAAAAAAAAAAAAAAAAAAAAAAAAAAAAAAAAAAAAAAAAAAAAAAAAAAAAAAAAAAAAAAAAAAAAAAAAAAAAAAAAAAAAAAAAAAAAAAAAAAAAAAAAAAAAAAAAAAAAAAAAAAAAAAAAAAAAAAAAAAAAAAAAAAAAAAAAAAAAAAAAAAAAAAAAAAAAAAAAAAAAAAAAAAAAAAAAAAAAAAAAAAAAAAAAAAAAAAAAAAAAAAAAAAAAAAAAAAAAAAAAAAAAAAAAAAAAAAAAAAAAAAAAAAAAAAAAAAAAAAAAAAAAAAAAAAAAAAAAAAAAAAAAAAAAAAAAAAAAAAAAAAAAAAAAAAAAAAAAAAAAAAAAAAAAAAAAAAAAAAAAAAAAAAAAAAAAAAAAAAAAAAAAAAAAAAAAAAAAAAAAAAAAAAAAAAAAAAAAAAAAAAAAAAAAAAAAAAAAAAAAAAAAAAAAAAAAAAAAAAAAAAAAAAAAAAAAAAAAAAAAAAAAAAAAAAAAAAAAAAAAAAAAAAAAAAAAAAAAAAAAAAAAAAAAAAAAAAAAAAAAAAAAAAAAAAAAAAAAAAAAAAAAAAAAAAAAAAAAAAAAAAAAAAAAAAAAAAAAAAAAAAAAAAAAAAAAAAAAAAAAAAAAAAAAAAAAAAAAAAAAAAAAAAAAAAAAAAAAAAAAAAAAAAAAAAAAAAAAAAAAAAAAAAAAAAAAAAAAAAAAAAAAAAAAAAAAAAAAAAAAAAAAAAAAAAAAAAAAAAAAAAAAAAAAAAAAAAAAAAAAAAAAAAAAAAAAAAAAAAAAAAAAAAAAAAAAAAAAAAAAAAAAAAAAAAAAAAAAAAAAAAAAAAAAAAAAAAAAAAAAAAAAAAAAAAAAAAAAAAAAAAAAAAAAAAAAAAAAAAAAAAAAAAAAAAAAAAAAAAAAAAAAAAAAAAAAAAAAAAAAAAAAAAAAAAAAAAAAAAAAAAAAAAAAAAAAAAAAAAAAAAAAAAAAAAAAAAAAAAAAAAAAAAAAAAAAAAAAAAAAAAAAAAAAAAAAAAAAAAAAAAAAAAAAAAAAAAAAAAAAAAAAAAAAAAAAAAAAAAAAAAAAAAAAAAAAAAAAAAAAAAAAAAAAAAAAAAAAAAAAAAAAAAAAAAAAAAAAAAAAAAAAAAAAAAAAAAAAAAAAAAAAAAAAAAAAAAAAAAAAAAAAAAAAAAAAAAAAAAAAAAAAAAAAAAAAAAAAAAAAAAAAAAAAAAAAAAAAAAAAAAAAAAAAAAAAAAAAAAAAAAAAAAAAAAAAAAAAAAAAAAAAAAAAAAAAAAAAAAAAAAAAAAAAAAAAAAAAAAAAAAAAAAAAAAAAAAAAAAAAAAAAAAAAAAAAAAAAAADIwMjM6MDI6MjMgMTU6NDE6MzQAMjAyMzowMjoyMyAxNTo0MTozNAAAAFMAYQBpACAAUwBhAGsAZQB0AGgAIABDAGgAZQByAHUAawB1AHIAaQAAAP/hCydodHRwOi8vbnMuYWRvYmUuY29tL3hhcC8xLjAvADw/eHBhY2tldCBiZWdpbj0n77u/JyBpZD0nVzVNME1wQ2VoaUh6cmVTek5UY3prYzlkJz8+DQo8eDp4bXBtZXRhIHhtbG5zOng9ImFkb2JlOm5zOm1ldGEvIj48cmRmOlJERiB4bWxuczpyZGY9Imh0dHA6Ly93d3cudzMub3JnLzE5OTkvMDIvMjItcmRmLXN5bnRheC1ucyMiPjxyZGY6RGVzY3JpcHRpb24gcmRmOmFib3V0PSJ1dWlkOmZhZjViZGQ1LWJhM2QtMTFkYS1hZDMxLWQzM2Q3NTE4MmYxYiIgeG1sbnM6ZGM9Imh0dHA6Ly9wdXJsLm9yZy9kYy9lbGVtZW50cy8xLjEvIi8+PHJkZjpEZXNjcmlwdGlvbiByZGY6YWJvdXQ9InV1aWQ6ZmFmNWJkZDUtYmEzZC0xMWRhLWFkMzEtZDMzZDc1MTgyZjFiIiB4bWxuczp4bXA9Imh0dHA6Ly9ucy5hZG9iZS5jb20veGFwLzEuMC8iPjx4bXA6Q3JlYXRlRGF0ZT4yMDIzLTAyLTIzVDE1OjQxOjM0LjEwNjwveG1wOkNyZWF0ZURhdGU+PC9yZGY6RGVzY3JpcHRpb24+PHJkZjpEZXNjcmlwdGlvbiByZGY6YWJvdXQ9InV1aWQ6ZmFmNWJkZDUtYmEzZC0xMWRhLWFkMzEtZDMzZDc1MTgyZjFiIiB4bWxuczpkYz0iaHR0cDovL3B1cmwub3JnL2RjL2VsZW1lbnRzLzEuMS8iPjxkYzpjcmVhdG9yPjxyZGY6U2VxIHhtbG5zOnJkZj0iaHR0cDovL3d3dy53My5vcmcvMTk5OS8wMi8yMi1yZGYtc3ludGF4LW5zIyI+PHJkZjpsaT5TYWkgU2FrZXRoIENoZXJ1a3VyaTwvcmRmOmxpPjwvcmRmOlNlcT4NCgkJCTwvZGM6Y3JlYXRvcj48L3JkZjpEZXNjcmlwdGlvbj48L3JkZjpSREY+PC94OnhtcG1ldGE+DQogICAgICAgICAgICAgICAgICAgICAgICAgICAgICAgICAgICAgICAgICAgICAgICAgICAgICAgICAgICAgICAgICAgICAgICAgICAgICAgICAgICAgICAgICAgICAgICAgICAgCiAgICAgICAgICAgICAgICAgICAgICAgICAgICAgICAgICAgICAgICAgICAgICAgICAgICAgICAgICAgICAgICAgICAgICAgICAgICAgICAgICAgICAgICAgICAgICAgICAgICAKICAgICAgICAgICAgICAgICAgICAgICAgICAgICAgICAgICAgICAgICAgICAgICAgICAgICAgICAgICAgICAgICAgICAgICAgICAgICAgICAgICAgICAgICAgICAgICAgICAgIAogICAgICAgICAgICAgICAgICAgICAgICAgICAgICAgICAgICAgICAgICAgICAgICAgICAgICAgICAgICAgICAgICAgICAgICAgICAgICAgICAgICAgICAgICAgICAgICAgICAgCiAgICAgICAgICAgICAgICAgICAgICAgICAgICAgICAgICAgICAgICAgICAgICAgICAgICAgICAgICAgICAgICAgICAgICAgICAgICAgICAgICAgICAgICAgICAgICAgICAgICAKICAgICAgICAgICAgICAgICAgICAgICAgICAgICAgICAgICAgICAgICAgICAgICAgICAgICAgICAgICAgICAgICAgICAgICAgICAgICAgICAgICAgICAgICAgICAgICAgICAgIAogICAgICAgICAgICAgICAgICAgICAgICAgICAgICAgICAgICAgICAgICAgICAgICAgICAgICAgICAgICAgICAgICAgICAgICAgICAgICAgICAgICAgICAgICAgICAgICAgICAgCiAgICAgICAgICAgICAgICAgICAgICAgICAgICAgICAgICAgICAgICAgICAgICAgICAgICAgICAgICAgICAgICAgICAgICAgICAgICAgICAgICAgICAgICAgICAgICAgICAgICAKICAgICAgICAgICAgICAgICAgICAgICAgICAgICAgICAgICAgICAgICAgICAgICAgICAgICAgICAgICAgICAgICAgICAgICAgICAgICAgICAgICAgICAgICAgICAgICAgICAgIAogICAgICAgICAgICAgICAgICAgICAgICAgICAgICAgICAgICAgICAgICAgICAgICAgICAgICAgICAgICAgICAgICAgICAgICAgICAgICAgICAgICAgICAgICAgICAgICAgICAgCiAgICAgICAgICAgICAgICAgICAgICAgICAgICAgICAgICAgICAgICAgICAgICAgICAgICAgICAgICAgICAgICAgICAgICAgICAgICAgICAgICAgICAgICAgICAgICAgICAgICAKICAgICAgICAgICAgICAgICAgICAgICAgICAgICAgICAgICAgICAgICAgICAgICAgICAgICAgICAgICAgICAgICAgICAgICAgICAgICAgICAgICAgICAgICAgICAgICAgICAgIAogICAgICAgICAgICAgICAgICAgICAgICAgICAgICAgICAgICAgICAgICAgICAgICAgICAgICAgICAgICAgICAgICAgICAgICAgICAgICAgICAgICAgICAgICAgICAgICAgICAgCiAgICAgICAgICAgICAgICAgICAgICAgICAgICAgICAgICAgICAgICAgICAgICAgICAgICAgICAgICAgICAgICAgICAgICAgICAgICAgICAgICAgICAgICAgICAgICAgICAgICAKICAgICAgICAgICAgICAgICAgICAgICAgICAgICAgICAgICAgICAgICAgICAgICAgICAgICAgICAgICAgICAgICAgICAgICAgICAgICAgICAgICAgICAgICAgICAgICAgICAgIAogICAgICAgICAgICAgICAgICAgICAgICAgICAgICAgICAgICAgICAgICAgICAgICAgICAgICAgICAgICAgICAgICAgICAgICAgICAgICAgICAgICAgICAgICAgICAgICAgICAgCiAgICAgICAgICAgICAgICAgICAgICAgICAgICAgICAgICAgICAgICAgICAgICAgICAgICAgICAgICAgICAgICAgICAgICAgICAgICAgICAgICAgICAgICAgICAgICAgICAgICAKICAgICAgICAgICAgICAgICAgICAgICAgICAgICAgICAgICAgICAgICAgICAgICAgICAgICAgICAgICAgICAgICAgICAgICAgICAgICAgICAgICAgICAgICAgICAgICAgICAgIAogICAgICAgICAgICAgICAgICAgICAgICAgICAgICAgICAgICAgICAgICAgICAgICAgICAgICAgICAgICAgICAgICAgICAgICAgICAgICAgICAgICAgICAgICAgICAgICAgICAgCiAgICAgICAgICAgICAgICAgICAgICAgICAgICAgICAgICAgICAgICAgICAgICAgICAgICAgICAgICAgICAgICAgICAgICAgICAgICAgICAgICAgICAgICAgICAgICAgICAgICAKICAgICAgICAgICAgICAgICAgICAgICAgICAgIDw/eHBhY2tldCBlbmQ9J3cnPz7/2wBDAAcFBQYFBAcGBQYIBwcIChELCgkJChUPEAwRGBUaGRgVGBcbHichGx0lHRcYIi4iJSgpKywrGiAvMy8qMicqKyr/2wBDAQcICAoJChQLCxQqHBgcKioqKioqKioqKioqKioqKioqKioqKioqKioqKioqKioqKioqKioqKioqKioqKioqKir/wAARCAJXAqMDASIAAhEBAxEB/8QAHwAAAQUBAQEBAQEAAAAAAAAAAAECAwQFBgcICQoL/8QAtRAAAgEDAwIEAwUFBAQAAAF9AQIDAAQRBRIhMUEGE1FhByJxFDKBkaEII0KxwRVS0fAkM2JyggkKFhcYGRolJicoKSo0NTY3ODk6Q0RFRkdISUpTVFVWV1hZWmNkZWZnaGlqc3R1dnd4eXqDhIWGh4iJipKTlJWWl5iZmqKjpKWmp6ipqrKztLW2t7i5usLDxMXGx8jJytLT1NXW19jZ2uHi4+Tl5ufo6erx8vP09fb3+Pn6/8QAHwEAAwEBAQEBAQEBAQAAAAAAAAECAwQFBgcICQoL/8QAtREAAgECBAQDBAcFBAQAAQJ3AAECAxEEBSExBhJBUQdhcRMiMoEIFEKRobHBCSMzUvAVYnLRChYkNOEl8RcYGRomJygpKjU2Nzg5OkNERUZHSElKU1RVVldYWVpjZGVmZ2hpanN0dXZ3eHl6goOEhYaHiImKkpOUlZaXmJmaoqOkpaanqKmqsrO0tba3uLm6wsPExcbHyMnK0tPU1dbX2Nna4uPk5ebn6Onq8vP09fb3+Pn6/9oADAMBAAIRAxEAPwD6RooooAKKKKACqGma3p+syXqabcCf7DcG2nZVO1ZAASoPQ4zzjvU9/LJBptzNAu6WOF2RcdWAJArwLSNZj0v9nnwyovtTgvdb1Jwx06ZIZbmRpnLK0rcIDgAt14HvQB7vrOtWGgacb/Vp/s9qrojSlSVQswUE46DJHJ4FXs56V8+eF9Sv9X+F3xO0rXLua6g01JVt1ubwXbQ/u2bb5v8AFhlHPrXr/wAOru5v/hp4dur4sbiXToWdmPLHYOT9etAHSUUUUAFFI5wjY9K8L8Na7q95o/h17XUPFB17UZYysl9Iv2CcBwZR8/UeWGIC/Nxx0NAHutFedf8AC2YG8UmwjtIXs11A6eziZzcbxJ5Zk8vy9mwN/t5wM47Ve8KfEGTxH4kn0ueytLNkEhEBvD9qi2NjEkLIpGRzlC4Hc80AdvRXMfEa9udO+HmrXVhNNBcRxLskgOJFy6j5T64NchZeJ7rw5qmqSTPry2Vvos16tpr5UyTyxsOYmGeADhgT/EmB1oA9WoryfXJ9Vt/GWlaTeXniO7X+xPtE66LIFdpzNhnYEj5eSAO3Arr9b1S48L/C+71OzF1LcWlkZI/7QbfKGI48z1wTz9KAOporlrHw5f6RqVhd/wDCV31zuYpeQ37q8d1lTjy1AHlsGwRt4xkEHrVvwzfzzXGsaXdyNNLpV6YVlY5Z43RZUz7gSbc99ue9AG9RRRQAUUUUAFFFFABRRRQAUUUUAVNS1Wx0e2W41O5S3ieVIUZ/4nc7VUAckkml1PU7PRtMn1HU7hba0tkLyyvnCL6mvPPiJK9z8V/h3pcufsb3lxdsp6NJFHlPyya4HxbqWseJ/D/xKv8AUPE1zYxaPcyWFvpClBC8QwPnUjJZs8EEcj8KAPebHxDpOpXaWtjfRzTyWqXiRjILQv8AdcZ6g1pV4rHK+n+KPg/dWgIlu9Laznx/HF9nRsH2B5r2qgAooooACQBk8AVlnXoZP+Qfa3N+v/PS3VQh+jOyhv8AgJNQ33/E11J7F+bK2Cm4XtNIRkIf9kDBI77l7ZBfpupWerWIu9NmE1uXeMOoIG5HKMOfRlI/CgB/9sXH/QFv/wDvuD/47R/bFx/0Bb//AL7g/wDjtWKKYFf+2Lj/AKAt/wD99wf/AB2j+2Lj/oC3/wD33B/8dp0F3b3Mk8dvMkrW8nlTBGz5b7Q20+hwwP41FYanZ6pHO9hMJlgne3kIBG2RDhl59DSAf/bFx/0Bb/8A77g/+O0f2xcf9AW//wC+4P8A47ViigRXOszD72jX4Hc7oTj8BJn8qt2Wo21+rfZpMvHxJG6lHT/eU4I/rTKp39m0224tCI76EEwyHv8A7DeqHuPxHIBoGbFFV7G7S/sIbqNSolQMUbqh7qfcHIPuKsUAFFFFABRRRQAUUUUAFFFFABRRRQAUUUUAFFFFABRRRQAUUUUAFFFFABRRRQAUUUUAFFFFABRRRQAUUUUAFFFFABRRRQAUUUUAFFFFABRRRQAUUUUAFcbonw40uw0C90DVbe11TSHv5Luztp4QRbq53bOfRi2CMcGuyooA5HXvh9pt74X1LR9At7TRf7UWKG7mt4ApaJSAQAMc7MqPTNdTaWsNjZw2lqgjhgjWONB0VQMAfkKlooAKKKKAAjIIPeudHgjSl8IWfh1WuFtrFke1nDjzoXRtyurY4YH26ZHeuiooA5uPwTZw6u15BqGpwwPdfbHsI7nbbvMTuLlQM8t8xXO0nORzUEXgyHSNQXVrKW+1O5tA/wBhtLy8/dweZw21tpboSBuLYHArq6KAOZv7PUvFGm3Gja7pQsLK6Ta89tfh5FwQRgbPUVGPh/YSrdnU9Q1LVZrizlshLfThzFFIBvCBVABOBzjPAq741vTpvg3ULwXBtvJRWMwfbsG4ZOe3FVP+FmeCP+hr0n/wLT/GgC1pHh9or6z1jVHL6vDp/wDZ8rRt+7dQ+7eBjIJIB9s4q7e6UdQvZVvJPO02eze2msnGUkLEc/8AfOR759qyP+Fm+CP+hr0n/wAC0/xo/wCFmeCP+hr0n/wLT/GgBdO8CWNjqFncz6jqmorYEmyt7668yO2OCu4DALEAkAsWIzxV/wAP6VNp41C6vSpvNSu2uZghyqDaqIoPsiID6nJrP/4WZ4I/6GvSf/AtP8aP+FmeCP8Aoa9J/wDAtP8AGgDqKK5f/hZngj/oa9J/8C0/xo/4Wb4I/wChr0n/AMC0/wAaAOoorl/+FmeCP+hr0n/wLT/Guhsr211KxhvNPuI7m2nUPFNEwZXU9wR1oAnooooAKKKKACiiigDmPGPhSTxDcaJf2MscGoaNqCXcLyZ2snSSM45wyk/iBS6r8OPCGuapPqWraBZ3N5cR+XLKykFxjHODgnHfr7101FAHJL4JT/hPNK1jMUem6JpxtNOtEyTG7cMxz2CKqj8a62iigAooooAxdP8A+PrUw+PMF42/H+4m3/x3bXmfhrSX1P8A4RzTr5r+GydtckniguJYA5+2rs3FCD0Ykc16bqCNp2oNqKKzWsyhboKMmMj7smB1GOG9gp6A1bjkSWNZInV0YZVlOQR6g0AeLWuoQzTaTH4v1PWkjPhyNx9nmnVnn86RVY+XyZMDjPUjnJAqzqGuaxpvhvXLbXZb+LWbzQLRrdI45CTMI3EpUqMKQ2C2MY616uNNtV1h9UEZ+1vbrbM+48xhiwGOnVjzVugDjPBVpbWXirxlGvnLdSamszJLI7AxtChVlDHGC28ZHpjoABzmjaZLqGrRWNy97BZz+INXadIJpIfNXqoLKQcZ568/nXq1FMR5LpUV9pmj6PqouNbu7ua0v47lBdSSPKsaP5QVWyocbF2nGSTznJrG02/1ZpdUTRpr37NNpSSP9luru5YkXEYlZHmUEzCJn4QDnHfGPc6q6lp1rq+nTWN/H5tvMuHUMVPXIIIIIIIBBHIIpDPH7q9lz4gj8HXuqPpcY07e1y90/lQs83nMmT5u3gbipzw2Dxx2nw1a5ay1Hdfi9sROv2Uok+xPl+YI85LMucdyAcgV0ejeH7DQhObETvLcMGmnubh55ZMDCgu5JIA6DOBzUt7eSGT7Dp5D30g47iFT/wAtH9h2H8RGB3IAJ9A/5B0uPu/bLnH/AH+fP65rTqGztY7GxhtYM+XCgRSxyTgdSe5qagAooooAKKKKACiiigAooooAKKKKACiiigAooooAKKKKACiiigAooooAKKKKACiiigAooooAKKKKACiiigAooooAKKKKACiiigAooooAKKKKACiiigAooooAKKKKACiq2oX0enWEt3MrMkYBIXqecf1rA/4Tuw/59bn8l/xqXJLc1hRnNXijqKK5f/hO7D/n1ufyX/Gj/hO7D/n2ufyX/Gl7SPcv6tW/lOoorl/+E7sP+fa5/Jf8aR/H2mxqWkguFUdS20AfrR7SPcPq1b+U4f42/Ei/8Equm3eiJe6ZqkQMF2kxQo6sCyMCCD2IPHB9q6z4aeJrnx54ZOv3uh2+l2s8pWzhz5jui8FycAcnIAx26nNcr8StV8KfEHwvLoF5dLbXSzo8MjSx74ZFODxuzkgsuPeut0vxVo2j6Ta6bp9jcRWtpCsMSAL8qqMDv7Uc8e4vq9V9Drfstv8A88Iv++BR9lt/+eEX/fArkV+KPh95xCswaUttEYmjLE+mN2c+1WJviHpVtC0tzHNDGvLPIUVR9SWo549w+r1ex032W3/54Rf98Cj7Lb/88Iv++BXLxfEXSJoUlhWSSOQ4R0ZCrH2Ibmpf+E7sP+fW5/Jf8aPaR7j+rVf5To/stv8A88Iv++BR9lt/+eEX/fAqrpGrw6zatPbo6KrlCHxnOAe31q/VJ3V0YSi4uzIvstv/AM8Iv++BXL/Cz/klfh//AK81/ma62uS+Fn/JK/D/AP16L/M0xHW0UUUAFFFFABRRRQAUUUUAFFFFABRRRQAVnSaFZtI0lv51o7Hc32aVkVj3JUfKT7kZrRooAy/7EP8A0E7/AP77T/4mj+xD/wBBO/8A++0/+JrUooAy/wCxD/0E7/8A77T/AOJrK8L2dxqnhTTL681W9ae4tkkkKsgBYjJ421Y8W+ONF8EQ2tx4klmtbS6cxrcrC0iK4GQrbckEjOOMcGuc+FvxA0DxDpGn6FolxLeXdlYI10yQMscGABgswAJJ6AZ6H0oA7D+xD/0E7/8A77T/AOJo/sQ/9BO//wC+0/8Aia1KKAMv+wkbia/v5F9PP2fqgB/WrtpZW1jEY7SFYlJ3NtHLH1J6k+55qeigAooooAKKKKACiiigAooooAKKKKACiiigAooooAKKKKACiiigAooooAKKKKACiiigAooooAKKKKACiiigAooooAKKKKACiiigAooooAKKKKACiiigAooooAKKKKACiiigDG8V/wDIt3X0X/0IV5rXqOv2r3ujzQRkBnAwT9Qf6VwZ8PXQPUfka56sW3oenhK1OnBqT6nnaavc+Zc3j6vtuI7ye3j0ry0YSBNwRcAbwxCht2cYPTFUZddv7bSWntda+3y3GjXF63yR/wCjSIilWUKOFyxGGz0+temf8IoRdm6EEP2grtM3l/Pj03Yzimp4QWITCO2t0E/+u2wgeZ/vcc/jU8suxr7an/P+Zwdxd6vps96i6jNe/Z7ODUCJI0BI8x/NQbVHBVOO4PenQajNq95p0zy79PvNTla3AAAMcUbbPrudDIPoK7//AIRqbeX2puK7S2zkj0+nJqC48HNPbwxKFhFvIskPlrjyyvoOmMZH0Jpckuw/bUv5jhtBsLmbUL+byNMe2/tS5y0kBM/ErdGzjr0p0H9uf8Jh+8+2/wBifaX2Zxv8zb/F38jO7b747YrtjpEtvqsNgkaqbiKa43KMco0YOR3JMmc+1W/+EfuvUfkaOWfYarUbL3jzfwZY3TWaXDQaY1t9ruTvMBM/Ez/xZxnP6Voaw9rJ4o0dtQeFtPKThDIQY/tGU25zxu2+Zj3z3rto/Dc0SbYlRFyThVwMk5P61Ang4LZNaNDFJAzMzRyJuUlmLHIIx1JNHLK97Aq1FR5eY4m9bSf7B8RNo21Gt1M8kkX+rE6JuUr/AA7gVUnHfrzXTQO0lvG7rtZkBZfQkdKuz+C/O09bJUSG2DKTFEm1SAc7cY6HHPqM1c/4R+69R+RocJdio4ikn8R0ngU/8S6YdvNP8hXVVz3hOxksLSRJeSz7uB7D/CuhrpgrRSZ5FaSlUbQVyXws/wCSV+H/APr0X+Zrra5L4Wf8kr8P/wDXov8AM1RkdbRRRQAUUUUAFFFFABRRRQAUUUHpQBTk1jToZWjlvoEdThlaQAg0z+3NL/6CFt/39Fec62c67en/AKbN/OsLVdSOmwQmKA3E9xMIIYgwXcxBPLHoAFJJ9q53Vd7WPUjgoOKk2ex/25pX/QQtv+/oo/tzSv8AoIW3/f0V4c2vX/nRWcejMdQZXkeB7lVRUUgbg+Oclhjgd84xVWTxg8kPm6dpb3KLYi9kLziMou5gy4wcsCh9j6jue1l2F9UpfzM97/tzSv8AoIW3/f0Uf25pf/QQtv8Av6K8PbxNEBKq27GUTW8cMZbBlEwBVvYD58/7jVF9pe/0i91KbUriwtop5SrW4TKxxFkOdynqVZvyFHtZdg+p0+jPU/Hun6F438E6joVzqFqGuI8wyGQfu5RyjfmBn2zXM/BDw3p3gLwIqajdWser6g/n3g81SU7ImfYc/VjXDHWr7wx4XttR1ozXvnTbpUdkE0SOPkRQAA7DjPT+I9BU+o3l1ceGbfVReT2k8sa+VbWMsbrK8hAjXcyHPJAyOOvWj2khfVKfdnvX9uaV/wBBC2/7+ij+3NK/6CFt/wB/RXh+o3N5oPg15Zbk3d7DEiG4aPO6RmC7tqjkAtnA64xWfaa62lC9Gp3N/LIiRtDa3sMazSMxIGwp8pDEAYPKkHPFHtZDeEpp2bZ9Af25pX/QQtv+/oo/tzS/+ghbf9/RXz9Zatqi+GdWv764ikutOu5JHSLGzy0VWMY9RjcAeucGusVg6hl5BGRQ6rQ44OEurPVf7c0v/oIW3/f0Uf25pX/QQtv+/orwWWe6u0vr6bWW03TILmVN8apu2xhU4LKRjeJOxJ+UCtbQZbyfQ7WTUg32llJYsmxiMnaWXsxXBI7Emj2rBYODdrs9og1WwuZhFb3kMsjdFRwSat15l4YYp4itiP8Aa/8AQTXpo6VrCXMrnHiKSpT5UFFFFWc4UUUUAFFFFABRRRQAUUUUAFFFFABRRRQAUUUUAFFFFABRRRQAUUUUAFFFFABRRRQAUUUUAFFFFABRRRQAUUUUAFFFFABRRRQAUUUUAFFFFABRRRQAEAjBpnkx/wBwU+qM2oGKZkEYYL3zWVWtCkuabKjFydkW/Jj/ALgo8mP+4Ko/2o3/ADyH/fVH9qN/zyH/AH1XP9eofzfgy/Yz7F7yY/7go8mP+4Ko/wBqN/zyH/fVQXviCLTtPuL69AitraJppn5O1FBLHAGTgA9Kf16g+v4MPYz7HkHx88QeKfA+taTrmizJ/Z8iPApKYMMhKsykjGVcRqcHP3WrvfhTqXiDxL4Mj1/xYII5dRbzLW2gh2LFD0U85JLcnk9NtUNf1rwn8SdAufD9+8ojkQXIWa2mgk2oQxdBIgLY6HGeD71v6f4z0Q+GrDUNNlhOlTmKC1eINtyzCNFxjI+YheQMd8VTxdJbt/cxezkdP5Mf9wUeTH/cH5VR/tRv+eQ/76o/tRv+eQ/76qPr1D+b8GP2M+xe8mP+4KPJj/uCqP8Aajf88h/31R/ajf8APIf99UfXsP8Azfgw9jPsaCqq/dGKWqtrefaGZWUKR0561arqp1I1I80djOUXF2YVyXws/wCSV+H/APr0X+Zrra5L4Wf8kr8P/wDXov8AM1YjraKKKACiiigAooooAKKKKACg9DRRQB5ZrUb/ANuXh2NgzNjj3rF1PSRqdukbtNDJFIJYpouGjcZwRkEdCRggggmvXbjSYriQu3Wof7BgrD2Ot7noLGtR5eU8YPhUgxzRajqMd6u8PdgoXkDkFlIKlQPlGAAMY471LD4WtLeGSKBZ0SSxFiRnOEBY5yR97LnmvYv7Bgo/sGCj2XmH1xfy/iePHwzanVLC/Kz+dYReVGM/Kw2lQWGOSAzY/wB40yPQGfTb7S7lXFnNO0sZTrtd/MZTx/eLD6EV7J/YMFH9gwUey8w+ur+U8wktElmilltw8kJLRuyZKEjBIPbg4qm+kWkjWtvFH5K2UouUgiAUAkOASuOmSx7cj2r1DVdNTTtIuryC1e7kt4mlFvGcNJgZ2j3Pb3ryXQ/i/wCENX8XyrYW+qT3GoRWtra2gthvaQNKWyd2AP3i859aPY+Y/r390uX2lyag0kNwXNnJAUaJeDv3AhwcZBGPX+VVYvC1s0kkmqiTV5ZAq7r6JHCqucAKFCj7x5xk5r2MaDBjmj+wYKPY+Yvrt3dx/E8Vk8KW9tpN/YaTarAupy4uCsYXYjDDAYA4C5AHq1a9rbXMT3Hmszo0uYV2/wCrTYo29P7wY9+tep/2DBR/YMFHsfMFjbbRPF7jwkk1tp8MV5e266eS0ZQI29z/ABsGQgt1OccEmte0tZra1SKWae5Zc5llUbm577QB+Qr1L+wYKT+wYKPY+Y1jbO6j+JxHhtGGv25KsBk8kexr0wfdFULfSIoJA69RWhWkI8qsctet7aXNawUUUVZgFFFFABRRRQAUUUUAFFFFABRRRQAUUUUAFFFFABRRRQAUUUUAFFFFABRRRQAUUUUAFFFFABRRRQAUUUUAFFFFABRRRQAUUUUAFFFFABRRRQAUUUUAFYlz/wAfL/WtusO/juFuGMUYYE964sbRnVpqMO5rSkoyuyOiof8ATf8Angv60f6b/wA8F/WvK+oV+34nT7aBNWL40R5fAXiCONWd30y5VVUZLExNgAVqf6b/AM8F/Wj/AE3/AJ4L+tOOBrpp2/ETrQaPMLGSW81bTns9U1DX1isLmOb7XZeStkDF95WWNAWLBUwdxwSRjms+z0jUNB8K+FI7G0mk07VpNKkuoVQ5s7pJIWaQjsrqp3ejKD/Ea9P1y/1DTNFuLyK3jLxAEBs45YD+taH+m/8APBf1ro9hX6R/FGfNDuTUVD/pv/PBf1o/03/ngv61zfUK/b8TX20Caiof9N/54L+tH+m/88B+tH1Cv2/EPbQL1j/x9j6VsVj6ZHOZ90ybcDtWxXs4WnKnRUZbnLUkpSbQVyXws/5JX4f/AOvRf5mutrkvhZ/ySvw//wBei/zNdJmdbRRRQAUUUUAFFFFABRRRQAUUUUAYtz4w0KzupLa5vwksTFXXynOCPoKh/wCE58Of9BIf9+ZP/ia8w8Uf8jVqX/Xw/wDOuM1LXLyzuL3yLSGWCxETSFpSrOH7KMYyPeveWX0FTU5N6/12PlJZvinVlThGOj8+9u59Bf8ACc+HP+gkP+/Mn/xNH/Cc+HP+gkP+/Mn/AMTXz7Lrd5apdx3kVnFPbyRqGM5Ee1wSDkjJIwRgDmq6eLDHo7aldW6m3guWt7hoieOm1lDAEgkgYPTOaX1HCreT/r5DWaY5q6hH8f8AM+iv+E58Of8AQSH/AH5k/wDiaP8AhOfDn/QSH/fmT/4mvnC9nnl12OPUI9RUmxSRoNOlkIRy7A52kZ4wM+1WbG91hLe1sBCkl75TzO15JgrHvIjU7QcuRjJ7YPWksDQbtd/18inmuLUU7R/H/M+hv+E58Of9BIf9+ZP/AImvKfA3hPwn4V+KmveJpNQia3kkP9lRiJ/3QkGZDjbxgkoPbPrXIL4huryAzabZxMkNqlzOs8pU/Nu+RcA8/KeTx0qIanLc6hNFDNIsd5c26RnODGjQeY2PQkKR9Tmj6jhujf8AXyEs1xut4xVvX/P5n0V/wnPhz/oJD/vzJ/8AE0f8Jz4c/wCgkP8AvzJ/8TXz1fC5stZtbgXF20U1yFkkMg8mNW+UR+XnqTgbsdTye1S2ur3Oo3l3pyxrbT2qstzMGDCNj/qyoPXI+bnpjFP+z6F7Nu/y/wAif7XxXLzJRa+en4/1p3PoD/hOfDn/AEEh/wB+ZP8A4mj/AITnw5/0Eh/35k/+Jr55sY7ldR1DTjPeRAwBrdribzHYhiDKrZOBkp8p/IZrX0u8/tDSbS7K7TPCrlR2JHI/Oqhl1CWl3+H+RNTOcVDW0WvR9fme3/8ACc+HP+gkP+/Mn/xNH/Cc+HP+gkP+/Mn/AMTXz9clry8v3k1CSzsrTy45GR9ucKXf5v4fvoMjn5SO9WNA882MrStO0LTMbU3BJk8rAxuzz13EZ5wRmhZdRcrXf4f5DlnOJjDmtHp0fX5n0Tpeu6brJlGmXInMWN+EZcZ6dQPStCvO/hZ/rNT+kf8A7NXoleTiqUaNZwjsj38DiJYnDxqz3d9vUKKKK5jtCiiigAooooAKKKKACiiigAooooAKKKKACiiigAooooAKKKKACiiigAooooAKKKKACiiigAooooAKKKKACiiigAooooAKKKKACiiigAooooAKKKKACkwD1FLWPea1JbXckKxKwU9SevFZ1KkaavI0p05VHaJr7R6CjaPQVhf8JDL/AM8E/wC+jR/wkMv/ADwT/vo1j9bpdzX6rV7G7tHoKNo9BXPT+KDbW8k80KLHEhdzknAAyaxLL4q6Xfz20UaTxG7IFu9xZzwpKSMgK7oFJI6c89qpYmm9vyE8PUTszjfj94q8WeC47efTDbXGhamohkjngyYJlO4YYEHDAZwc/dau3+E+qeJPEXguLX/FzwifUT5ttbQwiNIof4T3JLctyTxtpPF1tZeM/Dc+ja1aK1rMysSrYZSrAgg9jxj6E1ZtPGdknhqPUrSKNNMjtfORlVgFiVc8LjPAHTFL61S7j+rVV0Ov2j0FG0egrlH8c28dpZXLqoivnjSBsN85cZUYxxn3q9/wkMv/ADwT/vo0fWqXcPqtXsbu0ego2j0FYX/CQy/88E/76NH/AAkMv/PBP++jS+t0u4fVavY3gAOgorO03U2vndXRU2gYwetaNbwmpx5omE4OEuWQVyXws/5JX4f/AOvRf5mutrkvhZ/ySvw//wBei/zNWSdbRRRQAUUUUAFFFFABRRRQAUUUUAeQeItB1a48SahLBpt1JG87FXWFiGGeoNYM/gfUbkXQl0e+P2oKJcRMMhen0r32ivVWZSUVFxWh4MslpubmptX/AM7nz9d+A9QvJnmk0rUUmZ0cSxI6srKCAQR04Zh+NRxfDq6iUKdFv5U81pikyO4Z2XaWOc5OPX1NfQtFH9pNu/IgWTJKyqyPArXwRqVnIkkOk35dIFtwXjdjsBJA5+vWm33gbU7+RJZNM1KKVFKCSAPG209VJHUcD+le/wBFP+05W5eRWJ/sSHNze0dz51v/AAFJDaGa50y+s7WCARSlC8SGJf4Xx1AyfzPNTXPgTVWJms9Iu47gTRzKTC23KLtA6cArlePWvZ/Gu3/hCdUD9GgKn8SB/Wt2l/aL/kRX9jR/5+M+fP8AhX999t+0f2TqP+t87ycP5fmf39nTOefrz1pF+Hl0oI/sO9O+OSOUtG5Mquctv9eefbtX0JRR/aT/AJEH9jL/AJ+yPnuPwHrFpDO1lp2ovdyReUk1yJJCg7AZ7Drjv3NT2fgzWbHYkOnX/kR28cMcRibC7c8/Ugj8q99oprMpJ6QQnksJKzqP8D58uvh/f3dobeTStRVDcG5JjV1JfJOcj3PT2HpVmz8IazZQtGthqcwLbt04eRvpk9q96ooWZyTuoITySDjyuo7HC/DjTb7T31D7daTW+8R7fNQruxuzjNd1RRXn16zrVHUa3PXwuHWGoqlF3sFFFFYnSFFFFABRRRQAUUUUAFFFFABRRRQAUUUUAFFFFABRRRQAUUUUAFFFFABRRRQAUUUUAFFFFABRRRQAUUUUAFFFFABRRRQAUUUUAFFFFABRRRQAUUUUAFcnqX/ISm+v9K6yuc1Kwma8d4lzuOa5cTTlUglE6cNUjTm3IzKKn/s+7/550f2fd/8APOuD6pV7Hf8AW6Xcy9ZVn0G/VFLM1tIAAMknaa4iz0fUbG28K3GrXt/qWmILffaNEi/ZJtg8tzsQMyK3BBPBwTnBr0v+z7v/AJ50f2fd/wDPOrjh60VaxEsRSk73PJfDltqw8T2r311Mmpi5kN6i2Fxlk+bh5Wk8ox/d27V/u4A5rV8P6jbah8PIfDUYuo9Tk0p7by5bOZFV/KIwXZQv616DcWd/FbSPDbiWRVJVC20MfTPOKi01bjU9Js7+OEol1AkyqTkqGUNj9auVCq+n4kRrUo9Tg4L/APtbT/DGk2lpereWVxbyXiTWkka24iQ7tzMoXrgDBOc8V31T/wBn3f8Azzo/s+7/AOedZyw1V9DSOJpLdkFFT/2fd/8APOj+z7v/AJ51P1Sr2K+t0u5c0P8A4/G+ldHWFo1pNDOXlXHFbtenQg4U1GR5teanUckFcl8LP+SV+H/+vRf5mutrkvhZ/wAkr8P/APXov8zWxidbRRRQAUUUUAFFFFABRRRQAUUUUAFFFFABRRRQAUUUUAYPjZQ/hC8Q/wAbRL+cqit6sDxqhk8Lui9WurUf+TEdb9ABRRRQAUUUUAFFFFABRRRQAUUUUAFFFFABRRRQAUUUUAFFFFABRRRQAUUUUAFFFFABUF5cG2tWlUAkYwD9azPEXi3RvCYs38QXQsre8l8iO5kH7tXxkKzfw5APJ44PNWL+4hutJWe1lSaGTDJJGwZWHqCOtAFf+25f+eSfmaP7bl/55J+ZrNooA0v7bl/55J+Zo/tuX/nkn5ms2uIuvFeqjXr20hudJtJre48q30u+Vo5r1OPnSUuF+bJxhWxjB9gD0n+25f8Ankn5mj+25f8Ankn5muNtPFETeIb3SbjDXKXogtoYUJcx+TFIzvzwoMhG7gdByetaHxxYpa2wkW7vriaB7jFlYuf3ayFC23JIAI9ee3XFAHd/23L/AM8k/M0f23L/AM8k/M1xVz4oaSO+uNFjjvoLPTBe5DY85nUtEint8qEnP95fes3QPFuoazZ6obWbT9Tezt454prWGSJHZtxMJVyTuwow2cfOOOMUAej/ANty/wDPJPzNH9ty/wDPJPzNYtjeQ6jp9ve2rboLmJZo29VYAj9DVigDS/tuX/nkn5mrmn37XbOHVVK4xjvWDWho/wDx9H6UAblFFFABRRRQAUUUUAFFFFABRRRQAUUUUAFFFFABRgHqKKKAE2j0o2j0paKAE2j0o2j0paKAPNPiP8XIPhvrEVnrWh3VxZ3sBe2u7V1OWHDIytjBHB6nhhV/4QeJpfFfgCyuzpjWNpbxpaW7yPua48tQrPgDhdwwOT0NN+MngmLxx8P57QALeW0iT2suM7WztI+hUn9PSuq8MaKnh3wrpejx+XixtY4CY1wrFVALAe5yfxoA09o9KNo9KWigBNo9KNo9KWigAAA6UUUUAFcl8LP+SV+H/wDr0X+Zrra5L4Wf8kr8P/8AXov8zQB1tFFFABRRRQAUUUUAFFFFABRRRQAUUUUAFFFFABRRRQBg+M2KeHUK9TqFiv53cQ/rUsvh1pZnk/tvVk3MTtS4AC57D5elQ+MWA0a0U/x6rp4/8m4j/St+gDD/AOEZb/oPaz/4Er/8TR/wjLf9B7Wf/Alf/ia3KKAMP/hGW/6D2s/+BK//ABNH/CMt/wBB7Wf/AAJX/wCJrcooAw/+Eab/AKD2sf8AgSv/AMTR/wAIy3/Qe1n/AMCV/wDia3KKAMP/AIRlv+g9rP8A4Er/APE0f8I03/Qe1j/wJX/4mtyigDD/AOEZb/oPax/4Er/8TR/wjLf9B7Wf/Alf/ia3KKAMP/hGW/6D2s/+BK//ABNH/CMt/wBB7Wf/AAJX/wCJrcooAw/+EZb/AKD2s/8AgSv/AMTR/wAIy3/Qe1n/AMCV/wDia3KKAMP/AIRlv+g9rP8A4Er/APE0f8Iy3/Qe1n/wJX/4mtyigDD/AOEZb/oPaz/4Er/8TR/wjTf9B7WP/Alf/ia3KKAMP/hGW/6D2s/+BK//ABNH/CNN/wBB7WP/AAJX/wCJrcooAw/+EZb/AKD2s/8AgSv/AMTR/wAIy3/Qe1n/AMCV/wDia3KKAMP/AIRlv+g9rP8A4Er/APE0f8Iy3/Qe1n/wJX/4mtyigDx/4y/D/WvE3hmw0bw/NqGpXM98sjm8nXyYEVWy7HAwcsAO5ycA1N8PPhRdfDnRpDe+Iru+llA3WcbFbSM56hTyT/tcfSvWqpaqpayYDnkGgDAoqMygfwt+VHnD+635UASVyOr+FdX1O01DS21W2l0q/d2P2u1aWe2DnLLG2/bwc7SR8vHXArqvOH91vyo84f3W/KgDm4vBwtfEs+vWVwsV/Ldq7SFCTJb+VHG0LnPP+r3g9mx75ybLw3r2ka5awaRd26LDpTQvc3FozxsWuGfAwwwwBzjJzXdecP7rflR5w/ut+VAHHxeDUtba+0CJ5hYX+mQwJchdxjkhXyzu7cqUOOh2sKurpur2Ut/rV/Jb3uomyFpbwWNu0aHDEgtuZiSWYc9FGfc10fnD+635UecP7rflQBV0TTho+gWGmh/MFnbRwb/721Quf0q9UfnD+635UecP7rflQBJWho//AB9H6Vl+cP7rflWnop3XBIBAx3FAG7RRRQAUUUUAFFFFABRRRQAUUUUAFFFFABRRRQAUUUUAFFFFABRRRQBmeJNv/CPXW/Ztwud+zH3h/f8Al/OtOszxHIIvD107SeWAF+beVx8w7gHH5Vp0AFFFFABRRRQAUUUUAFcl8LP+SV+H/wDr0X+Zrra5L4Wf8kr8P/8AXov8zQB1tFFFABRRRQAUUUUAFFFFABRRRQAUUUUAFFFFABRRRQBheK9r2OnqT11Wzx9ROp/pW7XzZ+0FoPiLRfGGnat4Vv8AUYLfWpkja3tLh0UXi4CkAEAMwwQeuVJr3LwN4ck8LeD7LTbu5kvL0J5l5cyyF2mmbliWPJ9B7AUAdDRRRQAUUUUAFFFFABRRRQAUUUUAFFFFABRRRQAUUUUAFFFFABRRRQAUUUUAFFFFABSMgdcMMilooAg+xQf3B+VJ9ig/uD8qsUUAV/sUH9wflR9ig/uD8qsUUAV/sUH9wflVO4ktrfVrKwMG5rtZGDjouwA/rmtSsPU/+Ry0L/rndf8AoKUAan2KD+4Pyo+xQf3B+VWKKAK/2KD+4Pyo+wwf88x+VWKKAK/2KD+4PyqSOCOL7igVJRQAUUUUAFFFFABRRRQAUUUUAFFFFABRRRQAUUUUAFFFFABRRRQAUUUUAYPjUg+Dr/B6BM/99rW9kZxnn0rwX9pPw9qlrptv4s8P3l3bBdtrqMdtMyCRCf3bsAecH5cn1X0r0D4Q+F7zw14Dtn1uee51jUQLq9luJC8gLD5UJPPyrgY9d3rQB3VFFFABRRRQAUUUUAFcl8LP+SV+H/8Ar0X+Zrra5L4Wf8kr8P8A/Xov8zQB1tFFFABRRRQAUUUUAFFFFABQTgE0Uj/cP0oAwHv7rzGxM2M8cCm/2hdf89m/IVA332+tJW9kUWft93/z2b8hR9vu/wDns35CuF+I4kksNEhjt5LoTaxCjW8c/kmZSkny7sjHT17VhWGqzeHV8Qaha6dNYpZrb2v9jzXcly3nySbVmxzhSHX7hO7aehFTpcD1b+0Lr/ns35Cj+0Lr/ns35CvOV8W+Jhp14P7JkluIWhMc50yaIFHLB8QM+52XaDhX5Dexz0vhbWH1vRftE8sEk8crxS+TDJDtIPAaOT5kbBGVOevBIpqzA27lzemH7UFm8iUTRb0B2OOjD0Iyeam+33f/AD2b8hXG6rbprfjhNI1KSX7BDp32pbaOVoxcyGQqSxUgsEAXjOMvk9qxLbU4obe+0TTo9XsDLf2lu1vfuC1rHOcN5TB2OCqORk/KW4o0A9O/tC6/57N+QpP7Quv+ezfkK8+8S2osNSg1qzmuZViv4Vu7pL4kWUYZFMKwAhWVs8g8jcW54FW/GQvr3WNH0m0gNxDcJcTSxG7a2SQxhAod0Bbb85OADkgZ4zRp2A7b+0Lr/ns35Cj+0Lr/AJ7N+Qrx7WvFosvBr6DbXt1pt2Ibv7RPcTGZ4BG7r5UcuPnJYbVY8hRk8gV1ttqY8zwrfWk7TQ6khs5eSQ/7lpVf6homGfRzS0A7T+0Lr/ns35Cj+0Lr/ns35Cq9FVZAb2m3DT237xtzAnJNXKzdH/1TfWtKsXuSFFFFIAooooAKKKKACiiigAooooAKKKKACiiigAooooAKKKKACiiigAooooAKw9T/AORy0L/rndf+gpW5WHqf/I5aF/1zuv8A0FKANyiiigAooooAKKKKACiiigAooooAKKKKACiiigAooooAKKKKACiiigAooooAKKKKACs3X9ctfDuizajeh3VCqpFEu6SaRiFSNB3ZmIAHvWlXIeO2WC+8K3l3/wAeNvrUZuCfuoWiljjY+wkdPxIoAry+G/EfiuyY+K9XOk2swBOlabHG2wZyBJNIrbmHfaFGRxnrUx0HxJp8K3nhrxXNqY2h1tNXWOSKYe0saqy57H5h7V0Gu6fd6npT2+n6lPpsx586BI2YjB+XDqRg/TNZPw90HU/DngzTbDWdQmup4rOCMwyLHi2KxgGNSgG4A8ZJJ460AaHhvxBF4i0xpxBJaXVvK1vd2kuN9vMv3kOOD1BBHBBB71qtIisqsyhnOFBPLcZ4ryDxNrfjDTte8X6j8N9Fg1Qb7a3uJC+THPHGd5SPjzCFeNTg8FcYPbzv4N+JvGWufFDVb7UYTrWsQWTJ5Oo3Ztvs6mRd21djBeQBgAdaAPqWiuS/tfx3/wBClpf/AIOj/wDGaP7X8d/9Clpf/g6P/wAZoA62iuS/tfx3/wBClpf/AIOj/wDGaP7X8d/9Clpf/g6P/wAZoA62uS+Fn/JK/D//AF6L/M0f2v47/wChS0v/AMHR/wDjNX/A+j3Xh/wNpOlaj5f2q1t1jl8pty7u+DgZoA3qKKKACiiigAooooAKKKKACkf7h+lLSMMqR7UAcu332+tJVqfTLozMYjhc8cVF/Zd7/eH5Vrzodyjeafa37WzXcQkNrOtxDkkbJACA3Hsx6+tQXug6XqNxLNe2cczz2/2WXdnEkWd20jocHkHqMnGM1q/2Xe/3v0FH9l3v94flRzILnOp4M0JLOa2NmzrOyO8klxI8uU+4RIWLjbk4wRjJ9TUkGlT6PCLbw/FaRW5JeQ3LyPI8h6sWJJY9OSSeK3v7Lvf7w/Kj+y73+8PypcyC5iXWhw61axDxBbwyTwuWiltneNo8/wB1wQyk98Hmq7+EdNh0ie00uFbWaSVLgXLFpJDNGwZHZmJZsEDgnpkd66T+y73+8Pyqho9tqN7p/nSyBm82Rc7QOA5A/lTurXGUJvC2j3OqjUriyDXRdZHxI4jeRcbXZM7WYYGGIyMD0FOuPDdhe2zw34knBuXuY3Ero8LNn7jqwZeCRwe57cVt/wBl3v8Ae/QUf2Xe/wB4fkKXMhXM2DR7C20VtJgtljsWjaJoVJwVbO7Jzkk5OTnJJzmom0hH1WxuCQINPiZbeEDo7DbuJ9kyo/3m9q1/7Lvf7w/IUf2Xe/3v0FPmQXIqKl/su9/vD8qP7Lvf7w/KjnQXNPRv9S31rSqlpts9vCRJ1NXaze4gooopAFFFFABRRRQAUUUUAFFFFABRTXdY4y7nCqMk1X/tO0/57D8jQBaoqr/adp/z2H5Gj+07T/nsPyNAFqiqv9p2n/PYfkaP7TtP+ew/I0AWqKq/2naf89h+Ro/tO0/57D8jQBaoqr/adp/z2H5Gj+07T/nsPyNAFqiqv9p2n/PYfkaP7TtP+ew/I0AWqw9T/wCRy0L/AK53X/oKVrQ3cFwxWGQMQMnisnU/+Ry0L/rndf8AoKUAblFFFABRRRQAUUUUAFFFFABRRRQAUUUUAFFFFABRRRQAUUUUAFFFFABRRRQAUUUUAFVtQ0+01bTp7DUYEuLW4QxyxOMhlParNFAHB30XivwRpUsumX9prml24GyDVC8dxEpIAXzlBDgZ6sufUmrsll451pfIvr3TNAtm4kbTWe5uGHcK7qqp9drGvOP2i5fFPh20ttc8O6tdQaZdYtb+1BDxq45RwGB25xgkY6D1rvPhFaa+PAtvqni/Ubm+1XVMXLCdv9TGR8iBRgLxycAct7UAdZo2j2OgaTDp2lw+Tbwg4BJYsSclmJ5ZiSSSeSTSNommNrcesGyhGoxxmMXSriQoeqkjqOBwc9Kv0UAFFFFABRRRQAUUUUAFFFFABRRRQAUUUUAFFFFABRRRQAUUUUAFFFFABRRRQAVkeGf+QN/23m/9GNWvXOaDBfvprNbX0cMfny4RrfcR+8bvuFWvhY+h0dFZ32XVf+gnD/4Cf/ZUfZdV/wCgnD/4Cf8A2dKy7iNGis77Lqv/AEE4f/AT/wCzo+y6r/0E4f8AwE/+zosu4GjRWd9l1X/oJw/+An/2dH2XVf8AoJw/+An/ANlRZdwNGis77Lqv/QTh/wDAT/7Kj7Lqv/QTh/8AAT/7Oiy7gaNFZ32XVf8AoJw/+An/ANnR9l1X/oJw/wDgJ/8AZ0WXcDRorO+y6r/0E4f/AAE/+zo+y6r/ANBOH/wE/wDsqLLuBo0VnfZdV/6CcP8A4Cf/AGdH2XVv+gnD/wCAn/2dKy7gaNFZ32XVf+gnD/4Cf/Z0fZdV/wCgnD/4Cf8A2dOy7gaNQz3lvayRpcSrEZThNxwCfTPrVT7Lqv8A0E4f/AT/AOzrA8XWt++nQQy3K3byTDZFFb7WJwefvH/Jpxim7XGkdNqJxYS47rXO1HpOma1Y6a5v7rbb7eLZvnI/H+H6c1JSkrOwgoooqQMTUfFulaXdzW9y9y7Wyh7l4LSWVLdSMgyMikLxzz256VoWupWl7dTW9rMJJIUjkfaDja4JUg9DkA9K4zXX+ya5qksS61pV9IFMElhbNdwajiMBd6bGUMDlCDtOADux0pS2Gtt4hXUtTtHFhHFYHUNOto2xI+xwSpH31icglBnI9cAEA9Gt51uVcxrIux2jPmRlCSpwSMjkccHoeopk97b21xDBNIFkm3FFx2UZYn0A45PGSB3Fea3UcCa5YxeI7a+ls3vdYdoUilfcvnx+WzImWZORjgjkH3rS0CHVLeZY7uJ3vG0OUWEN4STgTuQjk99jWwbPPHPSgDpLHxfo2opM1rNORFAbn57WVPMiH/LSPco3r05XPUeorajkSWNZImV0cBlZTkMD0INcB4MtBba3ZNanVZYodMaG8bVIXjW0cMhWOLcoABw2QuVwi88DPR+CQw8E6ZuBCmImIN1ERYmMf98baAN6iiigC7pTFbzA7jmn6n/yOWhf9c7r/wBBSo9L/wCP1fpUmp/8jloX/XO6/wDQUoA3KKKKACiiigAooooAKKKKACiiigAooooAKKKKACiiigAooooAKKKKACiiigAooooAKKKKAKOtaLYeIdJm0zWLZbmznx5kT9Dggj9QKvABVAUYA4AHaiigAooooAKKKKACiiigAooooAKKKKACiiigAooooAKKKKACiiigAooooAKKKKACiiigArI8M/8AIG/7bzf+jGrXrI8M/wDIG/7bzf8AoxqpfCx9DXoooqRBRRRQAUUUUAFFFFABRRRQAUUUUAFFFFABRRRQAUYGc459aKKAKupf8eEn0rna6maMTRFD0NZLaAhYndQBmUVpf8I+n96j/hH0/vUAZtFaX/CPp/eo/wCEfT+9QBjPZ28l7DdyRBriBHSOTuqtjcPx2r+VOktoZZoZpIw0kBLRt3UkEH9DWv8A8I+n96j/AIR9P71AGRcW8V3bSW9wm+KVCjoTjcpGCKkACqAoAAGAAOlaMehwSxh4pQ6noynIp3/CPp/eoAzaK0v+EfT+9R/wj6f3qAIdL/4/V+lSan/yOWhf9c7r/wBBSrdlpS2km4HNVNT/AORy0L/rndf+gpQBuUUUUAFFFFABRRRQAUUUUAFFFFABRRRQAUUUUAFFFFABRRRQAUUUUAFFFFABRRRQAUUUUAFFFFABRRRQAUUUUAFFFFABRRRQAUUUUAFFFFABRRRQAUUUUAFFFFABRRRQAUUUUAFFFFAGdq+t22irE93HMyyEgNGoIBHY81h+GfEVoUj05Y52nkmkYYUYALFsnn0re1vTV1bSZrU43kboyezDpXPeBtHaBZr+5QrISYoww5AB+Y/mMfga1jy8juVpY7CiiisiQooooAKKKKACiiigAooooAKKKKACiiigAooooAKKKKACiiigAooooAKKKKACiiigDN8P/wDIEh/3pP8A0Nq0qzfD/wDyBIf96T/0Nq0qqW7AKKKKkArD1P8A5HLQv+ud1/6ClblYep/8jloX/XO6/wDQUoA3KKKKACiiigAooooAKKKKACiiigAooooAKKKKACiiigAooooAKKKKACiiigAooooAKKKKACiiigAooooAKKKKACiiigAooooAKKKKACiiigAooooAKKKKACkY4UmlpH+4fpQBzjzy+Y2JH6n+I03zpf8Anq//AH0aa33z9aSvObdzMrvrlnHcG3k1SBZgdpia5AYH0xnNW/Ol/wCer/8AfRryC9s7xoPGV3Ho2j3touqzLPNcwGW4iTy49zqmPmCg7sbgeDirmpa9rdjcPp+h3xNppOnW7xXLz2yrcgx582Qy8shxj5COjc9MXyvox2PU/Ol/56v/AN9Gjzpf+er/APfRrzh/E+sQeLI3vrxk09rm3g8q0NvNFGZET93IpxKGLvw6krgg4xmu+uzMLKc2gBnEbeUD0LY4/Wpd0IcdVhF4LQ38YuSMiHzhvP8AwHOalN0UbaZypwWwXxwOp/X9a8nlbRbT4XWt+ml6dqE6W/n6hLPeC2u0uVAZyH2M/m+YGGMgg4FdKsum38nia48T7Us1urezZZCQqxCOJ1U4/hLytnPBB54p2Y7HZQ3v2iIS2915sbdHjk3A/iKcbpxIEM7B2BIXfyQMZOPxH51xng1Y7HW/EFmfsSnzoJs2A2W43ptChP4X+TLcnO5TxnFSCwS2+LMNx508slzpFyWMkpIQCaDCqOigZPTk55JpddxHWR36yzSRRXYeSP76LLlk+ozxSJqUciyMl6rCI7ZCJc7D6HnivOLeHRTM+o+HbOODTtIs7ofaLdgLnUmKEMqn7zKMFt7Z3OARwMlvgvTIbbW7Syuf7LuY73QSmNMQKpjVkB87++x3jD8Z+f5eaq3mOx6d50v/AD1f/vo0edL/AM9X/wC+jWD4Nupr3wdp0107SS+UYzIxyZAjFQx9yFB/Gtuod0xG3pcpktsMSSCeSavVm6P/AKpvrWlXfD4UWtgoooqhhRRRQAUUUUAFFFFABRRRQAUUUUAFFFFABRRRQAUUUUAZvh//AJAkP+9J/wChtWlWb4f/AOQJD/vSf+htWlVS3YBRRRUgFYep/wDI5aF/1zuv/QUrcrD1P/kctC/653X/AKClAG5RRRQAUUUUAFFFFABRRRQAUUUUAFFFFABRRRQAUUUUAFFFeV+Ifijqlr4f8caxosFo9p4dnis7VpkY+dNuUTFsMOBuAGPTNAHqlFcf4a+JGgeK5hpulanG2rfZRN5bQuqtxyybgN6g+hNWPh94rk8X+FheXkUcGoW08lpfQx52pNG2GxnnB4I+tAHUUUUUAFFFcJ4l8Y6hpvjV9FttU0DS4Y9PiuvN1dmBkZ5JFKrh16CMH8aAO7orjNG+IUM/hu1vdVt5Hu7ieeGKHTIJLn7SsTlTNEFBYxkYO48fMOTkZuXHxD0C3jt3SW6uVmgNw32azllMEQYqXkCrlAGVgQcEFTxwaAOnopFYOoZTlWGQR3rjv7e8Sa1cahN4dGk2unWFzJaLJqIkZrqSM7XxtICKGyoPzE4JxQB2VFcynie8mk0+3+wpb3kthJfXsLyCQQKo2hQynBJc8H0Vu9YfgHxpqniyPTbm41nwy4urYXE2n2ZY3MWVzggyHGCQDkUAehUVzOra3q0/ib/hH/DS2aXMNqt3dXV6GdIlZiqKEUgsxKseoAA75pG1/WNM0O3vfEOnwWzR3q2155Mm9DGz7EmjPULuZCQ3IG70GQDp6KKKACiiigAooooAKKKKACiiigAooooAKR/uH6UtIwypFAHMN98/Wkq9Po0rylkkKgnoDUf9hz/89m/OuX2D7k8pRitoIPN8iGOPznMkmxAN7EYLHHU8Dn2qnJoGjzLbLNpNjItoMW4e2QiEf7HHy/hW1/Yc/wDz2b86T+w5/wDns350exl3DlMmbR9Pm1Aag1jam/VdqXbQKZU4xwxGarQ6dq6To02utLGrAtH9kjXcPTI6V0H9hz/89m/Oj+w5/wDns350exl3CxjPoWkSakNQk0uye9ByLlrdDID/AL2M0v8AZNv/AGjdXRAZbyJY7iF1DJJtyASD3wSp9QB6Vd1TSLmHSbuVLh1ZIXYEMQQQDT7DQ5/sELfaJGLxqxLuWOSB6mp9nLm5bisZo0HTI7GOytrG3traKdLhYreJUUOjhwcAeqirjW0DziZ4Y2lCGMSFAWCkglc+hIHHsKvf2HP/AM9m/Oj+w5/+ezfnVexl3HymFZ+GtC066W50/RdOtZ0ztlgtI0dcjBwQM9Kemh2FrbXcelWtvpsl0pEk1rAiMWIPzcDkjORnNbX9hz/89m/Oj+w5/wDns350exl3CzM+ztILCxgtLSMRwW8axRoP4VUYA/IVNVr+w5/+ezfnSf2HP/z2b86PYPuHKXtH/wBU31rSqpYWhtYtrHJ9at10xVkkUFFFFMAooooAKKKKACiiigAooooAKKKKACiiigAooooAKKKKAM3w/wD8gSH/AHpP/Q2rSrN8P/8AIEh/3pP/AENq0qqW7AKKKKkArD1P/kctC/653X/oKVuVh6n/AMjloX/XO6/9BSgDcooooAKKKKACiiigAooooAKKKKACiiigAooooAKKKKACvAYfDeqXvwy+JXhHT7ZrnV11tpEh3BTIkjRyI2SQMFQT+Fe/VWj0+zh1Ga/itoku7hFjlmVQGkVc7QT3xk4+tAHlmj6D4m1n4jeF9S1bw+NDtPDNhJDLKZ0cXLugXbHt52jrzitL4KWznRfEGr4It9Y167urb0aPdtDD6lTXpEkaSxNHIoZHUqynuD1FRWVlbadZQ2dhBHb20CBIoolCqijoAB0oAnooooAK5u78IWup+Lr7U9Vgtbyzu9Misfs80e4grJKzHnsRIB+FdJRQB5tqPw01C8t9M8+5sdUl0nz7a3XURJtltnKlN7KciRdgG7kMM55PEWo/C28l0zT7exOjxy28Dp5yRTW720juzmSF433kZb7jHBIzkEmvTqKAMCLxLp+nQpZXUupXE9soikmOmXDeYyjBbKx4OSM5HFYl14S1Tyb+20n+x7/RtUuGvWs9atXbyJHO9iAPvAt821gCCTz6dB4gmkivtBEUjoJNTCuFYjcvkynB9RkA/hW1QB5/oPgyXwhdadYwO11bz6XLp8s6RbVjl8x5kO0Z2ofMlHXjCjPNdF4S8Np4Y8I6XppS3kvLGyjt3uI48eYyqATnrgkVvUUAcfJo/iGS+svEmltY2urT6eltqFldq5hfBLrhlOVKszjvkH2zUWqaJrE3hM6PqV6+pX+sXyefLHGVhtot4Zwo52oqIQMnJYj1rtaKACiiigAooooAKKKKACiiigAooooAKKKKACiiigAooooAKKKKACiiigCjrX/IBvv+vd//AEE1NYf8g22/64p/IVDrX/IBvv8Ar3f/ANBNTWH/ACDbb/rin8hWX/L35C6liiiitRhRRRQAUUUUAFFFFABRRRQAUUUEgYycZ6e9ABSb1/vD86bOdsDn2NcrQB1e9f7y/nS71/vD865OigDq96/3l/Ol3r/eH51xV7qdhpqo2o31tZrIdqG4mWMMfQbiM1Ms8LSLGsqF2Teqhhkr/ex6cjn3oA6/ev8AeH50b1/vD865BJopJJI45EZ4yBIqsCUJGRkduDmleRI13SOqDIXLHHJOAPxJAoA67ev94fnSb1/vL+dck0sSSLG8iK7AsFLAEgYycegyPzpUdJI1eNldGAZWU5BB6EGgDrd6/wB4fnRvX+8Pzrk6KAOsDKejA/jS1zenv5d6hH0rpB0oAzfD/wDyBIf96T/0Nq0qzfD/APyBIf8Aek/9DatKqluwCiiipAKw9T/5HLQv+ud1/wCgpW5WHqf/ACOWhf8AXO6/9BSgDcooooAKKKKACiiigAooooAKKKKACiiigAooooAKKKKACiiigAooooAKKa8iRjMjqg6ZY4pn2q3/AOe8X/fYoAloqL7Vb/8APeL/AL7FH2q3/wCe8X/fYoAloqL7Vb/894v++xR9qt/+e8X/AH2KAOb17V9Nn1HRFgv7WRrfV9kwWZSY2EMwIbngg+tdDZ39pqMBn0+5huogxTzIXDrkcEZHHFfOXx6+GUuseP8ASNV8OiNjrkyWd1tIxHKBxI2OgKA5/wBw+te/eHdN0zwz4csdG02WJbayhWJPmGWwOWPuTkn3NAGvRUX2q3/57xf99ij7Vb/894v++xQBLRUX2q3/AOe8X/fYo+12/wDz3i/77FAEtFRfarf/AJ7xf99inpIki5jZWHqpzQA6iiigAooooAKKKKACiiigAooooAKKKKACiiigAooooAKKKKAKOuZGg320ZPkP39qr2VxqY0+3CWEJXylwTc4yMf7tWNa/5AN9/wBe7/8AoJqbT/8AkG23/XFP5CsGm6ujtoLqV/tOqf8AQPg/8Cv/ALGj7Tqn/QPg/wDAr/7GtCir5X/M/wAP8gM/7Tqv/QPg/wDAr/7Gj7Tqn/QPg/8AAr/7GtCijlf8z/D/ACAz/tOqf9A+D/wK/wDsaPtOqf8AQPg/8Cv/ALGtCijlf8z/AA/yAz/tOqf9A+D/AMCv/saPtOqf9A+D/wACv/sa0KKOV/zP8P8AIDP+06p/0D4P/Ar/AOxo+06p/wBA+D/wK/8Asa0KKOV/zP8AD/IDP+06p/0D4P8AwK/+xrK8STX7aDObi0ihVSrCRLjLKdwwR8orpaiuLWG7jCXMayoGDbWGQSPUd6ipTlKDjzb+n+QNaHI6BqmuXUBSWD7Ta4wZ5TtK/Q/xf55qauonAW1cKMALwBXL1VGm6ceVu4JWFooorUZxPiBYD41Mlve6dBqC6eqm31iDdBNFvY5jbcCrA/exkYK5HSuaGsXMCaRd6DZjT7MaVMlzLE/nfY7dbpFeWIN99cDcuRgLzg42n1K70+y1BFTULO3ukU5VZ4lkAPqARUn2eHcG8mPITywdo4X+79OOlAHAarrd3BrE9rFrX2G2fWbS0+17YyfKeyLn5iMZZgCGOcHHbiptK1K5v9dsLK7u21GztL28MF2QuboxRx7M7cKSpllGQACYs9RXVX3h7Tr77IHt40jtZxMI0jULJiJogrDHK7XIx7DtU0+k2ssdmsaC3+xSrLb+SoUJgEFQMYwVZlI9D64NAHAaPeahcfE7TdQ1nStTtr27tbuMRyKvlW8IaIoq4Y5xyWbGSzjsBjr/AAo5FrqVqP8AUWmpTwwegTIbaPZSzKPQLittokaRZCimRAVVyoJUHGQD74H5CoNOsItMsI7WAswUlmdzlpHYlmdvcsST7mgC1RRRQBNZ/wDH3H9a6YdK5mz/AOPuP610w6UAZvh//kCQ/wC9J/6G1aVZvh//AJAkP+9J/wChtWlVS3YBRRRUgFYep/8AI5aF/wBc7r/0FK3Kw9T/AORy0L/rndf+gpQBuUUUUAFFFFABRRRQAUUUUAFFFFABRRRQAUUUUAFFFFABRRRQAUUUUAZmtn9xGP8Aa/oaxq2Nb/1Uf+9/SsegCjrOrW2haNc6nfeYbe2TfJ5a7mxnHA79ao2Piq1vNThsJ7HUdPuJwxgF7bGMS7RlgrZIyBzjOcA1D4+srjUfAOrWllFJNPNCFSOIZZjuHQVk3fh3UdN8QpNb3Woaos9pNDZ3F3MZDp1yUOHwMDaw43EZBGM4agDtwwJIBBIODjtQrBhlSCPUGvJdH8NXQtLhBa6pBM2lzQ3iQ6dHaNK7KBt80tiZ92SG+YHnJG7np/h7ZXNi2oxf2cttaHy2jmGntYmV8MGBgJIBAC/OoAbPfFAG/ruvWugx2jXVvc3L3c/kQRWsXmOz7Gbpkdlao7XxRp9zp95dEXFubFglxb3EJSVGIBVdp6ltwxjOc8Vk/ECznuBoMkcOovFb6n5szaajmaNPIlXcNvI5YD8axbe0uraOe6eLUF0xtasp/N1Qf6TIBhWL5+bYreURu5AVuwFAHTyeMbZdSvLK30rVruSzlEU721qHRXKK+M7vRhWtqeqWuj2LXd87JGGVFCoXZ2Y4VVUcsxJwAK5nR/Dk8ninxDfXNxqdmsmppJCkVw0UUyiCEbto4YZBUn2xVzxGZb5be4062lupdD1SOae2VcNKPKOdmcBiFmDDnkrjrQBbtPFVndG6je1vrW5tYftD2tzblJWj5+dBkhhkY4Oc8dSK2IpY54UmgdZIpFDo6nIYEZBB9Kx9O1ubUdSkcaXcWWnQQEvdX0Rgdnz91UbnaACSxwM4xnmm+CopIvBWlrKrJmHciN1WMklFP0QqPwoA3a2NFc+U69g2ax61tF+6/wBaANaiiigAooooAKKKKACiiigAooooAKKKKACiiigAooooAKKKKAKOtf8AIBvv+vd//QTU1h/yDbb/AK4p/IVDrX/IBvv+vd//AEE1Np//ACDbb/rin8hWX/L35C6liiiitRhRRRQAUUUUAFFFFABRRRQAUUUUANlXfGy+orAk0e4LnY+B2FdDRQBzn9jXf/PSj+xrr/npXR0UAc5/Y11/z0o/sa6/56V0dFAHOf2Ndf8APSql/pt7AbXZMR5lwqNwOQc111Z+rfesf+vtP5Gom7REzM/sa6/56Uf2Ndf89K6OirGc5/Y11/z0o/sa6/56V0dFAGHZ6VPFcK8jZArcHAoooAzfD/8AyBIf96T/ANDatKs3w/8A8gSH/ek/9DatKqluwCiiipAKw9T/AORy0L/rndf+gpW5WHqf/I5aF/1zuv8A0FKANyiiigAooooAKKKKACiiigAooooAKKKKACiiigAooooAKKKKACiiigDL1v8A1KHsG5rE81P7wrqp4EuE2uMiqv8AY9t/doA5/wA1P7wo81P7wroP7Htv7tH9j2392gDn/NT+8Kq31jp+pxol/Ek6ocqGPQ11X9j2392j+x7b+7QByFtaaVolvPNbRxWsW3fKwJ6KCcn6DNWpDbXlq0cvlzQTIVZWGVdSOQR6EVo+JtJt08I6wwXkWM5H/ftquWGkWzadbEr1iX+QoAxhJGqgBhge9AeJSxUqCxyxHc9P6V0P9j2392j+x7b+7QBzc6211byQXASSKRSro3IYHqCPSpPNj/vCug/se2/u0f2Pbf3aAOf81P7wrZ0Q5VyOman/ALHtv7tWbe2S2XEYxQBNRRRQAUUUUAFFFFABRRRQAUUUUAFFFVr+8WwsZLl1LhMfKD15xQOKcnZFmiuc/wCEyt/+fWX/AL6FH/CZW/8Az6y/99CnZnV9Tr/ynR0Vzn/CZW//AD6y/wDfQo/4TK3/AOfWX/voUWYfU6/8p0dFc5/wmVv/AM+sv/fQo/4TK3/59Zf++hRZh9Tr/wApR8bJe27JcQXMy20w8uSMSHaD9PcfyqfwWl7PDJd3dzM8IHlwxvISvHU4/T86j1LxHaalp01pLayASLw2R8p7H86ksvE9nY2UVtDaShIlCj5hz71xrDS+se06fqR9RxHNflOqornP+Eyt/wDn1l/76FH/AAmVv/z6y/8AfQrssy/qdf8AlOjornP+Eyt/+fWX/voUf8Jlb/8APrL/AN9CizD6nX/lOjornP8AhMrf/n1l/wC+hQPGNuT/AMesn/fQosw+p1/5To6KQHcMilpHIFFFFABRRRQAUUUUAFFFFABRRRQAVn6t96x/6+0/ka0Kz9W+9Y/9fafyNZ1PhEzQooorQYUUUUAFFFFAGb4f/wCQJD/vSf8AobVpVm+H/wDkCQ/70n/obVpVUt2AUUUVIBWHqf8AyOWhf9c7r/0FK3Kw9T/5HLQv+ud1/wCgpQBuUUUUAFFFFABRRRQAUUUUAFFFFABRRRQAUUUUAFFFFABRRRQAUUUUAFFUdSvJLRU8raSxOdwqh/bNz6R/98n/ABoA3aKwv7ZufSP/AL5P+NH9s3PpH/3yf8aAN2isL+2bn0j/AO+T/jR/bNz6R/8AfJ/xoA4r48v4l0zwQ+t+FdQlgW2DRahbBVdJrdxtLbWBwVJHIwcE88VW+Ad94s8R+G5fEPi3VJriCTFtp9uUVEEacNIQoG4kjGTk/KfWu3vb06jYXFlewwzW9zG0UsbKcMrDBHX0NRaTKuiaPaaXpsMUVpZxLDEgB4VRgd+T70AdTRWF/bNz6R/98n/Gj+2bn0j/AO+T/jQBu0Vhf2zc+kf/AHyf8aP7ZufSP/vk/wCNAG7RWF/bNz6R/wDfJ/xq7p1/JdO6zbQRjG0UAaFFFFABRRRQAUUUUAFFFFABRRRQAVleJf8AkBT/AIfzFatZPiX/AJAc/wCH8xTW5tQ/ix9UcJVPVrx9O0S+vY1V3treSZVboSqkgH8quVU1azbUdFvbKNgjXNvJCrN0BZSM/rWp9TK9nY5nTvFt9Nd6Wk1zo16t+6oYbCVjNDlC24jJ4GMHpW1D4o0qe4MSzSKp37JpIHSKTaCW2yEbWwATwegJ7VXj8N/Y5tLutNMNvdWqLDclU2rcxYwynHcEblPY/U1kaR4DbTbmBCtgYbUOIrjbI0z5Uqu5S2wEA8nnPoM0tTlXto6bnSaXr1lrDutn56sqLIBPbvFuQ9GXcBkHHUUa5qjaVZRtBCJ7m4mS3t4mbaGkY8ZPYAAk+wrE0PRpvC88l1eSRw2rRiIWtgs0kbPnPmbDnZwMYUY569K0L8W/iS2WGxmmt7q1lS5gmltZFVHU8ZDAbgckEZzgmg0UpuGvxElrda3b3wj1iOxktmjZjcWpZPJI5wysTkEZ5HpyKqXOvaiNCt9UhSwtLaVGnee/lKJHGSPLUgc7mBHsOnPFVj4TutR1xNS1WPS7eZEkVpbKFjLPujMfzO2MAA9Oeg5qxaW2tnRNNSzNskltB9lurS8jPluy4XepHP8ACSOxDdutBF56rX+rGnDqN3deGodQtrAm7mt1lS0kcLhmAO0segGev6dqxLzxTqGk22qR6lHYtdWUcDpJC7CImVyiq+eQQRk89CDxVy303VtM0FNH0qaEPHZkR3cqHakpb+7z8oBOBzjAFRadoutWOly20U2nwTF1mWdVeVppAwLGUvydwGMjkdugFA5Obta+xVfxhLDpUcrXekzTT3JgSRGeOKHCFmMgb5s4HA4zuX1zV+z8QzvpNnf3ItJIZboW8k1rLvQhm2pIp7DcVBU8jJ9OazeG9Slvv7Zllsv7WWdZY4wjGEKsbJtz97JDE7sdgMYFJNod0ulmynKyXOp6ml1cNAhEcKqyO2M+0YGT1Zs96CV7VbnV0o6ikoHUUzrPS7Q5tkz6VNUNp/x6p9KmrE+PCiiigAooooAKKKKACiiigAooooAKz9W+9Y/9fafyNaFZ+rfesf8Ar7T+RrOp8ImaFFFFaDCiiigAooooAzfD/wDyBIf96T/0Nq0qzfD/APyBIf8Aek/9DatKqluwCiiipAKw9T/5HLQv+ud1/wCgpW5WHqf/ACOWhf8AXO6/9BSgDcooooAKKKKACiiigAooooAKKKKACiiigAooooAKKKKACiiigAooooAyNb6xfjWVWrrfWL8ayqAMTxnczWfgTXbm0leGeHTp5I5EbDIwjYgg9iDXJ6LeTp4i0yCxk8QQERG5v11m53RyW+wglFZmYsHKcr0HXqM97qenwavpN3p15u+z3cLwS7Dg7WUqcHscGobrRbS8k0+SQOsunSb4JEbDD5dpU+qsDgjvx3AoA5TSviPLqciNHpDyw3MEk1skAmMvyoXVX3RKgLAYG1mwSBznNavhHxW3iQ3KTJZRyQBSUt7hndM5yro6I6EY7jBzweDU9n4O06y+SOa+e1WN4orOS7cwwqwwQi544JAyTgdMU2HQX0OY3ulpPq166Lb79R1BgY4RkhVbY3GfbJ7nigCv49nnh0rTVtjf/vtTiikTT5vLmkQq5Kq25fQdx0rEsdZv7SDV7FZtRgla4tLezg1RxJcweewjMu7JDLnJX5m5RgcZxXS3Wm3niK3SDWrU6YLeZLiCaxvy7hwCOpjXHDH1qObwfbDTrxbe4uJdQnaKRby8lMr74W3xZ9FDDoAOp9aAOauTcXPjvXbN18TXVva/ZUhGm3/lpEGhBO7MikknnPPeup8VXd1p+kWVtYTvDJeXsFj9p4ZoldsM43cFsAgE9yDWhY6XDaahe6iqMlzqHlNcLv3KCibQBx6fnUd5osWprfQam73FpdeWUh3FfKK4O5SMFTuAOR0IzQBUstDbTdQaJddvZra6gdWtbu4Mkm/I/eRyE7lwCQQMjlTxjmx4av5tR0GKS7O65hkltpmAxveKRoy2O2Smce9RWXhyDS7mTUI5rvUdQEJiilv7kuVXrsBxhQSBkgZOB1xVvRNM/sjRoLMyebIu55ZMY3yOxd2x2yzMce9AGhV/SP8Aj6P0qhV/SP8Aj6P0oA3aKKKACiiigAooooAKKKKACiiigArO12B7nSZYo8bmxjP1zWjSFQwwRkUFRk4yUl0POjptwD90Un9nXH92vQvs0X9wUfZov7gquZnb/aFfyPPv7OuP7tH9nXH92vQfs0X9wUfZov7go5mH9oV/I8+/s64/u0f2dcf3a9B+zQ/3BR9mi/uCjmYf2hX8jzx7CaNCzDgU7+zrj+7XaavbxLpcxCAHj/0IVd+zRf3BRzMt46tyJ+v6Hn39nXH92j+zrj+7XoP2aL+4KPs0X9wUczI/tCv5Hn39nXH92j+zrj+7XoP2aL+4KPs0P9wUczD+0K/keff2dcf3aVdMuGYAAda9A+zRf3BR9miHRBRzMP7Qr+QloCLZAfSpqazpGBuZVHbJxTftEP8Az1T/AL6FScBJRUf2iH/nqn/fQo+0Q/8APVP++hQBJRUf2iH/AJ6p/wB9Cj7RD/z1T/voUASUVH9oh/56p/30KPtEP/PVP++hQBJRUf2iH/nqn/fQo+0Q/wDPVP8AvoUASUVH9oh/56p/30KkoAKz9W+9Y/8AX2n8jWhWfq33rH/r7T+RrOp8ImaFFFFaDCiiigAooooAzfD/APyBIf8Aek/9DatKs3w//wAgSH/ek/8AQ2rSqpbsAoooqQCsPU/+Ry0L/rndf+gpW5WHqf8AyOWhf9c7r/0FKANyiiigAooooAKKKKACiiigAooooAKKKKACiiigAooooAKKKKACiiigDO1W1kuEXyvvDpWR/Z197flXUUUAcv8A2de+35Uf2dfe35V1FFAHL/2de+35Uf2de+35V1FFAHL/ANnXvt+VH9nX3t+VdRRQBy/9nX3t+VH9nX3t+VdRRQBy/wDZ197flR/Z197flXUUUAcv/Z177flWhpVnNDKWmrYooAKKKKACiiigAooooAKKKKACiiigAooooAKKKKACiiigAooooApax/yCZv8AgP8A6EKu1R1nnSJ8HBwOfT5hR9ivf+gpL/35T/CmbKKdNXdtX+heoqj9ivf+gpL/AN+U/wAKPsV7/wBBSX/vyn+FBPJH+Zfj/kXqKo/Yr3/oKS/9+U/wo+xXv/QUl/78p/hQHJH+Zfj/AJF6oBe2/wBsa1MoWYAHY3BI9vWoPsV7/wBBSX/vyn+Fc7q2l317rIjhZ7lkjUNKyhAvJOMge/1oSNqNGE5NSl/XzRta2fliHuayasT2lzZ2sUd3dNcN2yPu+2ep/Gq9I55JKVk7hWdqfiDR9Fkij1fVbOxeb/VrcTrGW+mTWjXC67d2lh4uvpo9bs9HvZLOJZY9YhVre8iBcjY29WGCzBsE9vlPWgk7RLu3kuDbxzxtMIxL5YYE7CSA2PQkHn2pYrmGd5kglSRoX8uUK2SjYBwfQ4IP4ivKV1K8jvNPurG1Oj6WdEszf+SxMtpb+dKMx5GdvQljyqZIGemnqetSrr32a71+bTdPbW3t2nWYKFi+wo6pvbIALnr6nrnmgD0SWaKHZ50ipvcIu443MegHvVO213Sby4uLe01O0nmtQTPHFOrNEB13AHIrkfD1/PqGuaWt7dtd2UMeovZ3khANwqSxxpISMAkRu43DqCT3pfDWoaHrniDTpdFudOtrHTIZIdOtYp0M9wCAGcoDuVAF4B5P3jjAoA7uORJY1kiZXRwGVlOQwPQg06sHwezf2LPCP9Rb391Bbn/pms7hQPYY2j2UVvUAFdPbOZIFY9SK5iulsv8Aj1T6UAT1n6t96x/6+0/ka0Kz9W+9Y/8AX2n8jWdT4RM0KKKK0GFFFFABRRRQBm+H/wDkCQ/70n/obVpVm+H/APkCQ/70n/obVpVUt2AUUUVIBWHqf/I5aF/1zuv/AEFK3Kw9T/5HLQv+ud1/6ClAG5RRRQAUUUUAFFFFABRRRQAUUUUAFFFFABRRRQAUUUUAFFFFABRRRQAUUUUAFFFFABRRRQAUUUUAFFFFABRRRQAUUUUAFFFFABRRRQAUUUUAFFFFABRRRQAUUUUAFFFFABRRRQAUUUUAUtY/5BM3/Af/AEIVdqjq7A6VOAQSNuQD05FXQwLbQRkDJGafQ0f8Ner/AEFooopGYUUUUAFFFFAGRrfWL8ayq3tSs2u4wFOCO9Zn9h3H/PU/nQBUpkkUcuPNjV9pyNy5wfWr39h3H/PU/nR/Ydx/z1P50AUiikklQSRgkjqPSqd1pFpd3tlcyphrN3eNVA2sWjMZ3DHPysf0rZ/sO4/56n86rXukXUSw7Z2BadFOD1BNA4rmdindafBdTWsrgrJayb4mXjGVKlfcEEgj6dwDTxZwJkwxRwvggOiKCvuOK0v7DuP+ep/Oj+w7j/nqfzoEZljZQadYQ2dqpWGFQqgnJPuT3J6k9yasVb/sO4/56n86P7DuP+ep/OgCpXS2X/Hqn0rGXRJwwJkJFbkEflQqh7CgCSs/VvvWP/X2n8jWhWfq33rH/r7T+RrOp8ImaFFFFaDCiiigAooooAzfD/8AyBIf96T/ANDatKs3w/8A8gSH/ek/9DatKqluwCiiipAKw9T/AORy0L/rndf+gpW5WHqf/I5aF/1zuv8A0FKANyiiigAooooAKKKKACiiigAooooAKKKKACiiigAooooAKKKKACiiigAooooAKKKKACiiigAooooAKKKKACiiigAooooAKKKKACiiigAooooAKKKKACiiigAoorH8V3s+n+Gbu5s5DFMgXa4AOPmA71UY8zSRE5qEHN9DYorxv/hNPEP/AEEn/wC/af4Uf8Jp4h/6CT/9+0/wrs+pVO6PJ/tih/K/w/zPZKK8b/4TTxD/ANBJ/wDv2n+FH/CaeIf+gk//AH7T/Cj6lU7oP7Yofyv8P8z2SivG/wDhNPEP/QSf/v2n+FH/AAmniH/oJP8A9+0/wo+pVO6D+2KH8r/D/M73xbYkBL6LI/glx+h/p+VaegWBsdNUyD99N87k9fYflXlsnjDXpYykuoM6nqDGmD+lO/4TTxD/ANBJ/wDv2n+FP6nUta6OmXEFKVFUuV6en+Z7JRXjf/CaeIf+gk//AH7T/Cj/AITTxD/0En/79p/hS+pVO6Ob+2KH8r/D/M9korxv/hNPEP8A0En/AO/af4Uf8Jp4h/6CT/8AftP8KPqVTug/tih/K/w/zPZKK8b/AOE08Q/9BJ/+/af4Uq+NPEJYZ1J8Z/55p/hR9Sqd0H9sUP5X+H+Z7HRTYn8yMMO4p1cJ7IUUUUAFUtT/AOXQet0n9au1S1HmSyH/AE8r/wCgtQaU/iLtFFFBmFFFFABRRRQAVn6t96x/6+0/ka0Kz9W+9Y/9fafyNZ1PhEzQooorQYUUUUAFFFFAGb4f/wCQJD/vSf8AobVpVm+H/wDkCQ/70n/obVpVUt2AUUUVIBWHqf8AyOWhf9c7r/0FK3Kw9T/5HLQv+ud1/wCgpQBuUUUUAFFFFABRRRQAUUUUAFFFFABRRRQAUUUUAFFFFABRRRQAUUUUAFFFFABRRRQAUUUUAFFFFABRRRQAUUUUAFFFFABRRRQAUUUUAFFFFABRRRQAUUUUAFc945/5FC9+i/8AoYroa57xz/yKF79F/wDQxWlL+JH1Rhif4E/R/keP1R1tmTw/qLIxVltZSCDgg7DzV6o54I7m2kgnXdHKhR1zjIIwRXvPVWPiIu0k2chpcbrqOkRQ2t3p8siiaSWe8LrcIE+ZQu5gTyDzggc1b07xNqF9LDKunSPbXAYoBbSpsG0lSZG+U5wBxjGe+K35NPtpYreN48rbMrw4YgoVGBg9enHvVeLQNNhuPOjtzn5isbSM0abs7tqE7Vzk9B3NZKnKOzOt1qc7uS1/4fzKmg6zc6hcSQX4iinWMSeT5MkUic4IIfhgOPmB/Cp9fmljtbaGKV4RdXUcEkqHDIrHnB7E425/2qdFo8emgyaTEpm2hAbmeRwqf3VyTtHTgcVKLe4vIZbfV4LSS3dcFEZmz9cgVSUuXle5m3Dn547GUTa6JrKJBFqESskmd0hkhnIQv1ZiQwCnnHrTjZve6HaSO81zdNB5/wBmjuzB5jvgltw5wucDsPyrRttCsLa4E6xSSyqCqtPM8pQHghd5OMjjiok0G2ext7e63ubUGOGWOV43EfQKWUg9AAexxmp5HsX7WGju/wCr+f6kEU9xdeBw9vcbrp7MoJpTs/ebdpJPY7qj0qOa2uLrTihtbswrKspupLpSpJGfnxggg8dDx1rT/sq28vyNg+yfZzb/AGbnYV+nT2z1606x0y104ubZX3yY3vLK0jEDoNzEnAyePeq5XdEOpHlaXX+v60MW0SJvDCtqmoXAggu5/NfzSrzASyKFJXB644XqQB7UqG60/Q4ryYzp5d4pjimcs6wPIE2MSeThs8k4IA7VqT6HYXNvHBJHIEimadPLmdCrsSS2VIPVj+dI2kRiGC3jeQ26TidxLK8rMV5UZYk43BT+HvU8kl9xXtYN/O/yNGlX7w+tJSr94fWtjkPerT/j1T6VNUNp/wAeqfSpq+cP0AKKKKACqV//AMfNgP8Ap4/9kartUr7m+08f9NmP/kNqDSn8X3/kXaKKKDMKKKKACiiigArP1b71j/19p/I1oVn6t96x/wCvtP5Gs6nwiZoUUUVoMKKKKACiiigDN8P/APIEh/3pP/Q2rSrN8P8A/IEh/wB6T/0Nq0qqW7AKKKKkArD1P/kctC/653X/AKClblYep/8AI5aF/wBc7r/0FKANyiiigAooooAKKKKACiiigAooooAKKKKACiiigAooooAKK5z4heIJPC3w81rWrf8A11rasYj6OflU/mRXFWPiPV/DmmeD/Bfhe2tr/XNQ037bNcalM4jQbdzsxUFmLMWoA9YoryTx5ruvWPw+0fxdrGnHRtX0bVYmmto5w6SRM3luAQeVZWBweRivWkYPGrr0YZFAC0UUUAFFFFABRRWF4o8St4fXT4rezF5ealc/ZraN5hDHu2M5LOQcDCnoCScACgDdorl4fF13H9lh1fQ5rC6m1JbBlaXdGd0TSCWOTA3rhcdAQcg9KuHxbpPmrImoWLWH2aa4e6+0jAEbqrEDHKgty2cA4HegDcorCbxpoL6Pf6jYalb38dhxKlrKrtvPCoAD1Y4A9Saym8Ya7P4i1DSdL8N29zJpyQG4eXUxEA0qb9q/uznHIzQB2VFZlrrBk1qTSruD7PdLbJcoA+5ZEPDYOByrcH2KnvgadABRRRQAUUUUAFFFFABRRRQAUUUUAFFFFABVHWNPj1PTJbSZSySAZAOOhz/Sr1FNNp3QmlJWZwJ8BW2eIm/77NH/AAgVv/zyb/vs131Fae2qfzM5/qmH/kX3HA/8IFb/APPJv++zR/wgVv8A88m/77Nd9RR7ap/Mw+qYf+RfccD/AMIFb/8APJv++zR/wgVv/wA8m/77Nd9RR7ap/Mw+qYf+RfceZ6x4Pg0/SZblI2DKVAO8nqwH9avf8IFb/wDPJv8Avs10fiwbtGjj6eZdwL/5EX/CturdWpyL3n1/QxjhaDqyXItl09Tgf+ECt/8Ank3/AH2aP+ECt/8Ank3/AH2a76io9tU/mZt9Uw/8i+44H/hArf8A55N/32aP+ECt/wDnk3/fZrvqKPbVP5mH1TD/AMi+44H/AIQK3/55N/32aVPAVsHG6FsZ/vmu9oo9tU/mYfVMP/IvuI4EMcKqewqSiisjpCiiigAqlef8hLTx/wBNHP8A44au1SuudVsPrIf/AB2g0p/F8n+RdooooMwooooAKKKKACs/VvvWP/X2n8jWhWfq33rH/r7T+RrOp8ImaFFFFaDCiiigAooooAzfD/8AyBIf96T/ANDatKs3w/8A8gSH/ek/9DatKqluwCiiipAKw9T/AORy0L/rndf+gpW5WHqf/I5aF/1zuv8A0FKANyiiigAooooAKKKKACiiigAooooAKKKKACiiigAooooAxfGXh9fFXgvVdDdgv262eJWP8LYyp/BgDXG2nga98SeHfC2ryXl74Z8T6RZ/ZWmSJXOMbHVkbhlO3IPvmvTKKAPLPEvw/u/+EM0bwdZ3Goasl7qyT6lqF25crGreY7E9FyQFVR/ia9SACqAOABgUtFABRRRQAUUUUAFc54y07UNRs7ZbPTrDWLRZT9s0y+ChbhCOCrMCFZWwRng88jiujooA8pb4c6nq2knT7uKTS9Ln1aOdNOt78u1nAIHR9snbczZ2LwAT6moPFuga1b+DLyfU7e2VNO8N32nM8JASUl4jG4QfdDJGSR2PHpXrtZOpXU0XiDSLVHxBcmYTIVBD7UyP1oA4XWNB1u9ju9evNLh0/wCxw2QSytZvOa4S2uRO54UcbVIVevJ4GcVq23gXTNa8ba5r2t6ZZaha3y2rWEzgSHasWGI9BnH1ru6AAoAUYA6AUAczJE198ULaeD/VaXpk0U7dt88kTKv1Cwkn0DL6101AAGcDGevvRQAUUUUAFFFFABRRRQAUUUUAFFFFABRRRQAUUUUAFFM8+L/nqn/fQpPPh/56p/30KdmK6JKKj8+H/nqn/fQo8+H/AJ6p/wB9CizC6JKKj8+H/nqn/fQo8+H/AJ6p/wB9CizC6OB8SeMlN2ljNp8kUlneJI+ZAdwQ54478V13h/Wjr2nG8Fq1vGXKpvbO7HU/TPH4VyvjvQ0vtSsbu0kjElxIttKdw6n7rfz/AErs7KO00+xhtLd0WOFAi/MO1dVTk9lHlWp5uH9v9Ynzy0Xpr2LdFR+fD/z1T/voUefD/wA9U/76FctmeldElFR+fD/z1T/voUefD/z1T/voUWYXRJRUfnw/89U/76FOV1f7jK30OaLMLodRRRSGFFFFABVK5/5DFkP9mQ/oKu1Sn/5DVn/1ylP/AKDQaU9/k/yLtFFFBmFFFFABRRRQAVn6t96x/wCvtP5GtCs/VvvWP/X2n8jWdT4RM0KKKK0GFFFFABRRRQBm+H/+QJD/AL0n/obVpVm+H/8AkCQ/70n/AKG1aVVLdgFFFFSAVh6n/wAjloX/AFzuv/QUrcrD1P8A5HLQv+ud1/6ClAG5RRRQAUUUUAFFFFABRRRQAUUUUAFFFFABRRRQAUUUUAFFFFABRRRQAUUU3zE/vL+dADqKb5if31/OjzE/vr+dADqKb5if31/OjzE/vr+dADq4LU/HvhN/E2kSnxFpsYtZLlLhZrlY2hYJjDKxBU5GMEV3fmJ/fX86+ePih8GW8QfGrSbzTk26ZrT7tRdOkLRjLn23rjH+1mgD3/TdStNX02G/06YT2s674pVBAdfUZ7Hse45q1UNtHbWlrFbWwjihhQRxovAVQMAD8Kk8xP76/nQA6im+Yn99fzo8xP76/nQA6im+Yn99fzo8xP76/nQA6iiigAooooAKKKKACiiigAooooAKD0NFB6GgD5+n/wCPiT/fP86wx4msDIEVLpizvHGVtnIkdSQVU45PBP0Hsa3J/wDj4k/3z/OsW10Z7dbEGVW+y3M854+8JPMwPw8z9K+0lz6cv9bH5rD2evP/AFv/AMAc3iGz+yxTxR3UwkVm2RW7MyBTtbcMcYPHPpTm8QaeihvNY74kliAQ5mVzhdg7nJAx2yM1mT+GLmWGOH7VC8OZt0cquVBklZ9wAYAkBsc5HFPTw1cLFpxN2nnaXCiWpCfLuAAct6hgMY7detY81fsb8mF/m/rp0ILjxBfwpqlyJ9NSKwneNbeVWEkoUA43b+pzgfL1rXl16zhujBIJhtZVlkETGOJmxhWboDyPpkZpthodva3V3czQwTTT3TTpIYhuQEDAz14xUF1odzPJdwxXMSWN7MssytGTICAoIU5xg7R1HGTQlWir7/0wbw85WeiX/A/4JbXXLJr8Wv77mXyPO8pvKMn9zfjGe31461W0/Wbi9htAsMbTSQyTSKvACqxVQMngk46+hpF0W6Eywm6i/s9bv7WE8s+Zu3+Zt3ZxjfznGcce9Ms9LudKmtxEwkZrZ7cybSVVwxdCR6fMwP4etO9W+u3/AAwuWhyvlev/AA5JBqOpQ3/2bUIbeZ2tWuBHaA7o9pA2HccHOcA8cg8VNYa9bapFPJp8U8yQKCxCbcvjJjGSPmHGR0GRzVfS9Jv7WOaO+nt5PtCnzriEOszsRjO4njHYAcdqvafo9lpTOdPh8hXVVZFJ2nb0bH971PU4qoe107ee5NR0de/S23mM0a/n1C1me7hSCSO4kiMatu2hTjk9zTG1G5HiKGwNrst3ikfznYZdl2fdA6D5up//AFvt7S4sIJ/I2SvNeGXBHAR3BPfqFJ/KpZrJpdXtbwOAIIpUK45O8pz/AOO/rVe/ypddCG6fO30d7fcLZXbXElzDKFWa2mKNt6EEBlP4qR+INep/C3/jx1D/AK6J/I15PpsDi7v7uRSn2mYBFYYOxFCg/iQT9CK9Y+Fv/HjqH/XVP5GuPHXeFd/61PRypJY6Nu36aneUUUV8wfcBRRRQAjMFUs3AAyTWc9zBJrFtIk0bIIJDuDDHVO9aVcXc6Cx8S/ZEXEMh8wEdk7/4flTR1YaEJt8ztZHZJIsqB42DK3Rgcg06kRFjRUQBVUYAHYUtI5X5BRRRQAUUUUAFZWp3UEjWYjmjYpeKGAYfKRnOfStWuH8Y6K51SG6tY932thGwH9/t+Y/lXNiZyhTvFXJlojtIp4pwxgkSQKdpKHIB9Kkqrplimm6bDax9I15P949z+dWq3jdpX3KCiiiqAKjluYIXRJpUjZ87QzAbselSVleI9KGraLLCozMnzxf7w7fj0pqzeoDdBuYF0q3haaMSu8m1Nw3H52PSteuO8CaT5cUupTLhnzHFkdAOp/Pj8DXY1VRJSdhvcKKKKgQVgX8qS+LtBkidXRorkhlOQRtTvW/Xyx8SPhfq6fG6y0nQJri30zxHKZ4/KdgkHefgccfex6MBQB9SxyJKm+J1dckblORxxTqq6Zptro+k2unafGIra1iWGJB2VRgVaoAKKKKACiiigAooooAKKKKACiiigAooooAKKKKACiiigAooooARjhSa8jvOb+4P/TVv5mvXH+4fpXkd3/x/T/8AXVv5msK2yPSwG8iGskeJNON41uWmVVd4zcNCwh3qCWXfjGRg+3BHWtaueXQL8RT6d9viXSpnnZlSL98yy7iYyxOMAuTkDPAHvXOrdT0pOS2J08V6Y1vPO5uIUhtzdZmt3TzIh1dAR8w5HvyPUU+HxNp8sjIwuIXWSJCs8DRn94SqNgj7pIIz69cVnT+GdR1C0li1K/t2ZbCWyt2hhK/f25kfJPPyDgcdavahoH9oXWoSPMFW8sY7ZcDmN0aRg/4Fwf8AgNP3SL1CWbW42uo7SxxJO139mbcp2rtTe598Lx/vED1psGrXUviqTTZLPyLZbZpUldgWlIcLkAHheeM8n2704dGn0yPSJixup7e4ka7dEwZDNne4Hs5B9lz6VqnT2PiFdS8wbVtWt9mOclw2c/hRoNczKuneJLTVNQextobgXEKsblHjx9nIOArnpluSMZyBnpS6Nq1zqV/qMN1Z/ZBauixozAuQybstgkA89B0p1h4c07Tb0XdnG6XBVlkkMhLTbjuJf+8c9CemTilFjcWVzrF9bFJZrpVeGMjoyR7QDzzkj2o06AufS5bv2u0s3OnRxyXOQEErYQZIBJxzgDJwOuMVhWfiSeXRLzUJDa3MVhPtkuLUHy5ogFLsgJJBXce5B2n1427yG8n0/baXC2t18rB9m9cgglSO6nkdjg1iXej3p0nVhO0Ut7rAWBhbxlY4l27N3JJOFJJJ64A9KFYJ819DpaD0oVQqhV6AYFB6VJqevWj+Zaxse6ipqrWH/HlH/uirNegfMBRRRQAUUUUAFFFFABRRRQAUUUUAZh8N6KSSdKsyTyT5K/4Uf8I1on/QJs/+/C/4Vp0Vp7Wp/M/vMfYUv5V9yMz/AIRrRP8AoE2f/fhf8KP+Ea0T/oE2f/fhf8K06KPa1P5n94ewpfyr7kZn/CNaJ/0CbP8A78L/AIUf8I1on/QJs/8Avwv+FadFHtan8z+8PYUv5V9yOV1/QtKgbTPJ061j8y/iR9sQG5TnIPtWv/wjWif9Amz/AO/C/wCFM8QWV3eQWjaekckttdJPskfaGC54zg+tRfa/Ev8A0CrH/wADD/8AEVrz1JRVpfic/s6UKkrw7dL/AKFj/hGtE/6BNn/34X/Cj/hGtE/6BNn/AN+F/wAKr/a/Ev8A0CrH/wADD/8AEUfa/Ev/AECrH/wMP/xFK9X+b8SrUP5P/Jf+AWP+Ea0T/oE2f/fhf8KP+Ea0T/oE2f8A34X/AAqv9r8S/wDQKsf/AAMP/wARR9r8S/8AQKsf/Aw//EUXq/zfiFqH8n/kv/ALH/CNaJ/0CbP/AL8L/hVqz06z09WWxtYbcOcsIkC5/Ks37X4l/wCgVY/+Bh/+Io+1+Jf+gVY/+Bh/+IpP2klZy/EcXRi7xhb/ALdf+RsGaMTCEyKJSu4Jnkj1xVDxHNJb+GdRlgdo5EtpGR1OCpCnBFefeOrnUxqtlLfQx2cyRkxm3mLd+ucDFXLbUvEl54R1EalbCSz+ySYuJvkf7p6f3vy/GnUw7jS57nM8cpTnS5Xp/l17HCf8JXr/AP0GL3/v81H/AAlev/8AQYvf+/zVkUV89zy7nx/1it/O/vZr/wDCV6//ANBi9/7/ADUn/CU67u3f2vebsYz5xrJoo55dw+sVv5397Nf/AISvX/8AoMXv/f5qP+Er1/8A6DF7/wB/mrIoo55dw+sVv5397Nf/AISvX/8AoMXv/f5qP+Er1/8A6DF7/wB/mrIoo55dw+sVv5397L9x451S0dEuvEU0LP8AdWS62lvpk1Y/4SvX/wDoMXv/AH+auJgm0+C81ZdXeBJWmJPnkDdDsG3Geo6jjvmq816irsjvpdLtobFJbVHKhnPzdd2ScYUbfetPeezZ2ctZ6Kb/ABt8jvv+Er1//oMXv/f5qRvFOutjdq94cHIzMeDXAT3eoPBfXhu5rd7WKCQQKF2hmQFgcjJGSRjNWVvv+JlM9zqjwSx3fkpZhVYMnGPlxuORzuzx9BRafcThiEv4j+9+X+Z23/CV68OusXv/AH/ageLNeIBGs3hB6ETtXmS6pcXbPCt5NLFdWE7tvljLZCgqQqj5O4wT/KpH1C7ijjht79Y4obOOSKSS6SPeSDljlDvAIxgY6e9Vyz7mvsMRt7TX1Z6V/wAJXr//AEGL3/v81H/CV6//ANBi9/7/ADVwNxdX+L27+2SRtayW4WFAPL+ZY9wORkj5j6VFc6vMNdiWC7lKtfi2ZGkjC7c7SBHy3H944pWm+pEaeIltU/F9k/1PQP8AhMdaLqg1y63NnaPtBycde/an/wDCV6//ANBi9/7/ADV5tZ3VxYaYn2Od53WO+cq+Gw6uMcAe+ce9WLm/nhinj07VnvFMMbmclGMTmVV6gY5BPB9KOWd9ynSr3sqj+997Hfr4o11F2pq94o9BMRTv+Er1/wD6DF7/AN/mrldNM0Wp31nLcy3CRCJ0aXG4bg2RwBx8v61p1m5ST3OOdWtCVud/ezX/AOEr1/8A6DF7/wB/mo/4SvX/APoMXv8A3+asiilzy7kfWK387+9mv/wlev8A/QYvf+/zUxvEutPKkr6pdNJGCEcyklc9cHtmsuijnl3D6xW/nf3s1/8AhK9f/wCgxe/9/mo/4SvX/wDoMXv/AH+asiijnl3D6xW/nf3s67wp4j1m68V6dDc6pdyxPMAyPKSGHuK9rHIrwHwd/wAjlpn/AF3H8q99H3RXfhm3F3PqcmnKdGTk76/ohaKKK6j2wooooAKKKKACiiigAooooAKKKKACiiigAooooAQjKkVztz4XgmnZ1ijG45PyiujopWTGpNbM5f8A4ROL+4n/AHzR/wAInD/cT/vmuooosivaT7nL/wDCJxf3E/75o/4ROL/nmn/fNdRRRZB7Sfc5c+FIQCSkYA6kqKypvDkY8X2NsAuySwuJCoHBIkgAP6n867xgGUqwBBGCD3r5T174ba/F8eIfCOnahqEOi3zG5hKXDhIbMnMijnAwV247/L60WQe0n3PoRfCkDKCqxkHoQBS/8InD/wA80/75ro7S1hsbOG0tI1iggjWOONRwqgYAH4CpaLIPaT7nL/8ACJw/3E/75o/4ROH+4n/fNdRRRZB7Sfc5f/hE4v7if980q+E4QwzHGR/u109FFkHtJ9yOCPyYVT0FSUUUyAooooAKKKKACiiigAooooAKKKKACiiigAooooAKKKKACiiigAooooAKKKKACiiigCpPpdldX0d3c2ySzxLtjZxnbzngdM+9VPFAz4U1MD/n1k/9BNa1Iy7lxRK7ViJQTi0up81eVJ/zzb/vmjypP+ebf9819HG0U0fZFrg+qvufPf2Ev+fn4f8ABPnHypP+ebf980eVJ/zzb/vmvo77ItH2RaPqr7h/YS/5+fh/wT5x8qT/AJ5t/wB80eVJ/wA82/75r6N+yLS/ZFo+qvuH9hL/AJ+fh/wT5x8qT/nm3/fNHlSf882/75r6O+yLR9kWj6q+4f2Ev+fn4f8ABPm6SzErKZbcOV5UsmcfSh7XzCpkg3lTlSyZwfUV9I/ZFpPsi0/qr7j/ALD/AOnn4f8ABPnA2pbdugzu+9lOv1phhT7UMxDz9hI+X5tueffHP619ISW6xxM5DNtBOFGSfoK8zk+KPgP/AIS63vz4ktFtk02aNywYMrmWMhShG7OFPGO1H1V9w/sP/p5+H/BPPFslQ5S2CnJORHjk9TSfYU2oPsq4jOUHl/d+npX0dbRx3drFcRhgkqB1DqVYAjIyDyD7Gpfsi0fVn3D+xP8Ap5+H/BPm42pbdmDO45bKdfrSfYwXLm2G9sZby+TjpX0j9kWl+yLR9VfcP7D/AOnn4f8ABPm5bTY25LfaxJOQmDk9f5Ui2YVSq2wVWOSBHwT619I/ZFo+yLR9VfcP7D/6efh/wT5xEDBiwiIY9Tt5NL5Un/PNv++a+jvsi0n2RaX1V9xf2Ev+fn4f8E+cvKk/55t/3zR5Un/PNv8Avmvo37ItL9kWj6q+4f2Ev+fn4f8ABPnHypP+ebf980eVJ/zzb/vmvo37ItL9kWj6q+4f2Ev+fn4f8E+cfKk/55t/3zR5Un/PNv8Avmvo77ItJ9kWj6q+4f2Ev+fn4f8ABPDPB8bjxjphKMB545Ir3sfdFQraqrZqccCumjT9mrHq4HB/VIOF73dwooorY7wooooAKKKKACiiigAooooAKKKKACiiigAooooAK8W1PxZq9rfXW7V54okmZQWlwB82AP5Cvaa+cvGFm9/HqFtFGJWe7BKEjlRMC3X2Br1stinztq9kfP51OUfZJSau9fwNRPH17J5fl+I95lYpHtuVO9h1A55PtT/+E51E3ZtR4gY3AGTD9oG8D/d61x17okjtqr29pHvnuLZ4mG0EhNmT7Yw1U30zVpNat5WtGSKDUWnPl+SsZQlhuGPnLEMCdxHfjpXqNWdvZr7v69TwotyV1Va+flf/AIB2998QNTstMlvf7ZnlRIHnRUmBMqqMnb6//XqG2+IPiJ7yC2vZb+0a4VjCzTo6vgZI+UnBxzz6VxbaFqAstYAs13ajaSiCNZB/opJY+VycYYtuJHG7PbFbB8OxCxm8uW4a8e2eGKa4uHk8osuOMnA5xyOaSg5O6gl8v+AN1VCNnUb+b/z7+t+h1MHjfUrkSG2195hEcSeXcBth98dKpT+ObvEWpQaq924kW0WaGVWKeY6gjcOgztJHsK5CXR76/hZU01NP8qwNtsMiETnch2/Ln5MIRk4Pz9OtSzade3t090mnfYlMloPILpuYRzb2c7SRwvA5ycfSm0mtIL7v+ACk09ar/wDAv+D+Wx1V38RNcgH+j3d7csboWqhZgu59pY8njAxj659Kmh8deIFjVtSvbmwLyCOMSXKtvY9ACpPNcgNMa+sILGWIyfZtVke4G/adpMjBsgg8h1PHrWle6Db3OjnTICYLWRwZRy5Zc5IBYnBOBz27U4073aivuX+X6kyrctoub9bvbvv+nzNa8+I2swm2Wxv7q+e5meBFinAAZVJbJJxxtNXrPxf4lni3XV3d2r7sBGnD8euVJFcXN4bPlaLYv/pVpZzuWP8AqysfluEBwRk5IGR16+tbUKw6b9ltLeFxFJIVGGLbPlLZJJz2P5iqhTTbc4pfJeXl+pFSvJRSpzbevV9359uli1pfxD8T6pFBPH9ujtZuRM10nA6Z25z2rQtPGmt3dv5i6pdKVZkdDJyjKcEfmK5HwzoEWmaZavcWxivkQiQ+aWwST2yV6Vb0dSzajcD/AFVxds0fuFVUJ/EoTSp01aPPFXfkv8h1q8uaXs5uy8339X/SPpaIkwoTySozTqZD/qI/90fyp9fKPc+/WwUUUUhhRRRQAUUUUAFFFFABRRRQAUUUUAFFFFABRRRQAUUUUAFFFFABRRRQAUUUUAFFFFABRRRQAUUUUAFQ3V5bWMPm3txFbx5275XCDPpk1NXnPxw/5EGH/r+j/wDQXqJy5YtnThaKr140m7XZ2n/CRaJ/0GNP/wDApP8AGj/hItE/6DGn/wDgUn+NfJNFcf1p9j6n/Vyn/wA/H9x9bf8ACRaJ/wBBjT//AAKT/Gj/AISLRP8AoMaf/wCBSf418jySRwxmSV1RF6sxwBTqPrT7C/1dp3t7R/cfW3/CRaJ/0GNP/wDApP8AGvBNQ+GOh3P7REWrC/0//hHpgdTmH2hNvnBhmLr/ABOQ2PQsO1cJRR9afYf+rlP/AJ+P7j62/wCEi0T/AKDGn/8AgUn+NH/CRaJ/0GNP/wDApP8AGvkmij60+wf6uU/+fj+4+tv+Ei0T/oMaf/4FJ/jR/wAJFon/AEGNP/8AApP8a+R96+Zs3DfjO3POPWnUfWn2F/q5T/5+P7j62/4SLRP+gxp//gUn+NW7S+tL+NnsbqG5RTgtDIHAPpkV8fV7v8B/+RU1H/r9/wDZFrSlXc5ctjhzDJoYSg6qnfboeo0UUV1nzgUUUUAFFFFABRRRQAUUUUAFFFFABRRRQAUUUUAFFFFABRRRQAUUUUAFFFFABRRRQAVyk3w60WeeSZ3ut0jFjiQdSc+ldXRWtOrUpfA7GFbD0q6SqRvY5H/hWuh/37v/AL+j/wCJo/4Vrof9+7/7+j/4muuorX65iP52Yf2dhP8An2jkf+Fa6H/fu/8Av6P/AImj/hWuh/37v/v6P/ia66ij65iP52H9nYT/AJ9o5H/hWuh/37v/AL+j/wCJrMv/AAJpVvr2lWkcl15V0ZRJlxn5UyMceteg1h6t/wAjZ4f/AN64/wDRdH1zEfzsP7Pwn/PtGZ/wrTQgxYNdZPU+YvP/AI7S/wDCtdD/AL93/wB/R/8AE111FH1vEfzsP7Pwn/PtHI/8K10P+/d/9/R/8TR/wrXQ/wC/d/8Af0f/ABNddRR9cxH87D+zsJ/z7RyP/CtdD/v3f/f0f/E0i/DPQlUKrXSqBgASKAB/3zXX0UfW8R/Ow/s/Cf8APtCKoVQo6AYpaKK5TuCiiigAooooAKKKKACiiigAooooAKKKKACiiigAooooAKKKKACiiigAooooAKKKKACiiigAooooAKKKKACvOfjh/wAiFF/1/R/+gvXo1ec/HD/kQov+v6P/ANBesq38NnoZZ/vlP1Pn2iiivJP0szdSL3FzDaRQrOFHmyoz7QR0UZwe/P4VWW+ms7KKSfdm2LQTRg5ycfIfx+X/AL6rbxznvSYHoKtSVrWOSWHk5OcZWb/4Fvy79+5hXc8tvDIt3fSQzRWwaPDAeY+Dn684GO1XtQneLSY5BM0RLRBpB1ALDJ/KprmwS5cl5ZlVl2uiPhWH9PwxUs1uk0ao2QqsrDHqpBH8qfMtDNUKqU0nurLfz/roZBuSHMQvXNn5wU3G8Ej5Cdu764598Uq3TP5ST3jx2peQLcbgpkxjaN34tz321tbV27do2+mOKCqlcFQR6EUc67D+qz/m/P7t9jK06V5r2F5WLE2z4YjG4eZgH8Rg1rUYoqJO7OmjTdONm7hXu/wH/wCRU1H/AK/f/ZFrwivd/gP/AMipqP8A1+/+yLW+G/iHk57/ALk/VHqNFFFemfn4UUUUAFFFFABRRRQAUUUUAFFFFABRRRQAUUUUAFFFFABRRRQAUUUUAFFFFABRRRQAUUUUAFFFFABRRRQAV8ufElPiD4f+L1poHh/XdQNtqcu/Sd0hbyRIdroGOSAvPfhcGvqOqdzpFheanZajdWySXdhv+zSsOYt42tj6igBui6b/AGPolpYG4mumt4gj3E7lnlb+J2J6knJ/Gr1FFABRRRQAUUUUAFFFFABRRRQAUUUUAFFFFABRRRQAUUUUAFFFFABRRRQAUUUUAFFFFABRRRQAUUUUAFFFFABRRRQAUUUUAFFFFABVPVNI0/WrQWurWkd3AGDiOUZG4d/1NXKKNxxk4u8XZnOf8K98Jf8AQAsv+/dH/CvfCX/QAsv+/ddHRU8kexv9ar/zv72c5/wr3wl/0ALL/v3R/wAK98Jf9ACy/wC/ddHRRyR7B9ar/wA7+9nOf8K98Jf9ACy/791iy+B/DI8dW1qNFtBA2mzSNHs4LCWMA/XBP513cm8xN5RUSYO0sMgHtmvni7+Pep2/xEXT5vBzHW4Fk0v7Mt58rytKmCDszjK/r1o5I9g+tV/5397PZv8AhXvhL/oAWX/fuj/hXvhL/oAWX/fut628/wCyRfa9n2jYPN8vO3djnGecZqWjkj2D61X/AJ397Oc/4V74S/6AFl/37o/4V74S/wCgBZf9+66Oijkj2D61X/nf3s5z/hXvhL/oAWX/AH7rV0rRNN0O3eDSLKK0ikbeyRLgFsYz+lXqKFGK2RMq9WatKTa9QoooqjEKKKKACiiigAooooAKKKKACiiigAooooAKKKKACiiigAooooAKKKKACiiigAooooAKKKKACiiigAooooAKKKKACiiigAooooAKKKKACiiigAooooAKKKKACiiigAooooAKKKKACiiigAooooAKKKKACiiigAooooAKKKKACiiigAooooAKKKKACiiigAqG6uUtIvMkDEZx8tTVn6z/AMeI/wB8f1oAT+2rf/nnL+Q/xo/tq3/55y/kP8axKKANv+2rf/nnJ+Q/xo/tq3/55yfkP8axKyfEOttodpayRWUl9NdXUdrFDG6oS75xy3AHFAHY/wBtW/8Azzl/If41w9x4L0S4+L9v46aNvOitTGYNo+acfKsvXshI/BTTZPEl1Zaf5+raJcWlxLOtva2iTRyvcu2cBSDgdCSSQAAT2qxpWs3N7ezWWo6TcabcxxiUB2WSORCSMq68ZBHKnB6dRzQB2X9tW/8Azzl/If40f21b/wDPOX8h/jXLarqLaZZCaOzuL2V3WOOC3ALOzHA5JAUdySQABUOi6z/a63SS2c1ldWc3k3FvKysUYqrghlJBBVgc0Adf/bVv/wA85fyH+NH9tW//ADzl/If41iUUAbf9tW//ADzk/If41atbtLuNnjDAKcfNXNVtaJ/x6yf7/wDQUAaVFFFABRRRQAUUUUAFFFFABRRRQAUUUUAFFFFABRRRQAUUUUAFFFFABRRRQAUUUUAFFFFABRRRQAUUUUAFFFFABRRRQAUUUUAFFFFABRRRQAUUUUAFFFFABRRRQAUUUUAFFFFABRRRQAUUUUAFFFFABRRRQAUUUUAFFFFABRRRQAUUUUAFFFFABRRRQAUUUUAFZ+s/8eI/3x/WtCqOrRvJZhY0ZzvBwozQBg0VL9kuP+feX/vg0fZLj/n3l/74NAEVc74w0N9ftdLthB50MepwTXC79mIl3bjnIPftzXT/AGS4/wCfeX/vg0fZLj/n3l/74NAHJ6p4a+xWOnyeG7VTLpt8L1LaSZsTZjaN13MTglXOM8ZA96v6Xd61falLLfad/ZtgsQWOGaRHmkkzyxKMVVQOMZJJOeMc7v2S4/595f8Avg0fZLj/AJ95f++DQBi+I7jV7bRXbw9Z/a75mVFUso8sE8vhmUNgdBkZOO2ar+FLaW002WOfTbuzmaUySyXk0csly5AzIxjYjsBjjAAAAAFdF9kuP+feX/vg0fZLj/n3l/74NAEVFS/ZLj/n3l/74NH2S4/595f++DQBFW1on/HrJ/v/ANBWV9kuP+feX/vg1r6PG8VvIJEZCX4DDHYUAaFFFFABRRRQAUUUUAFFFFABRRRQAUUUUAFFFFABRRRQAUUUUAFFFFABRRRQAUUUUAFFFFABRRRQAUUUUAFFFFABRRRQAUUUUAFFFFABRRRQAUUUUAFFFFABRRRQAUUUUAFFFFABRRRQAUUUUAFFFFABRRRQAUUUUAFFFFABRRRQAUUUUAFFFFABRRRQAUUUUAFFFFABRRRQAUUUUAFFFFABRRRQAUUUUAFFFFABRRRQAUUUUAFFFFABRRRQAUUUUAFFFFABRRRQAUUUUAFFFFAH/9k=)"
      ],
      "metadata": {
        "id": "IItsvOmy-7wP"
      }
    },
    {
      "cell_type": "code",
      "source": [
        "#  The Residual block consists of :\n",
        "#  Conv_layer_1 ---> Batch_Normalization_1 ---> ReLU_activation_function_1 \n",
        "#  ---> Conv_layer_2 ---> Batc_Normalization_2 ---> ReLU_activation_function_2 \n",
        "\n",
        "class ResBlock(nn.Module):\n",
        "    def __init__(self, in_channels, out_channels, kernel_size=3, stride=1, padding=1):\n",
        "        super(ResBlock, self).__init__()\n",
        "        self.conv1 = nn.Conv2d(in_channels, out_channels, kernel_size=kernel_size, stride=stride, padding=padding, bias=False)\n",
        "        self.bn1 = nn.BatchNorm2d(out_channels)\n",
        "        self.relu1 = nn.ReLU(inplace=True)\n",
        "        self.conv2 = nn.Conv2d(out_channels, out_channels, kernel_size=kernel_size, stride=stride, padding=padding, bias=False)\n",
        "        self.bn2 = nn.BatchNorm2d(out_channels)\n",
        "        self.relu2 = nn.ReLU(inplace=True)\n",
        "\n",
        "    def forward(self, x):\n",
        "        identity = x\n",
        "\n",
        "        out = self.conv1(x)\n",
        "        out = self.bn1(out)\n",
        "        out = self.relu1(out)\n",
        "\n",
        "        out = self.conv2(out)\n",
        "        out = self.bn2(out)\n",
        "        out = self.relu2(out)\n",
        "\n",
        "        out += identity\n",
        "        out = self.relu(out)\n",
        "\n",
        "        return out\n",
        "\n",
        "#  The skip connection function consists of simply 2 layers :\n",
        "#  Conv_layer_1 ---> MaxPool_layer_1\n",
        " \n",
        "class SkipConnection(nn.Module):\n",
        "    def __init__(self, in_channels, out_channels):\n",
        "        super(SkipConnection, self).__init__()\n",
        "        self.conv = nn.Conv2d(in_channels, out_channels, kernel_size=1, stride=1, padding=0)\n",
        "        self.pool = nn.MaxPool2d(kernel_size=8, stride=8, padding=0)\n",
        "\n",
        "    def forward(self, x):\n",
        "        out = self.conv(x)\n",
        "        out = self.pool(out)\n",
        "        return out\n",
        "\n",
        "#   The Perigender Layer is a combination of the aforementioned function in the following fashion : \n",
        "#    \n",
        "#      1. Conv_layer_1 ---> MaxPool2d_1 \n",
        "#      2. Skip_function_1\n",
        "#      3. Residual_batch_1             \n",
        "#      4. Skip_function_2\n",
        "#      5. Residual_batch_2\n",
        "#      6. Skip_function_3\n",
        "#      7. Residual_function_3\n",
        "#      8. Skip_function_4\n",
        "#      9. Residual_function_4  \n",
        "#     10. MaxPool2d_2\n",
        "#     11. Concatenation_layer_1\n",
        "#     12. AvgPool_layer\n",
        "#\n",
        "\n",
        "class PeriGender(nn.Module):\n",
        "    def __init__(self, num_classes=2):\n",
        "        super(PeriGender, self).__init__()\n",
        "        self.conv1 = nn.Conv2d(1, 64, kernel_size=7, stride=2, padding=3, bias=False)\n",
        "        self.bn1 = nn.BatchNorm2d(64)\n",
        "        self.relu = nn.ReLU(inplace=True)\n",
        "        self.maxpool = nn.MaxPool2d(kernel_size=3, stride=2, padding=1)\n",
        "\n",
        "        self.resblock1 = nn.Sequential(ResBlock(64, 64), ResBlock(64, 64))\n",
        "        self.skip1 = SkipConnection(64, 64)\n",
        "\n",
        "        self.resblock2 = nn.Sequential(ResBlock(64, 128, stride=2), ResBlock(128, 128))\n",
        "        self.skip2 = SkipConnection(128, 128)\n",
        "\n",
        "        self.resblock3 = nn.Sequential(ResBlock(128, 256, stride=2), ResBlock(256, 256))\n",
        "        self.skip3 = SkipConnection(256, 256)\n",
        "\n",
        "        self.resblock4 = nn.Sequential(ResBlock(256, 512, stride=2), ResBlock(512, 512))\n",
        "        self.skip4 = SkipConnection(512, 512)\n",
        "\n",
        "        self.concat = nn.Sequential(nn.Conv2d(1920, 524, kernel_size=1, stride=1, padding=0), nn.ReLU(inplace=True))\n",
        "\n",
        "        self.avgpool = nn.AdaptiveAvgPool2d((1, 1))\n",
        "        self.fc = nn.Linear(524, num_classes)\n",
        "\n",
        "    def forward(self, x):\n",
        "        out = self.conv1(x)\n",
        "        out = self.bn1(out)\n",
        "        out = self.relu(out)\n",
        "        out = self.maxpool(out)\n",
        "\n",
        "        out = self.resblock1(out)\n",
        "        skip1 = self.skip1(out)\n",
        "        out += skip1\n",
        "\n",
        "        out = self.resblock2(out)\n",
        "        skip2 = self.skip2(out)\n"
      ],
      "metadata": {
        "id": "4QGAIdzR70rM"
      },
      "execution_count": null,
      "outputs": []
    },
    {
      "cell_type": "markdown",
      "source": [
        "# Training and testing loop\n",
        "In this section we will \n",
        "\n",
        "1.   Create Train and Test folders inside each subclass\n",
        "\n",
        "2.   Split the data 90-10\n",
        "\n",
        "3.   Build the Training-Testing loop\n",
        "\n",
        "4.   Build the accuracy function\n",
        "\n",
        "\n"
      ],
      "metadata": {
        "id": "zzOHQnwPYe3I"
      }
    },
    {
      "cell_type": "code",
      "source": [
        "# Define the training function\n",
        "def train(model, criterion, optimizer, train_loader, num_epochs):\n",
        "    for epoch in range(num_epochs):\n",
        "        running_loss = 0.0\n",
        "        for i, data in enumerate(train_loader, 0):\n",
        "            inputs, labels = data\n",
        "            optimizer.zero_grad()\n",
        "            outputs = model(inputs)\n",
        "            loss = criterion(outputs, labels)\n",
        "            loss.backward()\n",
        "            optimizer.step()\n",
        "            running_loss += loss.item()\n",
        "            \n",
        "            # Print statistics every 100 batches\n",
        "            if i % 100 == 99:\n",
        "                print('[Epoch %d, Batch %d] Loss: %.3f' %\n",
        "                      (epoch + 1, i + 1, running_loss / 100))\n",
        "                running_loss = 0.0\n",
        "                \n",
        "# Define the testing function\n",
        "def test(model, test_loader):\n",
        "    correct = 0\n",
        "    total = 0\n",
        "    with torch.no_grad():\n",
        "        for data in test_loader:\n",
        "            images, labels = data\n",
        "            outputs = model(images)\n",
        "            _, predicted = torch.max(outputs.data, 1)\n",
        "            total += labels.size(0)\n",
        "            correct += (predicted == labels).sum().item()\n",
        "            \n",
        "    print('Accuracy of the network on the test images: %d %%' % (\n",
        "        100 * correct / total))\n",
        "\n",
        "# Define the transform for preprocessing the image\n",
        "transform = transforms.Compose([\n",
        "    transforms.Resize((224, 224)),\n",
        "    transforms.ToTensor(),\n",
        "    transforms.Normalize([0.5, 0.5, 0.5], [0.5, 0.5, 0.5])\n",
        "])\n",
        "\n",
        "# Load the data\n",
        "train_dataset = torchvision.datasets.ImageFolder(root='/content/ubipr/UBIPeriocular/male/train', transform=transform)\n",
        "train_loader = DataLoader(train_dataset, batch_size=4, shuffle=True, num_workers=2)\n",
        "\n",
        "test_dataset = torchvision.datasets.ImageFolder(root='/content/ubipr/UBIPeriocular/male/test', transform=transform)\n",
        "test_loader = DataLoader(test_dataset, batch_size=4, shuffle=False, num_workers=2)\n",
        "\n",
        "# Create the PeriGender CNN model, loss function, and optimizer\n",
        "model = PeriGenderCNN()\n",
        "criterion = nn.CrossEntropyLoss()\n",
        "optimizer = optim.SGD(model.parameters(), lr=0.001, momentum=0.9)\n"
      ],
      "metadata": {
        "id": "owh6Ibs8Y8li"
      },
      "execution_count": null,
      "outputs": []
    }
  ]
}